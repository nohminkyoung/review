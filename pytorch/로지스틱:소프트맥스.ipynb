{
 "cells": [
  {
   "cell_type": "markdown",
   "id": "914ef778",
   "metadata": {},
   "source": [
    "# 로지스틱_nn.Module\n",
    "- 이진분류"
   ]
  },
  {
   "cell_type": "code",
   "execution_count": 33,
   "id": "852064c8",
   "metadata": {},
   "outputs": [],
   "source": [
    "import torch\n",
    "import torch.nn as nn\n",
    "import torch.nn.functional as F\n",
    "import torch.optim as optim"
   ]
  },
  {
   "cell_type": "code",
   "execution_count": 34,
   "id": "1b57aaa1",
   "metadata": {},
   "outputs": [],
   "source": [
    "x = torch.FloatTensor([[1,2],[2,3],[3,1],[4,3],[5,3],[6,2]])\n",
    "y = torch.FloatTensor([[0],[0],[0],[1],[1],[1]])"
   ]
  },
  {
   "cell_type": "code",
   "execution_count": 35,
   "id": "bbeea884",
   "metadata": {},
   "outputs": [
    {
     "name": "stdout",
     "output_type": "stream",
     "text": [
      "torch.Size([6, 2])\n",
      "torch.Size([6, 1])\n"
     ]
    }
   ],
   "source": [
    "print(x.shape)\n",
    "print(y.shape)"
   ]
  },
  {
   "cell_type": "markdown",
   "id": "bb33264c",
   "metadata": {},
   "source": [
    "- nn.sequential()로 nn.Module층을 차례로 쌓을 수 있음"
   ]
  },
  {
   "cell_type": "code",
   "execution_count": 36,
   "id": "86cca941",
   "metadata": {},
   "outputs": [],
   "source": [
    "model = nn.Sequential(\n",
    "                    nn.Linear(2,1),\n",
    "                    nn.Sigmoid())"
   ]
  },
  {
   "cell_type": "code",
   "execution_count": 37,
   "id": "5fee313a",
   "metadata": {},
   "outputs": [
    {
     "data": {
      "text/plain": [
       "[Parameter containing:\n",
       " tensor([[-0.1455,  0.3597]], requires_grad=True),\n",
       " Parameter containing:\n",
       " tensor([0.0983], requires_grad=True)]"
      ]
     },
     "execution_count": 37,
     "metadata": {},
     "output_type": "execute_result"
    }
   ],
   "source": [
    "# 학습 전 파라미터\n",
    "list(model.parameters())"
   ]
  },
  {
   "cell_type": "code",
   "execution_count": 38,
   "id": "12ce6631",
   "metadata": {},
   "outputs": [
    {
     "data": {
      "text/plain": [
       "tensor([[0.6620],\n",
       "        [0.7082],\n",
       "        [0.5054],\n",
       "        [0.6447],\n",
       "        [0.6107],\n",
       "        [0.4862]], grad_fn=<SigmoidBackward0>)"
      ]
     },
     "execution_count": 38,
     "metadata": {},
     "output_type": "execute_result"
    }
   ],
   "source": [
    "# 학습 전 예측값\n",
    "model(x)"
   ]
  },
  {
   "cell_type": "code",
   "execution_count": 39,
   "id": "0a074f5a",
   "metadata": {},
   "outputs": [],
   "source": [
    "optimizer = optim.SGD(model.parameters(), lr=1)"
   ]
  },
  {
   "cell_type": "code",
   "execution_count": 40,
   "id": "50b6deec",
   "metadata": {
    "collapsed": true
   },
   "outputs": [
    {
     "name": "stdout",
     "output_type": "stream",
     "text": [
      "Epoch    0/1000 Cost: 0.778947 Accuracy 33.33%\n",
      "Epoch   10/1000 Cost: 0.606802 Accuracy 66.67%\n",
      "Epoch   20/1000 Cost: 0.446548 Accuracy 66.67%\n",
      "Epoch   30/1000 Cost: 0.376169 Accuracy 83.33%\n",
      "Epoch   40/1000 Cost: 0.318946 Accuracy 83.33%\n",
      "Epoch   50/1000 Cost: 0.268428 Accuracy 83.33%\n",
      "Epoch   60/1000 Cost: 0.222594 Accuracy 100.00%\n",
      "Epoch   70/1000 Cost: 0.183695 Accuracy 100.00%\n",
      "Epoch   80/1000 Cost: 0.158160 Accuracy 100.00%\n",
      "Epoch   90/1000 Cost: 0.144616 Accuracy 100.00%\n",
      "Epoch  100/1000 Cost: 0.134716 Accuracy 100.00%\n",
      "Epoch  110/1000 Cost: 0.126157 Accuracy 100.00%\n",
      "Epoch  120/1000 Cost: 0.118640 Accuracy 100.00%\n",
      "Epoch  130/1000 Cost: 0.111984 Accuracy 100.00%\n",
      "Epoch  140/1000 Cost: 0.106051 Accuracy 100.00%\n",
      "Epoch  150/1000 Cost: 0.100728 Accuracy 100.00%\n",
      "Epoch  160/1000 Cost: 0.095925 Accuracy 100.00%\n",
      "Epoch  170/1000 Cost: 0.091571 Accuracy 100.00%\n",
      "Epoch  180/1000 Cost: 0.087604 Accuracy 100.00%\n",
      "Epoch  190/1000 Cost: 0.083974 Accuracy 100.00%\n",
      "Epoch  200/1000 Cost: 0.080641 Accuracy 100.00%\n",
      "Epoch  210/1000 Cost: 0.077569 Accuracy 100.00%\n",
      "Epoch  220/1000 Cost: 0.074728 Accuracy 100.00%\n",
      "Epoch  230/1000 Cost: 0.072092 Accuracy 100.00%\n",
      "Epoch  240/1000 Cost: 0.069641 Accuracy 100.00%\n",
      "Epoch  250/1000 Cost: 0.067355 Accuracy 100.00%\n",
      "Epoch  260/1000 Cost: 0.065218 Accuracy 100.00%\n",
      "Epoch  270/1000 Cost: 0.063216 Accuracy 100.00%\n",
      "Epoch  280/1000 Cost: 0.061336 Accuracy 100.00%\n",
      "Epoch  290/1000 Cost: 0.059567 Accuracy 100.00%\n",
      "Epoch  300/1000 Cost: 0.057899 Accuracy 100.00%\n",
      "Epoch  310/1000 Cost: 0.056324 Accuracy 100.00%\n",
      "Epoch  320/1000 Cost: 0.054835 Accuracy 100.00%\n",
      "Epoch  330/1000 Cost: 0.053424 Accuracy 100.00%\n",
      "Epoch  340/1000 Cost: 0.052085 Accuracy 100.00%\n",
      "Epoch  350/1000 Cost: 0.050813 Accuracy 100.00%\n",
      "Epoch  360/1000 Cost: 0.049603 Accuracy 100.00%\n",
      "Epoch  370/1000 Cost: 0.048451 Accuracy 100.00%\n",
      "Epoch  380/1000 Cost: 0.047352 Accuracy 100.00%\n",
      "Epoch  390/1000 Cost: 0.046302 Accuracy 100.00%\n",
      "Epoch  400/1000 Cost: 0.045299 Accuracy 100.00%\n",
      "Epoch  410/1000 Cost: 0.044339 Accuracy 100.00%\n",
      "Epoch  420/1000 Cost: 0.043420 Accuracy 100.00%\n",
      "Epoch  430/1000 Cost: 0.042539 Accuracy 100.00%\n",
      "Epoch  440/1000 Cost: 0.041694 Accuracy 100.00%\n",
      "Epoch  450/1000 Cost: 0.040882 Accuracy 100.00%\n",
      "Epoch  460/1000 Cost: 0.040101 Accuracy 100.00%\n",
      "Epoch  470/1000 Cost: 0.039350 Accuracy 100.00%\n",
      "Epoch  480/1000 Cost: 0.038628 Accuracy 100.00%\n",
      "Epoch  490/1000 Cost: 0.037932 Accuracy 100.00%\n",
      "Epoch  500/1000 Cost: 0.037261 Accuracy 100.00%\n",
      "Epoch  510/1000 Cost: 0.036613 Accuracy 100.00%\n",
      "Epoch  520/1000 Cost: 0.035988 Accuracy 100.00%\n",
      "Epoch  530/1000 Cost: 0.035384 Accuracy 100.00%\n",
      "Epoch  540/1000 Cost: 0.034801 Accuracy 100.00%\n",
      "Epoch  550/1000 Cost: 0.034237 Accuracy 100.00%\n",
      "Epoch  560/1000 Cost: 0.033691 Accuracy 100.00%\n",
      "Epoch  570/1000 Cost: 0.033162 Accuracy 100.00%\n",
      "Epoch  580/1000 Cost: 0.032650 Accuracy 100.00%\n",
      "Epoch  590/1000 Cost: 0.032153 Accuracy 100.00%\n",
      "Epoch  600/1000 Cost: 0.031672 Accuracy 100.00%\n",
      "Epoch  610/1000 Cost: 0.031205 Accuracy 100.00%\n",
      "Epoch  620/1000 Cost: 0.030752 Accuracy 100.00%\n",
      "Epoch  630/1000 Cost: 0.030312 Accuracy 100.00%\n",
      "Epoch  640/1000 Cost: 0.029885 Accuracy 100.00%\n",
      "Epoch  650/1000 Cost: 0.029469 Accuracy 100.00%\n",
      "Epoch  660/1000 Cost: 0.029065 Accuracy 100.00%\n",
      "Epoch  670/1000 Cost: 0.028672 Accuracy 100.00%\n",
      "Epoch  680/1000 Cost: 0.028290 Accuracy 100.00%\n",
      "Epoch  690/1000 Cost: 0.027918 Accuracy 100.00%\n",
      "Epoch  700/1000 Cost: 0.027556 Accuracy 100.00%\n",
      "Epoch  710/1000 Cost: 0.027203 Accuracy 100.00%\n",
      "Epoch  720/1000 Cost: 0.026859 Accuracy 100.00%\n",
      "Epoch  730/1000 Cost: 0.026524 Accuracy 100.00%\n",
      "Epoch  740/1000 Cost: 0.026197 Accuracy 100.00%\n",
      "Epoch  750/1000 Cost: 0.025878 Accuracy 100.00%\n",
      "Epoch  760/1000 Cost: 0.025567 Accuracy 100.00%\n",
      "Epoch  770/1000 Cost: 0.025263 Accuracy 100.00%\n",
      "Epoch  780/1000 Cost: 0.024967 Accuracy 100.00%\n",
      "Epoch  790/1000 Cost: 0.024677 Accuracy 100.00%\n",
      "Epoch  800/1000 Cost: 0.024394 Accuracy 100.00%\n",
      "Epoch  810/1000 Cost: 0.024118 Accuracy 100.00%\n",
      "Epoch  820/1000 Cost: 0.023848 Accuracy 100.00%\n",
      "Epoch  830/1000 Cost: 0.023584 Accuracy 100.00%\n",
      "Epoch  840/1000 Cost: 0.023325 Accuracy 100.00%\n",
      "Epoch  850/1000 Cost: 0.023073 Accuracy 100.00%\n",
      "Epoch  860/1000 Cost: 0.022826 Accuracy 100.00%\n",
      "Epoch  870/1000 Cost: 0.022584 Accuracy 100.00%\n",
      "Epoch  880/1000 Cost: 0.022347 Accuracy 100.00%\n",
      "Epoch  890/1000 Cost: 0.022115 Accuracy 100.00%\n",
      "Epoch  900/1000 Cost: 0.021888 Accuracy 100.00%\n",
      "Epoch  910/1000 Cost: 0.021666 Accuracy 100.00%\n",
      "Epoch  920/1000 Cost: 0.021448 Accuracy 100.00%\n",
      "Epoch  930/1000 Cost: 0.021234 Accuracy 100.00%\n",
      "Epoch  940/1000 Cost: 0.021025 Accuracy 100.00%\n",
      "Epoch  950/1000 Cost: 0.020820 Accuracy 100.00%\n",
      "Epoch  960/1000 Cost: 0.020619 Accuracy 100.00%\n",
      "Epoch  970/1000 Cost: 0.020422 Accuracy 100.00%\n",
      "Epoch  980/1000 Cost: 0.020228 Accuracy 100.00%\n",
      "Epoch  990/1000 Cost: 0.020038 Accuracy 100.00%\n"
     ]
    }
   ],
   "source": [
    "for epoch in range(1000):\n",
    "    \n",
    "    hypothesis = model(x)\n",
    "    \n",
    "    # 2진분류이기 때문에 binary_cross_entropy 사용\n",
    "    cost = F.binary_cross_entropy(hypothesis,y) \n",
    "    \n",
    "    optimizer.zero_grad()\n",
    "    cost.backward()\n",
    "    optimizer.step()\n",
    "    \n",
    "    if epoch % 10 == 0:\n",
    "        prediction = hypothesis >= torch.FloatTensor([0.5]) # 예측값이 0.5를 넘으면 True로 간주\n",
    "                                                            # 1/0두가지값으로 받아오기 위함\n",
    "            \n",
    "        correct_prediction = prediction.float() == y # 실제값과 일치하는 경우만 True로 간주\n",
    "        \n",
    "        accuracy = correct_prediction.sum().item() / len(correct_prediction) # 정확도를 계산\n",
    "        \n",
    "        print('Epoch {:4d}/{} Cost: {:.6f} Accuracy {:2.2f}%'.format(\n",
    "            epoch, 1000, cost.item(), accuracy * 100,\n",
    "        ))"
   ]
  },
  {
   "cell_type": "code",
   "execution_count": 41,
   "id": "b0abe29c",
   "metadata": {},
   "outputs": [
    {
     "data": {
      "text/plain": [
       "[Parameter containing:\n",
       " tensor([[3.2521, 1.5174]], requires_grad=True),\n",
       " Parameter containing:\n",
       " tensor([-14.4777], requires_grad=True)]"
      ]
     },
     "execution_count": 41,
     "metadata": {},
     "output_type": "execute_result"
    }
   ],
   "source": [
    "# 학습된 파라미터\n",
    "list(model.parameters())"
   ]
  },
  {
   "cell_type": "code",
   "execution_count": 42,
   "id": "5b033b96",
   "metadata": {},
   "outputs": [
    {
     "data": {
      "text/plain": [
       "tensor([[2.7711e-04],\n",
       "        [3.1636e-02],\n",
       "        [3.9014e-02],\n",
       "        [9.5618e-01],\n",
       "        [9.9823e-01],\n",
       "        [9.9969e-01]], grad_fn=<SigmoidBackward0>)"
      ]
     },
     "execution_count": 42,
     "metadata": {},
     "output_type": "execute_result"
    }
   ],
   "source": [
    "# 학습된 모델의 예측값(0.5를 기준으로 1/0)\n",
    "model(x)"
   ]
  },
  {
   "cell_type": "markdown",
   "id": "0196c76e",
   "metadata": {},
   "source": [
    "# 로지스틱_클래스로구현"
   ]
  },
  {
   "cell_type": "code",
   "execution_count": 47,
   "id": "40e97337",
   "metadata": {},
   "outputs": [],
   "source": [
    "class BinaryClassifier(nn.Module):\n",
    "    def __init__(self):\n",
    "        super().__init__()\n",
    "        self.linear = nn.Linear(2,1)\n",
    "        self.sigmoid = nn.Sigmoid()\n",
    "        \n",
    "    def forward(self,x):\n",
    "        return self.sigmoid(self.linear(x))"
   ]
  },
  {
   "cell_type": "code",
   "execution_count": 48,
   "id": "a4757d2e",
   "metadata": {},
   "outputs": [],
   "source": [
    "x = torch.FloatTensor([[1,2],[2,3],[3,1],[4,3],[5,3],[6,2]])\n",
    "y = torch.FloatTensor([[0],[0],[0],[1],[1],[1]])"
   ]
  },
  {
   "cell_type": "code",
   "execution_count": 49,
   "id": "878e5ad3",
   "metadata": {},
   "outputs": [],
   "source": [
    "model = BinaryClassifier()"
   ]
  },
  {
   "cell_type": "code",
   "execution_count": 50,
   "id": "da2e8003",
   "metadata": {
    "collapsed": true
   },
   "outputs": [
    {
     "name": "stdout",
     "output_type": "stream",
     "text": [
      "Epoch    0/1000 Cost: 0.734527 Accuracy 50.00%\n",
      "Epoch   10/1000 Cost: 0.446570 Accuracy 66.67%\n",
      "Epoch   20/1000 Cost: 0.448868 Accuracy 66.67%\n",
      "Epoch   30/1000 Cost: 0.375859 Accuracy 83.33%\n",
      "Epoch   40/1000 Cost: 0.318583 Accuracy 83.33%\n",
      "Epoch   50/1000 Cost: 0.268096 Accuracy 83.33%\n",
      "Epoch   60/1000 Cost: 0.222295 Accuracy 100.00%\n",
      "Epoch   70/1000 Cost: 0.183465 Accuracy 100.00%\n",
      "Epoch   80/1000 Cost: 0.158036 Accuracy 100.00%\n",
      "Epoch   90/1000 Cost: 0.144541 Accuracy 100.00%\n",
      "Epoch  100/1000 Cost: 0.134652 Accuracy 100.00%\n",
      "Epoch  110/1000 Cost: 0.126101 Accuracy 100.00%\n",
      "Epoch  120/1000 Cost: 0.118591 Accuracy 100.00%\n",
      "Epoch  130/1000 Cost: 0.111941 Accuracy 100.00%\n",
      "Epoch  140/1000 Cost: 0.106012 Accuracy 100.00%\n",
      "Epoch  150/1000 Cost: 0.100693 Accuracy 100.00%\n",
      "Epoch  160/1000 Cost: 0.095894 Accuracy 100.00%\n",
      "Epoch  170/1000 Cost: 0.091542 Accuracy 100.00%\n",
      "Epoch  180/1000 Cost: 0.087577 Accuracy 100.00%\n",
      "Epoch  190/1000 Cost: 0.083950 Accuracy 100.00%\n",
      "Epoch  200/1000 Cost: 0.080619 Accuracy 100.00%\n",
      "Epoch  210/1000 Cost: 0.077548 Accuracy 100.00%\n",
      "Epoch  220/1000 Cost: 0.074709 Accuracy 100.00%\n",
      "Epoch  230/1000 Cost: 0.072075 Accuracy 100.00%\n",
      "Epoch  240/1000 Cost: 0.069625 Accuracy 100.00%\n",
      "Epoch  250/1000 Cost: 0.067340 Accuracy 100.00%\n",
      "Epoch  260/1000 Cost: 0.065204 Accuracy 100.00%\n",
      "Epoch  270/1000 Cost: 0.063202 Accuracy 100.00%\n",
      "Epoch  280/1000 Cost: 0.061323 Accuracy 100.00%\n",
      "Epoch  290/1000 Cost: 0.059555 Accuracy 100.00%\n",
      "Epoch  300/1000 Cost: 0.057888 Accuracy 100.00%\n",
      "Epoch  310/1000 Cost: 0.056314 Accuracy 100.00%\n",
      "Epoch  320/1000 Cost: 0.054825 Accuracy 100.00%\n",
      "Epoch  330/1000 Cost: 0.053414 Accuracy 100.00%\n",
      "Epoch  340/1000 Cost: 0.052076 Accuracy 100.00%\n",
      "Epoch  350/1000 Cost: 0.050805 Accuracy 100.00%\n",
      "Epoch  360/1000 Cost: 0.049595 Accuracy 100.00%\n",
      "Epoch  370/1000 Cost: 0.048443 Accuracy 100.00%\n",
      "Epoch  380/1000 Cost: 0.047344 Accuracy 100.00%\n",
      "Epoch  390/1000 Cost: 0.046295 Accuracy 100.00%\n",
      "Epoch  400/1000 Cost: 0.045292 Accuracy 100.00%\n",
      "Epoch  410/1000 Cost: 0.044333 Accuracy 100.00%\n",
      "Epoch  420/1000 Cost: 0.043414 Accuracy 100.00%\n",
      "Epoch  430/1000 Cost: 0.042533 Accuracy 100.00%\n",
      "Epoch  440/1000 Cost: 0.041688 Accuracy 100.00%\n",
      "Epoch  450/1000 Cost: 0.040876 Accuracy 100.00%\n",
      "Epoch  460/1000 Cost: 0.040096 Accuracy 100.00%\n",
      "Epoch  470/1000 Cost: 0.039345 Accuracy 100.00%\n",
      "Epoch  480/1000 Cost: 0.038623 Accuracy 100.00%\n",
      "Epoch  490/1000 Cost: 0.037927 Accuracy 100.00%\n",
      "Epoch  500/1000 Cost: 0.037256 Accuracy 100.00%\n",
      "Epoch  510/1000 Cost: 0.036609 Accuracy 100.00%\n",
      "Epoch  520/1000 Cost: 0.035984 Accuracy 100.00%\n",
      "Epoch  530/1000 Cost: 0.035380 Accuracy 100.00%\n",
      "Epoch  540/1000 Cost: 0.034797 Accuracy 100.00%\n",
      "Epoch  550/1000 Cost: 0.034233 Accuracy 100.00%\n",
      "Epoch  560/1000 Cost: 0.033687 Accuracy 100.00%\n",
      "Epoch  570/1000 Cost: 0.033158 Accuracy 100.00%\n",
      "Epoch  580/1000 Cost: 0.032646 Accuracy 100.00%\n",
      "Epoch  590/1000 Cost: 0.032150 Accuracy 100.00%\n",
      "Epoch  600/1000 Cost: 0.031669 Accuracy 100.00%\n",
      "Epoch  610/1000 Cost: 0.031202 Accuracy 100.00%\n",
      "Epoch  620/1000 Cost: 0.030749 Accuracy 100.00%\n",
      "Epoch  630/1000 Cost: 0.030309 Accuracy 100.00%\n",
      "Epoch  640/1000 Cost: 0.029882 Accuracy 100.00%\n",
      "Epoch  650/1000 Cost: 0.029466 Accuracy 100.00%\n",
      "Epoch  660/1000 Cost: 0.029063 Accuracy 100.00%\n",
      "Epoch  670/1000 Cost: 0.028670 Accuracy 100.00%\n",
      "Epoch  680/1000 Cost: 0.028288 Accuracy 100.00%\n",
      "Epoch  690/1000 Cost: 0.027916 Accuracy 100.00%\n",
      "Epoch  700/1000 Cost: 0.027553 Accuracy 100.00%\n",
      "Epoch  710/1000 Cost: 0.027200 Accuracy 100.00%\n",
      "Epoch  720/1000 Cost: 0.026856 Accuracy 100.00%\n",
      "Epoch  730/1000 Cost: 0.026521 Accuracy 100.00%\n",
      "Epoch  740/1000 Cost: 0.026194 Accuracy 100.00%\n",
      "Epoch  750/1000 Cost: 0.025876 Accuracy 100.00%\n",
      "Epoch  760/1000 Cost: 0.025565 Accuracy 100.00%\n",
      "Epoch  770/1000 Cost: 0.025261 Accuracy 100.00%\n",
      "Epoch  780/1000 Cost: 0.024964 Accuracy 100.00%\n",
      "Epoch  790/1000 Cost: 0.024675 Accuracy 100.00%\n",
      "Epoch  800/1000 Cost: 0.024392 Accuracy 100.00%\n",
      "Epoch  810/1000 Cost: 0.024116 Accuracy 100.00%\n",
      "Epoch  820/1000 Cost: 0.023846 Accuracy 100.00%\n",
      "Epoch  830/1000 Cost: 0.023582 Accuracy 100.00%\n",
      "Epoch  840/1000 Cost: 0.023324 Accuracy 100.00%\n",
      "Epoch  850/1000 Cost: 0.023071 Accuracy 100.00%\n",
      "Epoch  860/1000 Cost: 0.022824 Accuracy 100.00%\n",
      "Epoch  870/1000 Cost: 0.022582 Accuracy 100.00%\n",
      "Epoch  880/1000 Cost: 0.022345 Accuracy 100.00%\n",
      "Epoch  890/1000 Cost: 0.022114 Accuracy 100.00%\n",
      "Epoch  900/1000 Cost: 0.021887 Accuracy 100.00%\n",
      "Epoch  910/1000 Cost: 0.021664 Accuracy 100.00%\n",
      "Epoch  920/1000 Cost: 0.021446 Accuracy 100.00%\n",
      "Epoch  930/1000 Cost: 0.021233 Accuracy 100.00%\n",
      "Epoch  940/1000 Cost: 0.021024 Accuracy 100.00%\n",
      "Epoch  950/1000 Cost: 0.020819 Accuracy 100.00%\n",
      "Epoch  960/1000 Cost: 0.020618 Accuracy 100.00%\n",
      "Epoch  970/1000 Cost: 0.020420 Accuracy 100.00%\n",
      "Epoch  980/1000 Cost: 0.020227 Accuracy 100.00%\n",
      "Epoch  990/1000 Cost: 0.020037 Accuracy 100.00%\n"
     ]
    }
   ],
   "source": [
    "optimizer = optim.SGD(model.parameters(), lr=1)\n",
    "\n",
    "for epoch in range(1000):\n",
    "    \n",
    "    hypothesis = model(x)\n",
    "    cost = F.binary_cross_entropy(hypothesis, y)\n",
    "    \n",
    "    optimizer.zero_grad()\n",
    "    cost.backward()\n",
    "    optimizer.step()\n",
    "    \n",
    "    if epoch % 10 == 0:\n",
    "        prediction = hypothesis >= torch.FloatTensor([0.5]) # 예측값이 0.5를 넘으면 True로 간주\n",
    "        correct_prediction = prediction.float() == y # 실제값과 일치하는 경우만 True로 간주\n",
    "        accuracy = correct_prediction.sum().item() / len(correct_prediction) # 정확도를 계산\n",
    "        print('Epoch {:4d}/{} Cost: {:.6f} Accuracy {:2.2f}%'.format( # 각 에포크마다 정확도를 출력\n",
    "            epoch, 1000, cost.item(), accuracy * 100,\n",
    "        ))"
   ]
  },
  {
   "cell_type": "code",
   "execution_count": null,
   "id": "1b93c9af",
   "metadata": {},
   "outputs": [],
   "source": []
  },
  {
   "cell_type": "markdown",
   "id": "d6d62833",
   "metadata": {},
   "source": [
    "# 소프트맥스_nn.Module\n",
    "- 다중분류"
   ]
  },
  {
   "cell_type": "code",
   "execution_count": 65,
   "id": "0a6250dd",
   "metadata": {},
   "outputs": [
    {
     "data": {
      "text/plain": [
       "<torch._C.Generator at 0x107d70f70>"
      ]
     },
     "execution_count": 65,
     "metadata": {},
     "output_type": "execute_result"
    }
   ],
   "source": [
    "import torch\n",
    "import torch.nn as nn\n",
    "import torch.nn.functional as F\n",
    "import torch.optim as optim\n",
    "torch.manual_seed(1)"
   ]
  },
  {
   "cell_type": "markdown",
   "id": "cb669677",
   "metadata": {},
   "source": [
    "(원핫인코딩 만들기)\n",
    "- x의 개수를 행, 레이블의 종류 수를 열의 크기로 하는 0값들을 생성\n",
    "    - y_one_hot = torch.zeros(x, y)\n",
    "- scatter_을 이용해서 변환\n",
    "    - y_one_hot.scatter_(축방향, 새로 나타낼 인덱스, 이값으로 표현)"
   ]
  },
  {
   "cell_type": "code",
   "execution_count": 66,
   "id": "c2da0765",
   "metadata": {},
   "outputs": [],
   "source": [
    "x = torch.FloatTensor([[1, 2, 1, 1],\n",
    "                        [2, 1, 3, 2],\n",
    "                        [3, 1, 3, 4],\n",
    "                        [4, 1, 5, 5],\n",
    "                        [1, 7, 5, 5],\n",
    "                        [1, 2, 5, 6],\n",
    "                        [1, 6, 6, 6],\n",
    "                        [1, 7, 7, 7]])\n",
    "y = torch.LongTensor([2, 2, 2, 1, 1, 1, 0, 0])"
   ]
  },
  {
   "cell_type": "code",
   "execution_count": null,
   "id": "3eb962da",
   "metadata": {},
   "outputs": [],
   "source": []
  },
  {
   "cell_type": "code",
   "execution_count": 67,
   "id": "608d4f04",
   "metadata": {},
   "outputs": [
    {
     "name": "stdout",
     "output_type": "stream",
     "text": [
      "tensor([[0., 0., 1.],\n",
      "        [0., 0., 1.],\n",
      "        [0., 0., 1.],\n",
      "        [0., 1., 0.],\n",
      "        [0., 1., 0.],\n",
      "        [0., 1., 0.],\n",
      "        [1., 0., 0.],\n",
      "        [1., 0., 0.]])\n"
     ]
    }
   ],
   "source": [
    "# 원핫인코딩 \n",
    "y_one_hot = torch.zeros(8, 3) # x의 행이 8개, y의 종류가 3개이기 때문에 (8,3)\n",
    "y_one_hot.scatter_(1, y.unsqueeze(1), 1) # l방향으로 y값을 1로 표현한 원핫인코딩\n",
    "print(y_one_hot)"
   ]
  },
  {
   "cell_type": "code",
   "execution_count": 68,
   "id": "2cfd7a10",
   "metadata": {},
   "outputs": [
    {
     "name": "stdout",
     "output_type": "stream",
     "text": [
      "torch.Size([8, 4])\n",
      "torch.Size([8, 3])\n"
     ]
    }
   ],
   "source": [
    "print(x.shape)\n",
    "print(y_one_hot.shape)"
   ]
  },
  {
   "cell_type": "code",
   "execution_count": 69,
   "id": "c29f322e",
   "metadata": {},
   "outputs": [],
   "source": [
    "model = nn.Linear(4,3) # x와 y의 열값을 활용해 만들어냄\n",
    "                       #(4개의 특성을 가지고 3개의 클래스로 분류)"
   ]
  },
  {
   "cell_type": "code",
   "execution_count": 70,
   "id": "87a13f5b",
   "metadata": {},
   "outputs": [
    {
     "name": "stdout",
     "output_type": "stream",
     "text": [
      "Epoch    0/1000 Cost: 1.616785\n",
      "Epoch  100/1000 Cost: 1.616785\n",
      "Epoch  200/1000 Cost: 1.616785\n",
      "Epoch  300/1000 Cost: 1.616785\n",
      "Epoch  400/1000 Cost: 1.616785\n",
      "Epoch  500/1000 Cost: 1.616785\n",
      "Epoch  600/1000 Cost: 1.616785\n",
      "Epoch  700/1000 Cost: 1.616785\n",
      "Epoch  800/1000 Cost: 1.616785\n",
      "Epoch  900/1000 Cost: 1.616785\n",
      "Epoch 1000/1000 Cost: 1.616785\n"
     ]
    }
   ],
   "source": [
    "for epoch in range(1000 + 1):\n",
    "\n",
    "    prediction = model(x)\n",
    "\n",
    "    # cost를 cross_entropy로 계산하기 때문에 softmax를 따로 추가할 필요없음\n",
    "    cost = F.cross_entropy(prediction, y)\n",
    "\n",
    "    # cost로 H(x) 개선\n",
    "    optimizer.zero_grad()\n",
    "    cost.backward()\n",
    "    optimizer.step()\n",
    "\n",
    "    # 20번마다 로그 출력\n",
    "    if epoch % 100 == 0:\n",
    "        print('Epoch {:4d}/{} Cost: {:.6f}'.format(\n",
    "            epoch, 1000, cost.item()\n",
    "        ))"
   ]
  },
  {
   "cell_type": "code",
   "execution_count": 71,
   "id": "462fa64e",
   "metadata": {},
   "outputs": [
    {
     "data": {
      "text/plain": [
       "[Parameter containing:\n",
       " tensor([[ 0.2576, -0.2207, -0.0969,  0.2347],\n",
       "         [-0.4707,  0.2999, -0.1029,  0.2544],\n",
       "         [ 0.0695, -0.0612,  0.1387,  0.0247]], requires_grad=True),\n",
       " Parameter containing:\n",
       " tensor([ 0.1826, -0.1949, -0.0365], requires_grad=True)]"
      ]
     },
     "execution_count": 71,
     "metadata": {},
     "output_type": "execute_result"
    }
   ],
   "source": [
    "list(model.parameters())"
   ]
  },
  {
   "cell_type": "markdown",
   "id": "e36eed60",
   "metadata": {},
   "source": [
    "# 소프트맥스_클래스로 구현"
   ]
  },
  {
   "cell_type": "code",
   "execution_count": 72,
   "id": "ff5c4322",
   "metadata": {},
   "outputs": [],
   "source": [
    "x = torch.FloatTensor([[1, 2, 1, 1],\n",
    "                        [2, 1, 3, 2],\n",
    "                        [3, 1, 3, 4],\n",
    "                        [4, 1, 5, 5],\n",
    "                        [1, 7, 5, 5],\n",
    "                        [1, 2, 5, 6],\n",
    "                        [1, 6, 6, 6],\n",
    "                        [1, 7, 7, 7]])\n",
    "y = torch.LongTensor([2, 2, 2, 1, 1, 1, 0, 0])"
   ]
  },
  {
   "cell_type": "code",
   "execution_count": 74,
   "id": "9445e145",
   "metadata": {},
   "outputs": [],
   "source": [
    "class softmaxModel(nn.Module):\n",
    "    \n",
    "    def __init__(self):\n",
    "        super().__init__()\n",
    "        self.linear = nn.Linear(4,3)\n",
    "    \n",
    "    def forward(self,x):\n",
    "        return self.linear"
   ]
  },
  {
   "cell_type": "code",
   "execution_count": 75,
   "id": "92cc5d55",
   "metadata": {},
   "outputs": [],
   "source": [
    "model = softmaxModel()"
   ]
  },
  {
   "cell_type": "code",
   "execution_count": null,
   "id": "a5831ece",
   "metadata": {},
   "outputs": [],
   "source": []
  },
  {
   "cell_type": "markdown",
   "id": "f3be741d",
   "metadata": {},
   "source": [
    "- F.cross_entropy()는 그 자체로 소프트맥스 함수를 포함하고 있으므로 가설에서는 소프트맥스 함수를 사용할 필요\n",
    "- cost를 다른값으로 사용할 경우 sotfmax를 구현해줘야함(이때 원핫인코딩 y값을 사용)\n",
    "    - F.softmax(z, dim=1) (dim=1 : 두번째 차원에 대해서 함수를 적용한다는 뜻)\n",
    "    - cost = (y_one_hot * -torch.log(hypothesis)).sum(dim=1).mean()"
   ]
  },
  {
   "cell_type": "code",
   "execution_count": null,
   "id": "598e77aa",
   "metadata": {},
   "outputs": [],
   "source": []
  }
 ],
 "metadata": {
  "kernelspec": {
   "display_name": "Python 3 (ipykernel)",
   "language": "python",
   "name": "python3"
  },
  "language_info": {
   "codemirror_mode": {
    "name": "ipython",
    "version": 3
   },
   "file_extension": ".py",
   "mimetype": "text/x-python",
   "name": "python",
   "nbconvert_exporter": "python",
   "pygments_lexer": "ipython3",
   "version": "3.9.16"
  }
 },
 "nbformat": 4,
 "nbformat_minor": 5
}
