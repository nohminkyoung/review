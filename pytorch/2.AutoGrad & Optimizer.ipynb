{
 "cells": [
  {
   "cell_type": "markdown",
   "id": "5ac0ea8f",
   "metadata": {},
   "source": [
    "# torch.nn.Module"
   ]
  },
  {
   "cell_type": "markdown",
   "id": "d07b7a68",
   "metadata": {},
   "source": [
    "- 딥러닝을 구성하는 layer의 base class\n",
    "- input, output, forward, backward 정의\n",
    "- 학습의 대상이 되는 parameter 정의 "
   ]
  },
  {
   "cell_type": "markdown",
   "id": "90d68593",
   "metadata": {},
   "source": [
    "## nn.Parameter\n",
    "- tensor 객체의 상속 객체\n",
    "- nn.module 내에 attribute가 될 때는 required_grad=True로 지정되어 학습 대상이 되는 tensor\n",
    "- 우리가 직접 지정할 일은 없음, 대부분의 layer에는 weights값들이 지정되어있음"
   ]
  },
  {
   "cell_type": "code",
   "execution_count": 4,
   "id": "262dee66",
   "metadata": {},
   "outputs": [],
   "source": [
    "import torch\n",
    "from torch import nn\n",
    "from torch import Tensor"
   ]
  },
  {
   "cell_type": "code",
   "execution_count": 5,
   "id": "dfc5fe25",
   "metadata": {},
   "outputs": [],
   "source": [
    "class LinearLayer(nn.Module):\n",
    "    def __init__(self, in_features, out_features, bias=True):\n",
    "        super().__init__()\n",
    "        self.in_features = in_features\n",
    "        self.out_features = out_features\n",
    "        self.weights = nn.Parameter(torch.randn(in_features, out_features))\n",
    "        self.bias = nn.Parameter(torch.randn(out_features))\n",
    "    def forward(self, x : Tensor):\n",
    "        x = x @ self.weights \n",
    "        x = x + self.bias\n",
    "        return x "
   ]
  },
  {
   "cell_type": "markdown",
   "id": "11a5bbef",
   "metadata": {},
   "source": [
    "- init \n",
    "    - 모델에서 활용될 layer을 정의, nn.Parameter를 활용해 학습시킬 새로운 parameter를 정의\n",
    "\n",
    "- forward \n",
    "    - init 에서 정의한 layer들을 활용해 모델의 순전파 과정을 구현"
   ]
  },
  {
   "cell_type": "code",
   "execution_count": null,
   "id": "dc01d79c",
   "metadata": {},
   "outputs": [],
   "source": []
  },
  {
   "cell_type": "markdown",
   "id": "116751b3",
   "metadata": {},
   "source": [
    "### backward\n",
    "- layer에 있는 paramerter들의 미분을 수행\n",
    "- Forward의 결과값과 실제값 간의 차이에 대허 미분을 수행\n",
    "- 해당값으로 parameter을 업데이트"
   ]
  },
  {
   "cell_type": "code",
   "execution_count": null,
   "id": "0fb63c50",
   "metadata": {},
   "outputs": [],
   "source": [
    "# 아래와 같은 단계가 필요\n",
    "for epoch in range(epochs):\n",
    "    \n",
    "    optimizer.zero_grad()\n",
    "    \n",
    "    outputs = model(inputs)\n",
    "    \n",
    "    loss = criterion(output,labels)\n",
    "    \n",
    "    loss.backward()\n",
    "    \n",
    "    optimizer.step()"
   ]
  },
  {
   "cell_type": "code",
   "execution_count": null,
   "id": "7f98211f",
   "metadata": {},
   "outputs": [],
   "source": []
  },
  {
   "cell_type": "code",
   "execution_count": null,
   "id": "ebf5f695",
   "metadata": {},
   "outputs": [],
   "source": []
  },
  {
   "cell_type": "code",
   "execution_count": null,
   "id": "2f202463",
   "metadata": {},
   "outputs": [],
   "source": []
  },
  {
   "cell_type": "code",
   "execution_count": null,
   "id": "6f0c64eb",
   "metadata": {},
   "outputs": [],
   "source": []
  }
 ],
 "metadata": {
  "kernelspec": {
   "display_name": "Python 3 (ipykernel)",
   "language": "python",
   "name": "python3"
  },
  "language_info": {
   "codemirror_mode": {
    "name": "ipython",
    "version": 3
   },
   "file_extension": ".py",
   "mimetype": "text/x-python",
   "name": "python",
   "nbconvert_exporter": "python",
   "pygments_lexer": "ipython3",
   "version": "3.9.16"
  }
 },
 "nbformat": 4,
 "nbformat_minor": 5
}
