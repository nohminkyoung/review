{
 "cells": [
  {
   "cell_type": "markdown",
   "id": "a8b865da",
   "metadata": {},
   "source": [
    "# 선형회귀_직접 구현"
   ]
  },
  {
   "cell_type": "markdown",
   "id": "9f8a5098",
   "metadata": {},
   "source": [
    "- 모델학습을 위해선 데이터가 텐서의 형태를 가져야함"
   ]
  },
  {
   "cell_type": "code",
   "execution_count": 12,
   "id": "8a0f3067",
   "metadata": {},
   "outputs": [],
   "source": [
    "import torch \n",
    "import torch.nn as nn\n",
    "import torch.nn.functional as F\n",
    "import torch.optim as optim"
   ]
  },
  {
   "cell_type": "code",
   "execution_count": 13,
   "id": "c84b9fcc",
   "metadata": {},
   "outputs": [
    {
     "data": {
      "text/plain": [
       "<torch._C.Generator at 0x106065fb0>"
      ]
     },
     "execution_count": 13,
     "metadata": {},
     "output_type": "execute_result"
    }
   ],
   "source": [
    "# 랜덤값 고정\n",
    "torch.manual_seed(1)"
   ]
  },
  {
   "cell_type": "code",
   "execution_count": 14,
   "id": "86e424dd",
   "metadata": {},
   "outputs": [],
   "source": [
    "# 변수 선언\n",
    "x_train = torch.FloatTensor([[1],[2],[3]])\n",
    "y_train = torch.FloatTensor([[2],[4],[6]])"
   ]
  },
  {
   "cell_type": "code",
   "execution_count": 15,
   "id": "498d0019",
   "metadata": {},
   "outputs": [],
   "source": [
    "# 가중치 및 편향 0으로 초기화\n",
    "w = torch.zeros(1, requires_grad = True)\n",
    "b = torch.zeros(1, requires_grad=True)\n",
    "\n",
    "# requires_grad = True : 학습을 통해서 계속해서 값이 변경되는 변수임을 의미\n"
   ]
  },
  {
   "cell_type": "code",
   "execution_count": 16,
   "id": "2a8c8b22",
   "metadata": {},
   "outputs": [],
   "source": [
    "# 가설 만들기 \n",
    "hypothesis = x_train * w + b"
   ]
  },
  {
   "cell_type": "code",
   "execution_count": 17,
   "id": "527655af",
   "metadata": {},
   "outputs": [
    {
     "data": {
      "text/plain": [
       "tensor(18.6667, grad_fn=<MeanBackward0>)"
      ]
     },
     "execution_count": 17,
     "metadata": {},
     "output_type": "execute_result"
    }
   ],
   "source": [
    "# 비용함수 만들기 \n",
    "cost = torch.mean((hypothesis - y_train)**2)\n",
    "cost"
   ]
  },
  {
   "cell_type": "code",
   "execution_count": 18,
   "id": "536677c9",
   "metadata": {},
   "outputs": [],
   "source": [
    "# 경사하강법 (옵티마이저에는 파라미터값을 리스트로 넣어준다)\n",
    "optimizer = optim.SGD([w,b], lr=0.01)"
   ]
  },
  {
   "cell_type": "code",
   "execution_count": 19,
   "id": "f2f25226",
   "metadata": {},
   "outputs": [],
   "source": [
    "# gradient를 0으로 초기화\n",
    "optimizer.zero_grad() "
   ]
  },
  {
   "cell_type": "code",
   "execution_count": 20,
   "id": "468bea7d",
   "metadata": {},
   "outputs": [],
   "source": [
    "# 비용 함수를 미분하여 gradient 계산\n",
    "cost.backward() "
   ]
  },
  {
   "cell_type": "code",
   "execution_count": 21,
   "id": "78b6064d",
   "metadata": {},
   "outputs": [],
   "source": [
    "# W와 b를 업데이트\n",
    "optimizer.step() "
   ]
  },
  {
   "cell_type": "code",
   "execution_count": 25,
   "id": "c920155a",
   "metadata": {},
   "outputs": [
    {
     "name": "stdout",
     "output_type": "stream",
     "text": [
      "Epoch    0/2000 W: 0.632, b: 0.270 Cost: 9.257344\n",
      "Epoch  100/2000 W: 1.748, b: 0.574 Cost: 0.047480\n",
      "Epoch  200/2000 W: 1.802, b: 0.451 Cost: 0.029340\n",
      "Epoch  300/2000 W: 1.844, b: 0.355 Cost: 0.018130\n",
      "Epoch  400/2000 W: 1.877, b: 0.279 Cost: 0.011203\n",
      "Epoch  500/2000 W: 1.904, b: 0.219 Cost: 0.006923\n",
      "Epoch  600/2000 W: 1.924, b: 0.172 Cost: 0.004278\n",
      "Epoch  700/2000 W: 1.940, b: 0.135 Cost: 0.002644\n",
      "Epoch  800/2000 W: 1.953, b: 0.106 Cost: 0.001634\n",
      "Epoch  900/2000 W: 1.963, b: 0.084 Cost: 0.001009\n",
      "Epoch 1000/2000 W: 1.971, b: 0.066 Cost: 0.000624\n",
      "Epoch 1100/2000 W: 1.977, b: 0.052 Cost: 0.000385\n",
      "Epoch 1200/2000 W: 1.982, b: 0.041 Cost: 0.000238\n",
      "Epoch 1300/2000 W: 1.986, b: 0.032 Cost: 0.000147\n",
      "Epoch 1400/2000 W: 1.989, b: 0.025 Cost: 0.000091\n",
      "Epoch 1500/2000 W: 1.991, b: 0.020 Cost: 0.000056\n",
      "Epoch 1600/2000 W: 1.993, b: 0.016 Cost: 0.000035\n",
      "Epoch 1700/2000 W: 1.995, b: 0.012 Cost: 0.000021\n",
      "Epoch 1800/2000 W: 1.996, b: 0.010 Cost: 0.000013\n",
      "Epoch 1900/2000 W: 1.997, b: 0.008 Cost: 0.000008\n"
     ]
    }
   ],
   "source": [
    "for epoch in range(2000):\n",
    "\n",
    "    hypothesis = x_train * w + b\n",
    "\n",
    "    cost = torch.mean((hypothesis - y_train) ** 2)\n",
    "\n",
    "    optimizer.zero_grad()\n",
    "    cost.backward()\n",
    "    optimizer.step()\n",
    "\n",
    "    # 100번마다 로그 출력\n",
    "    if epoch % 100 == 0:\n",
    "        print('Epoch {:4d}/{} W: {:.3f}, b: {:.3f} Cost: {:.6f}'.format(\n",
    "            epoch, 2000, w.item(), b.item(), cost.item()\n",
    "        ))"
   ]
  },
  {
   "cell_type": "markdown",
   "id": "c038780e",
   "metadata": {},
   "source": [
    "### optimizer.zero_grad()가 필요한 이유\n",
    "- 0으로 초기화 하지않으면 계속해서 미분값이 누적되는 현상이 나타남"
   ]
  },
  {
   "cell_type": "markdown",
   "id": "146c4a5c",
   "metadata": {},
   "source": [
    "## 다중 선형회귀"
   ]
  },
  {
   "cell_type": "code",
   "execution_count": 30,
   "id": "e648b81a",
   "metadata": {},
   "outputs": [
    {
     "data": {
      "text/plain": [
       "<torch._C.Generator at 0x106065fb0>"
      ]
     },
     "execution_count": 30,
     "metadata": {},
     "output_type": "execute_result"
    }
   ],
   "source": [
    "import torch\n",
    "import torch.nn as nn\n",
    "import torch.nn.functional as F\n",
    "import torch.optim as optim\n",
    "torch.manual_seed(1)"
   ]
  },
  {
   "cell_type": "code",
   "execution_count": 31,
   "id": "5404b734",
   "metadata": {},
   "outputs": [],
   "source": [
    "# 데이터\n",
    "x1 = torch.FloatTensor([[73], [93], [89], [96], [73]])\n",
    "x2 = torch.FloatTensor([[80], [88], [91], [98], [66]])\n",
    "x3 = torch.FloatTensor([[75], [93], [90], [100], [70]])\n",
    "y = torch.FloatTensor([[152], [185], [180], [196], [142]])"
   ]
  },
  {
   "cell_type": "code",
   "execution_count": 32,
   "id": "dbb0cf25",
   "metadata": {},
   "outputs": [],
   "source": [
    "# x 데이터의 개수만큼 w필요\n",
    "w1 = torch.zeros(1, requires_grad=True)\n",
    "w2 = torch.zeros(1, requires_grad=True)\n",
    "w3 = torch.zeros(1, requires_grad=True)\n",
    "b = torch.zeros(1, requires_grad=True)"
   ]
  },
  {
   "cell_type": "code",
   "execution_count": 35,
   "id": "539b4528",
   "metadata": {},
   "outputs": [],
   "source": [
    "# 기본 표현식 \n",
    "hypothesis = x1 * w1 + x2 * w2 + x3 * w3 + b\n",
    "optimizer = optim.SGD([w1, w2, w3, b], lr=1e-5)\n",
    "cost = torch.mean((hypothesis - y) ** 2)"
   ]
  },
  {
   "cell_type": "code",
   "execution_count": 36,
   "id": "5f1c5546",
   "metadata": {},
   "outputs": [
    {
     "name": "stdout",
     "output_type": "stream",
     "text": [
      "Epoch    0/1000 w1: 0.294 w2: 0.294 w3: 0.297 b: 0.003 Cost: 29661.800781\n",
      "Epoch  100/1000 w1: 0.674 w2: 0.661 w3: 0.676 b: 0.008 Cost: 1.563634\n",
      "Epoch  200/1000 w1: 0.679 w2: 0.655 w3: 0.677 b: 0.008 Cost: 1.497607\n",
      "Epoch  300/1000 w1: 0.684 w2: 0.649 w3: 0.677 b: 0.008 Cost: 1.435026\n",
      "Epoch  400/1000 w1: 0.689 w2: 0.643 w3: 0.678 b: 0.008 Cost: 1.375730\n",
      "Epoch  500/1000 w1: 0.694 w2: 0.638 w3: 0.678 b: 0.009 Cost: 1.319511\n",
      "Epoch  600/1000 w1: 0.699 w2: 0.633 w3: 0.679 b: 0.009 Cost: 1.266222\n",
      "Epoch  700/1000 w1: 0.704 w2: 0.627 w3: 0.679 b: 0.009 Cost: 1.215696\n",
      "Epoch  800/1000 w1: 0.709 w2: 0.622 w3: 0.679 b: 0.009 Cost: 1.167818\n",
      "Epoch  900/1000 w1: 0.713 w2: 0.617 w3: 0.680 b: 0.009 Cost: 1.122429\n",
      "Epoch 1000/1000 w1: 0.718 w2: 0.613 w3: 0.680 b: 0.009 Cost: 1.079378\n"
     ]
    }
   ],
   "source": [
    "for epoch in range(1000 + 1):\n",
    "\n",
    "    hypothesis = x1 * w1 + x2 * w2 + x3 * w3 + b\n",
    "\n",
    "    cost = torch.mean((hypothesis - y) ** 2)\n",
    "\n",
    "    # cost로 H(x) 개선\n",
    "    optimizer.zero_grad()\n",
    "    cost.backward()\n",
    "    optimizer.step()\n",
    "\n",
    "    # 100번마다 로그 출력\n",
    "    if epoch % 100 == 0:\n",
    "        print('Epoch {:4d}/{} w1: {:.3f} w2: {:.3f} w3: {:.3f} b: {:.3f} Cost: {:.6f}'.format(\n",
    "            epoch, 1000, w1.item(), w2.item(), w3.item(), b.item(), cost.item()\n",
    "        ))"
   ]
  },
  {
   "cell_type": "markdown",
   "id": "d8024c67",
   "metadata": {},
   "source": [
    "### 벡터를 행렬로 바꾸기 "
   ]
  },
  {
   "cell_type": "code",
   "execution_count": 37,
   "id": "a800b4dc",
   "metadata": {},
   "outputs": [],
   "source": [
    "# 벡터 식\n",
    "x1 = torch.FloatTensor([[73], [93], [89], [96], [73]])\n",
    "x2 = torch.FloatTensor([[80], [88], [91], [98], [66]])\n",
    "x3 = torch.FloatTensor([[75], [93], [90], [100], [70]])\n",
    "y = torch.FloatTensor([[152], [185], [180], [196], [142]])\n",
    "\n",
    "w1 = torch.zeros(1, requires_grad=True)\n",
    "w2 = torch.zeros(1, requires_grad=True)\n",
    "w3 = torch.zeros(1, requires_grad=True)\n",
    "b = torch.zeros(1, requires_grad=True)"
   ]
  },
  {
   "cell_type": "code",
   "execution_count": 38,
   "id": "988291f3",
   "metadata": {},
   "outputs": [],
   "source": [
    "# 행렬 식\n",
    "x = torch.FloatTensor([[73,  80,  75], \n",
    "                        [93,  88,  93], \n",
    "                        [89,  91,  80], \n",
    "                        [96,  98,  100],   \n",
    "                        [73,  66,  70]])  \n",
    "\n",
    "y = torch.FloatTensor([[152], [185], [180], [196], [142]])"
   ]
  },
  {
   "cell_type": "code",
   "execution_count": 40,
   "id": "dd4c8008",
   "metadata": {},
   "outputs": [
    {
     "name": "stdout",
     "output_type": "stream",
     "text": [
      "torch.Size([5, 3])\n",
      "torch.Size([5, 1])\n"
     ]
    }
   ],
   "source": [
    "print(x.shape) # x 데이터의 열값 \n",
    "print(y.shape) # y 데이터의 열값을 사용해 w의 크기를 결정"
   ]
  },
  {
   "cell_type": "code",
   "execution_count": 41,
   "id": "9a772fbb",
   "metadata": {},
   "outputs": [],
   "source": [
    "W = torch.zeros((3, 1), requires_grad=True) # x의 개수가 3, y의 개수가1\n",
    "b = torch.zeros(1, requires_grad=True)"
   ]
  },
  {
   "cell_type": "code",
   "execution_count": null,
   "id": "e69d5469",
   "metadata": {},
   "outputs": [],
   "source": []
  },
  {
   "cell_type": "markdown",
   "id": "d914e737",
   "metadata": {},
   "source": [
    "# 선형회귀_nn.Module로 구현"
   ]
  },
  {
   "cell_type": "code",
   "execution_count": 49,
   "id": "dd456d4c",
   "metadata": {},
   "outputs": [],
   "source": [
    "import torch.nn as nn\n",
    "import torch.nn.functional as F\n",
    "import torch.optim as optim"
   ]
  },
  {
   "cell_type": "markdown",
   "id": "e1d2b321",
   "metadata": {},
   "source": [
    "- model = nn.Linear(input_dim, output_dim) : input_dim에는 w의 개수 \n",
    "- cost = F.mse_loss(prediction, y_train)"
   ]
  },
  {
   "cell_type": "code",
   "execution_count": 71,
   "id": "ed5eef4c",
   "metadata": {},
   "outputs": [],
   "source": [
    "# 데이터\n",
    "x = torch.FloatTensor([[1], [2], [3]])\n",
    "y = torch.FloatTensor([[2], [4], [6]])"
   ]
  },
  {
   "cell_type": "code",
   "execution_count": 72,
   "id": "6a765e0d",
   "metadata": {},
   "outputs": [],
   "source": [
    "# 모델생성\n",
    "model = nn.Linear(1,1)"
   ]
  },
  {
   "cell_type": "code",
   "execution_count": 73,
   "id": "a137bd05",
   "metadata": {},
   "outputs": [
    {
     "data": {
      "text/plain": [
       "[Parameter containing:\n",
       " tensor([[0.3652]], requires_grad=True),\n",
       " Parameter containing:\n",
       " tensor([-0.3897], requires_grad=True)]"
      ]
     },
     "execution_count": 73,
     "metadata": {},
     "output_type": "execute_result"
    }
   ],
   "source": [
    "# 모델에서 최초 임의의 파라미터를 생성\n",
    "list(model.parameters())"
   ]
  },
  {
   "cell_type": "code",
   "execution_count": 74,
   "id": "7328b903",
   "metadata": {
    "scrolled": true
   },
   "outputs": [],
   "source": [
    "# 옵티마이저 (model.parameters()에 파라미터가 들어있어서 이 값을 넣어줌)\n",
    "optimizer = optim.SGD(model.parameters(), lr=0.01) "
   ]
  },
  {
   "cell_type": "code",
   "execution_count": 75,
   "id": "e11b1bdd",
   "metadata": {},
   "outputs": [
    {
     "name": "stdout",
     "output_type": "stream",
     "text": [
      "Epoch    0/2000 Cost: 15.171722\n",
      "Epoch  100/2000 Cost: 0.006754\n",
      "Epoch  200/2000 Cost: 0.004174\n",
      "Epoch  300/2000 Cost: 0.002579\n",
      "Epoch  400/2000 Cost: 0.001594\n",
      "Epoch  500/2000 Cost: 0.000985\n",
      "Epoch  600/2000 Cost: 0.000609\n",
      "Epoch  700/2000 Cost: 0.000376\n",
      "Epoch  800/2000 Cost: 0.000232\n",
      "Epoch  900/2000 Cost: 0.000144\n",
      "Epoch 1000/2000 Cost: 0.000089\n",
      "Epoch 1100/2000 Cost: 0.000055\n",
      "Epoch 1200/2000 Cost: 0.000034\n",
      "Epoch 1300/2000 Cost: 0.000021\n",
      "Epoch 1400/2000 Cost: 0.000013\n",
      "Epoch 1500/2000 Cost: 0.000008\n",
      "Epoch 1600/2000 Cost: 0.000005\n",
      "Epoch 1700/2000 Cost: 0.000003\n",
      "Epoch 1800/2000 Cost: 0.000002\n",
      "Epoch 1900/2000 Cost: 0.000001\n",
      "Epoch 2000/2000 Cost: 0.000001\n"
     ]
    }
   ],
   "source": [
    "for epoch in range(2000+1):\n",
    "\n",
    "\n",
    "    prediction = model(x)\n",
    "\n",
    "    # 파이토치에서 제공하는 손실함수\n",
    "    cost = F.mse_loss(prediction, y) \n",
    "\n",
    "\n",
    "    optimizer.zero_grad()\n",
    "    cost.backward()\n",
    "    optimizer.step()\n",
    "\n",
    "    if epoch % 100 == 0:\n",
    "    # 100번마다 로그 출력\n",
    "      print('Epoch {:4d}/{} Cost: {:.6f}'.format(\n",
    "          epoch, 2000, cost.item()\n",
    "      ))"
   ]
  },
  {
   "cell_type": "code",
   "execution_count": 60,
   "id": "c50c6812",
   "metadata": {},
   "outputs": [
    {
     "data": {
      "text/plain": [
       "[Parameter containing:\n",
       " tensor([[1.9943]], requires_grad=True),\n",
       " Parameter containing:\n",
       " tensor([0.0128], requires_grad=True)]"
      ]
     },
     "execution_count": 60,
     "metadata": {},
     "output_type": "execute_result"
    }
   ],
   "source": [
    "# 파라미터가 최저화 된 것을 확인\n",
    "list(model.parameters())"
   ]
  },
  {
   "cell_type": "markdown",
   "id": "72df6215",
   "metadata": {},
   "source": [
    "## 다중회귀 "
   ]
  },
  {
   "cell_type": "code",
   "execution_count": 61,
   "id": "769a2f3f",
   "metadata": {},
   "outputs": [],
   "source": [
    "x = torch.FloatTensor([[73, 80, 75],\n",
    "                        [93, 88, 93],\n",
    "                        [89, 91, 90],\n",
    "                        [96, 98, 100],\n",
    "                        [73, 66, 70]])\n",
    "y = torch.FloatTensor([[152], [185], [180], [196], [142]])"
   ]
  },
  {
   "cell_type": "code",
   "execution_count": 62,
   "id": "9dd1ff72",
   "metadata": {},
   "outputs": [],
   "source": [
    "# 위에서 가중치를 만든것과 같은방식으로 input, output크기를 지정\n",
    "model = nn.Linear(3,1)"
   ]
  },
  {
   "cell_type": "code",
   "execution_count": 64,
   "id": "04e14f31",
   "metadata": {},
   "outputs": [
    {
     "data": {
      "text/plain": [
       "[Parameter containing:\n",
       " tensor([[-0.1188,  0.2937,  0.0803]], requires_grad=True),\n",
       " Parameter containing:\n",
       " tensor([-0.0707], requires_grad=True)]"
      ]
     },
     "execution_count": 64,
     "metadata": {},
     "output_type": "execute_result"
    }
   ],
   "source": [
    "list(model.parameters())"
   ]
  },
  {
   "cell_type": "markdown",
   "id": "ce3cca8f",
   "metadata": {},
   "source": [
    "# 선형회귀_클래스로 구현"
   ]
  },
  {
   "cell_type": "markdown",
   "id": "34b6b692",
   "metadata": {},
   "source": [
    "- init : 모델의 구조와 동작을 정의하는 생성자를 정의\n",
    "- forward : 모델이 학습데이터를 입력받아서 forward 연산을 진행시키는 함수\n",
    "- super() 함수 : 만들어진 class가 nn.Module의 속성을 가지고 초기화"
   ]
  },
  {
   "cell_type": "markdown",
   "id": "e12f9772",
   "metadata": {},
   "source": [
    "```\n",
    "class LinearModel(nn.Module): # torch.nn.Module을 상속받아야함\n",
    "    def __init__(self): \n",
    "        super().__init__()\n",
    "        self.linear = nn.Linear(1, 1) # 모델을 정의 \n",
    "\n",
    "    def forward(self, x):\n",
    "        return self.linear(x)\n",
    "```"
   ]
  },
  {
   "cell_type": "code",
   "execution_count": 79,
   "id": "b7e9fe4f",
   "metadata": {},
   "outputs": [],
   "source": [
    "import torch\n",
    "import torch.nn as nn\n",
    "import torch.nn.functional as F"
   ]
  },
  {
   "cell_type": "code",
   "execution_count": 80,
   "id": "2e044184",
   "metadata": {},
   "outputs": [],
   "source": [
    "x = torch.FloatTensor([[1], [2], [3]])\n",
    "y = torch.FloatTensor([[2], [4], [6]])"
   ]
  },
  {
   "cell_type": "code",
   "execution_count": 81,
   "id": "3a5d6fde",
   "metadata": {},
   "outputs": [],
   "source": [
    "class LinearModel(nn.Module): \n",
    "    def __init__(self): \n",
    "        super().__init__()\n",
    "        self.linear = nn.Linear(1, 1) \n",
    "\n",
    "    def forward(self, x):\n",
    "        return self.linear(x)"
   ]
  },
  {
   "cell_type": "code",
   "execution_count": 82,
   "id": "c836ab3d",
   "metadata": {},
   "outputs": [],
   "source": [
    "model = LinearModel()"
   ]
  },
  {
   "cell_type": "code",
   "execution_count": 83,
   "id": "e57c36a1",
   "metadata": {},
   "outputs": [],
   "source": [
    "optimizer = torch.optim.SGD(model.parameters(), lr=0.01) "
   ]
  },
  {
   "cell_type": "code",
   "execution_count": 84,
   "id": "6639f410",
   "metadata": {},
   "outputs": [
    {
     "name": "stdout",
     "output_type": "stream",
     "text": [
      "Epoch    0/2000 Cost: 20.807014\n",
      "Epoch  100/2000 Cost: 0.042033\n",
      "Epoch  200/2000 Cost: 0.025974\n",
      "Epoch  300/2000 Cost: 0.016050\n",
      "Epoch  400/2000 Cost: 0.009918\n",
      "Epoch  500/2000 Cost: 0.006129\n",
      "Epoch  600/2000 Cost: 0.003787\n",
      "Epoch  700/2000 Cost: 0.002340\n",
      "Epoch  800/2000 Cost: 0.001446\n",
      "Epoch  900/2000 Cost: 0.000894\n",
      "Epoch 1000/2000 Cost: 0.000552\n",
      "Epoch 1100/2000 Cost: 0.000341\n",
      "Epoch 1200/2000 Cost: 0.000211\n",
      "Epoch 1300/2000 Cost: 0.000130\n",
      "Epoch 1400/2000 Cost: 0.000081\n",
      "Epoch 1500/2000 Cost: 0.000050\n",
      "Epoch 1600/2000 Cost: 0.000031\n",
      "Epoch 1700/2000 Cost: 0.000019\n",
      "Epoch 1800/2000 Cost: 0.000012\n",
      "Epoch 1900/2000 Cost: 0.000007\n",
      "Epoch 2000/2000 Cost: 0.000004\n"
     ]
    }
   ],
   "source": [
    "for epoch in range(2000+1):\n",
    "\n",
    "    prediction = model(x)\n",
    "\n",
    "    cost = F.mse_loss(prediction, y_train)\n",
    "\n",
    "    optimizer.zero_grad()\n",
    "    cost.backward()\n",
    "    optimizer.step()\n",
    "\n",
    "    if epoch % 100 == 0:\n",
    "    # 100번마다 로그 출력\n",
    "      print('Epoch {:4d}/{} Cost: {:.6f}'.format(\n",
    "          epoch, 2000, cost.item()\n",
    "      ))"
   ]
  },
  {
   "cell_type": "code",
   "execution_count": 85,
   "id": "b167d767",
   "metadata": {},
   "outputs": [
    {
     "data": {
      "text/plain": [
       "[Parameter containing:\n",
       " tensor([[1.9975]], requires_grad=True),\n",
       " Parameter containing:\n",
       " tensor([0.0056], requires_grad=True)]"
      ]
     },
     "execution_count": 85,
     "metadata": {},
     "output_type": "execute_result"
    }
   ],
   "source": [
    "list(model.parameters())"
   ]
  },
  {
   "cell_type": "markdown",
   "id": "b2730480",
   "metadata": {},
   "source": [
    "## 다중회귀"
   ]
  },
  {
   "cell_type": "code",
   "execution_count": 108,
   "id": "35a496fd",
   "metadata": {},
   "outputs": [],
   "source": [
    "class MultiLinearModel(nn.Module):\n",
    "    def __init__(self,dim):\n",
    "        super().__init__()\n",
    "        self.linear = nn.Linear(dim,1) # x의 개수에 따라 달라지도록 정의\n",
    "        \n",
    "    def forward(self,x):\n",
    "        return self.linear(x)"
   ]
  },
  {
   "cell_type": "code",
   "execution_count": 109,
   "id": "7dee6e42",
   "metadata": {},
   "outputs": [],
   "source": [
    "x= torch.FloatTensor([[73, 80, 75],\n",
    "                        [93, 88, 93],\n",
    "                        [89, 91, 90],\n",
    "                        [96, 98, 100],\n",
    "                        [73, 66, 70]])\n",
    "y = torch.FloatTensor([[152], [185], [180], [196], [142]])"
   ]
  },
  {
   "cell_type": "code",
   "execution_count": 110,
   "id": "9e3c9735",
   "metadata": {},
   "outputs": [],
   "source": [
    "model = MultiLinearModel(3) #x의 개수를 정의 "
   ]
  },
  {
   "cell_type": "code",
   "execution_count": 111,
   "id": "8b361d96",
   "metadata": {},
   "outputs": [],
   "source": [
    "optimizer = torch.optim.SGD(model.parameters(), lr=1e-5) "
   ]
  },
  {
   "cell_type": "code",
   "execution_count": 114,
   "id": "09b70cef",
   "metadata": {},
   "outputs": [
    {
     "name": "stdout",
     "output_type": "stream",
     "text": [
      "Epoch    0/1000 Cost: 39659.210938\n",
      "Epoch  100/1000 Cost: 3.366862\n",
      "Epoch  200/1000 Cost: 3.274031\n",
      "Epoch  300/1000 Cost: 3.185730\n",
      "Epoch  400/1000 Cost: 3.101742\n",
      "Epoch  500/1000 Cost: 3.021783\n",
      "Epoch  600/1000 Cost: 2.945699\n",
      "Epoch  700/1000 Cost: 2.873256\n",
      "Epoch  800/1000 Cost: 2.804295\n",
      "Epoch  900/1000 Cost: 2.738602\n",
      "Epoch 1000/1000 Cost: 2.676025\n"
     ]
    }
   ],
   "source": [
    "for epoch in range(1000+1):\n",
    "\n",
    "\n",
    "    prediction = model(x)\n",
    "    \n",
    "    cost = F.mse_loss(prediction, y) \n",
    "\n",
    "    optimizer.zero_grad()\n",
    "    cost.backward()\n",
    "    optimizer.step()\n",
    "\n",
    "    if epoch % 100 == 0:\n",
    "    # 100번마다 로그 출력\n",
    "      print('Epoch {:4d}/{} Cost: {:.6f}'.format(\n",
    "          epoch, 1000, cost.item()\n",
    "      ))"
   ]
  },
  {
   "cell_type": "code",
   "execution_count": 115,
   "id": "7769e62f",
   "metadata": {
    "scrolled": true
   },
   "outputs": [
    {
     "data": {
      "text/plain": [
       "[Parameter containing:\n",
       " tensor([[0.2899, 0.4352, 1.2794]], requires_grad=True),\n",
       " Parameter containing:\n",
       " tensor([-0.0838], requires_grad=True)]"
      ]
     },
     "execution_count": 115,
     "metadata": {},
     "output_type": "execute_result"
    }
   ],
   "source": [
    "list(model.parameters())"
   ]
  },
  {
   "cell_type": "code",
   "execution_count": null,
   "id": "f6196f03",
   "metadata": {},
   "outputs": [],
   "source": []
  },
  {
   "cell_type": "markdown",
   "id": "922c105f",
   "metadata": {},
   "source": [
    "# 데이터 로드"
   ]
  },
  {
   "attachments": {
    "image.png": {
     "image/png": "[encoded data removed]"
    }
   },
   "cell_type": "markdown",
   "id": "9c36a3e1",
   "metadata": {},
   "source": [
    "![image.png](attachment:image.png)"
   ]
  },
  {
   "cell_type": "markdown",
   "id": "75525cc5",
   "metadata": {},
   "source": [
    "## 데이터 로드하기 "
   ]
  },
  {
   "cell_type": "code",
   "execution_count": 119,
   "id": "957a42e4",
   "metadata": {},
   "outputs": [],
   "source": [
    "from torch.utils.data import Dataset \n",
    "from torch.utils.data import DataLoader"
   ]
  },
  {
   "cell_type": "markdown",
   "id": "40363ece",
   "metadata": {},
   "source": [
    "- Dataset으로 데이터셋을 만들면 이를 이용해 데이터로더를 사용\n",
    "- DataLoader\n",
    "    - dataset과 batch_size를 인자로 받는다\n",
    "    - batch_size는 통상적으로 2의 배수를 사용\n",
    "    - shuffle=True인자를 사용하면 Epoch마다 데이터셋을 섞어서 데이터가 학습되는 순가 바뀜"
   ]
  },
  {
   "cell_type": "code",
   "execution_count": 120,
   "id": "a9b8f0ee",
   "metadata": {},
   "outputs": [],
   "source": [
    "x  =  torch.FloatTensor([[73,  80,  75], \n",
    "                           [93,  88,  93], \n",
    "                           [89,  91,  90], \n",
    "                           [96,  98,  100],   \n",
    "                           [73,  66,  70]])  \n",
    "y  =  torch.FloatTensor([[152],  [185],  [180],  [196],  [142]])"
   ]
  },
  {
   "cell_type": "code",
   "execution_count": 123,
   "id": "39562d1c",
   "metadata": {},
   "outputs": [],
   "source": [
    "# 텐서형테의 데이터를 받을때에는 TensorDataset를 사용\n",
    "from torch.utils.data import TensorDataset\n",
    "dataset = TensorDataset(x,y)"
   ]
  },
  {
   "cell_type": "code",
   "execution_count": 124,
   "id": "39714c17",
   "metadata": {},
   "outputs": [],
   "source": [
    "dataloader = DataLoader(dataset, batch_size=2, shuffle=True)"
   ]
  },
  {
   "cell_type": "code",
   "execution_count": 127,
   "id": "b1f726eb",
   "metadata": {},
   "outputs": [
    {
     "data": {
      "text/plain": [
       "[[tensor([[ 96.,  98., 100.],\n",
       "          [ 93.,  88.,  93.]]),\n",
       "  tensor([[196.],\n",
       "          [185.]])],\n",
       " [tensor([[73., 80., 75.],\n",
       "          [89., 91., 90.]]),\n",
       "  tensor([[152.],\n",
       "          [180.]])],\n",
       " [tensor([[73., 66., 70.]]), tensor([[142.]])]]"
      ]
     },
     "execution_count": 127,
     "metadata": {},
     "output_type": "execute_result"
    }
   ],
   "source": [
    "# batch_size가 2 이기때문에 두개가 한쌍을 이룸\n",
    "list(dataloader)"
   ]
  },
  {
   "cell_type": "code",
   "execution_count": 128,
   "id": "e8333a40",
   "metadata": {},
   "outputs": [],
   "source": [
    "model = nn.Linear(3,1)\n",
    "optimizer = torch.optim.SGD(model.parameters(), lr=1e-5) "
   ]
  },
  {
   "cell_type": "code",
   "execution_count": 129,
   "id": "00c68a35",
   "metadata": {
    "collapsed": true
   },
   "outputs": [
    {
     "name": "stdout",
     "output_type": "stream",
     "text": [
      "Epoch    0/10 Batch 1/3 Cost: 44327.171875\n",
      "Epoch    0/10 Batch 2/3 Cost: 10033.855469\n",
      "Epoch    0/10 Batch 3/3 Cost: 2258.893311\n",
      "Epoch    1/10 Batch 1/3 Cost: 1216.072144\n",
      "Epoch    1/10 Batch 2/3 Cost: 557.448486\n",
      "Epoch    1/10 Batch 3/3 Cost: 262.458679\n",
      "Epoch    2/10 Batch 1/3 Cost: 39.818665\n",
      "Epoch    2/10 Batch 2/3 Cost: 15.440739\n",
      "Epoch    2/10 Batch 3/3 Cost: 2.757791\n",
      "Epoch    3/10 Batch 1/3 Cost: 12.319376\n",
      "Epoch    3/10 Batch 2/3 Cost: 2.018374\n",
      "Epoch    3/10 Batch 3/3 Cost: 15.770846\n",
      "Epoch    4/10 Batch 1/3 Cost: 4.162767\n",
      "Epoch    4/10 Batch 2/3 Cost: 6.820552\n",
      "Epoch    4/10 Batch 3/3 Cost: 16.022591\n",
      "Epoch    5/10 Batch 1/3 Cost: 7.107206\n",
      "Epoch    5/10 Batch 2/3 Cost: 4.565801\n",
      "Epoch    5/10 Batch 3/3 Cost: 15.153234\n",
      "Epoch    6/10 Batch 1/3 Cost: 4.444887\n",
      "Epoch    6/10 Batch 2/3 Cost: 6.947250\n",
      "Epoch    6/10 Batch 3/3 Cost: 10.440168\n",
      "Epoch    7/10 Batch 1/3 Cost: 2.658041\n",
      "Epoch    7/10 Batch 2/3 Cost: 17.536879\n",
      "Epoch    7/10 Batch 3/3 Cost: 4.148447\n",
      "Epoch    8/10 Batch 1/3 Cost: 8.140711\n",
      "Epoch    8/10 Batch 2/3 Cost: 4.479380\n",
      "Epoch    8/10 Batch 3/3 Cost: 12.304320\n",
      "Epoch    9/10 Batch 1/3 Cost: 6.948590\n",
      "Epoch    9/10 Batch 2/3 Cost: 6.939762\n",
      "Epoch    9/10 Batch 3/3 Cost: 4.587046\n",
      "Epoch   10/10 Batch 1/3 Cost: 8.149935\n",
      "Epoch   10/10 Batch 2/3 Cost: 4.360662\n",
      "Epoch   10/10 Batch 3/3 Cost: 7.902605\n"
     ]
    }
   ],
   "source": [
    "# dataloader가 3세트를 이루기 때문에 3batch씩 10epoch반복\n",
    "for epoch in range(10 + 1):\n",
    "    for batch_idx, samples in enumerate(dataloader):\n",
    "   \n",
    "        x_train, y_train = samples\n",
    "    \n",
    "        prediction = model(x_train)\n",
    "        cost = F.mse_loss(prediction, y_train)\n",
    "        \n",
    "        optimizer.zero_grad()\n",
    "        cost.backward()\n",
    "        optimizer.step()\n",
    "\n",
    "        print('Epoch {:4d}/{} Batch {}/{} Cost: {:.6f}'.format(\n",
    "            epoch, 10, batch_idx+1, len(dataloader),\n",
    "            cost.item()\n",
    "            ))"
   ]
  },
  {
   "cell_type": "markdown",
   "id": "7f6e1b7e",
   "metadata": {},
   "source": [
    "## 커스텀 데이터셋"
   ]
  },
  {
   "cell_type": "markdown",
   "id": "cc970938",
   "metadata": {},
   "source": [
    "```\n",
    "class CustomDataset(torch.utils.data.Dataset): \n",
    "  def __init__(self):\n",
    "  데이터셋의 전처리를 해주는 부분\n",
    "\n",
    "  def __len__(self):\n",
    "  데이터셋의 길이(총 샘플의 수)를 적어주는 부분\n",
    "\n",
    "  def __getitem__(self, idx): \n",
    "  데이터셋에서 특정 1개의 샘플을 가져오는 함수\n",
    "```"
   ]
  },
  {
   "cell_type": "code",
   "execution_count": 130,
   "id": "fca095ea",
   "metadata": {},
   "outputs": [],
   "source": [
    "import torch\n",
    "import torch.nn.functional as F\n",
    "from torch.utils.data import Dataset\n",
    "from torch.utils.data import DataLoader"
   ]
  },
  {
   "cell_type": "code",
   "execution_count": 145,
   "id": "8e157d13",
   "metadata": {},
   "outputs": [],
   "source": [
    "class CustomDataset(Dataset): \n",
    "    def __init__(self): # 데이터 정의 \n",
    "        self.x_data = [[73, 80, 75],\n",
    "                       [93, 88, 93],\n",
    "                       [89, 91, 90],\n",
    "                       [96, 98, 100],\n",
    "                       [73, 66, 70]]\n",
    "        self.y_data = [[152], [185], [180], [196], [142]]\n",
    "\n",
    "\n",
    "    def __len__(self): \n",
    "        return len(self.x_data) # 총 데이터의 개수 리턴\n",
    "\n",
    "    # 인덱스에 따른 데이터를 Tensor 형태로 리턴\n",
    "    def __getitem__(self, idx): \n",
    "        x = torch.FloatTensor(self.x_data[idx])\n",
    "        y = torch.FloatTensor(self.y_data[idx])\n",
    "        return x, y"
   ]
  },
  {
   "cell_type": "code",
   "execution_count": 146,
   "id": "94ce3068",
   "metadata": {},
   "outputs": [],
   "source": [
    "dataset = CustomDataset()"
   ]
  },
  {
   "cell_type": "code",
   "execution_count": 147,
   "id": "3dc6d41a",
   "metadata": {},
   "outputs": [
    {
     "data": {
      "text/plain": [
       "[(tensor([73., 80., 75.]), tensor([152.])),\n",
       " (tensor([93., 88., 93.]), tensor([185.])),\n",
       " (tensor([89., 91., 90.]), tensor([180.])),\n",
       " (tensor([ 96.,  98., 100.]), tensor([196.])),\n",
       " (tensor([73., 66., 70.]), tensor([142.]))]"
      ]
     },
     "execution_count": 147,
     "metadata": {},
     "output_type": "execute_result"
    }
   ],
   "source": [
    "list(dataset)"
   ]
  },
  {
   "cell_type": "code",
   "execution_count": 148,
   "id": "7c0e4fe8",
   "metadata": {},
   "outputs": [
    {
     "data": {
      "text/plain": [
       "5"
      ]
     },
     "execution_count": 148,
     "metadata": {},
     "output_type": "execute_result"
    }
   ],
   "source": [
    "len(dataset)"
   ]
  },
  {
   "cell_type": "code",
   "execution_count": 149,
   "id": "ec45869f",
   "metadata": {},
   "outputs": [],
   "source": [
    "dataloader = DataLoader(dataset, batch_size=2, shuffle=True)"
   ]
  },
  {
   "cell_type": "code",
   "execution_count": 150,
   "id": "6490bde4",
   "metadata": {},
   "outputs": [
    {
     "data": {
      "text/plain": [
       "[[tensor([[93., 88., 93.],\n",
       "          [73., 66., 70.]]),\n",
       "  tensor([[185.],\n",
       "          [142.]])],\n",
       " [tensor([[ 73.,  80.,  75.],\n",
       "          [ 96.,  98., 100.]]),\n",
       "  tensor([[152.],\n",
       "          [196.]])],\n",
       " [tensor([[89., 91., 90.]]), tensor([[180.]])]]"
      ]
     },
     "execution_count": 150,
     "metadata": {},
     "output_type": "execute_result"
    }
   ],
   "source": [
    "list(dataloader)"
   ]
  },
  {
   "cell_type": "code",
   "execution_count": 151,
   "id": "b1b7db4f",
   "metadata": {},
   "outputs": [],
   "source": [
    "model = torch.nn.Linear(3,1)\n",
    "optimizer = torch.optim.SGD(model.parameters(), lr=1e-5) "
   ]
  },
  {
   "cell_type": "code",
   "execution_count": 152,
   "id": "02342e6d",
   "metadata": {
    "collapsed": true
   },
   "outputs": [
    {
     "name": "stdout",
     "output_type": "stream",
     "text": [
      "Epoch    0/20 Batch 1/3 Cost: 46581.128906\n",
      "Epoch    0/20 Batch 2/3 Cost: 8319.543945\n",
      "Epoch    0/20 Batch 3/3 Cost: 1905.216675\n",
      "Epoch    1/20 Batch 1/3 Cost: 1733.591797\n",
      "Epoch    1/20 Batch 2/3 Cost: 274.044495\n",
      "Epoch    1/20 Batch 3/3 Cost: 75.135796\n",
      "Epoch    2/20 Batch 1/3 Cost: 49.382629\n",
      "Epoch    2/20 Batch 2/3 Cost: 17.859125\n",
      "Epoch    2/20 Batch 3/3 Cost: 4.496773\n",
      "Epoch    3/20 Batch 1/3 Cost: 2.383482\n",
      "Epoch    3/20 Batch 2/3 Cost: 0.288324\n",
      "Epoch    3/20 Batch 3/3 Cost: 0.502854\n",
      "Epoch    4/20 Batch 1/3 Cost: 0.378316\n",
      "Epoch    4/20 Batch 2/3 Cost: 0.101761\n",
      "Epoch    4/20 Batch 3/3 Cost: 0.544811\n",
      "Epoch    5/20 Batch 1/3 Cost: 0.379561\n",
      "Epoch    5/20 Batch 2/3 Cost: 0.164343\n",
      "Epoch    5/20 Batch 3/3 Cost: 0.587889\n",
      "Epoch    6/20 Batch 1/3 Cost: 0.511740\n",
      "Epoch    6/20 Batch 2/3 Cost: 0.304086\n",
      "Epoch    6/20 Batch 3/3 Cost: 0.314264\n",
      "Epoch    7/20 Batch 1/3 Cost: 0.272694\n",
      "Epoch    7/20 Batch 2/3 Cost: 0.123961\n",
      "Epoch    7/20 Batch 3/3 Cost: 0.389539\n",
      "Epoch    8/20 Batch 1/3 Cost: 0.194443\n",
      "Epoch    8/20 Batch 2/3 Cost: 0.402386\n",
      "Epoch    8/20 Batch 3/3 Cost: 0.081297\n",
      "Epoch    9/20 Batch 1/3 Cost: 0.423429\n",
      "Epoch    9/20 Batch 2/3 Cost: 0.085301\n",
      "Epoch    9/20 Batch 3/3 Cost: 0.143732\n",
      "Epoch   10/20 Batch 1/3 Cost: 0.096297\n",
      "Epoch   10/20 Batch 2/3 Cost: 0.642968\n",
      "Epoch   10/20 Batch 3/3 Cost: 0.217971\n",
      "Epoch   11/20 Batch 1/3 Cost: 0.339735\n",
      "Epoch   11/20 Batch 2/3 Cost: 0.082237\n",
      "Epoch   11/20 Batch 3/3 Cost: 0.356956\n",
      "Epoch   12/20 Batch 1/3 Cost: 0.595137\n",
      "Epoch   12/20 Batch 2/3 Cost: 0.344123\n",
      "Epoch   12/20 Batch 3/3 Cost: 0.033138\n",
      "Epoch   13/20 Batch 1/3 Cost: 0.409384\n",
      "Epoch   13/20 Batch 2/3 Cost: 0.213271\n",
      "Epoch   13/20 Batch 3/3 Cost: 0.266168\n",
      "Epoch   14/20 Batch 1/3 Cost: 0.224002\n",
      "Epoch   14/20 Batch 2/3 Cost: 0.308712\n",
      "Epoch   14/20 Batch 3/3 Cost: 0.364452\n",
      "Epoch   15/20 Batch 1/3 Cost: 0.589187\n",
      "Epoch   15/20 Batch 2/3 Cost: 0.311392\n",
      "Epoch   15/20 Batch 3/3 Cost: 0.080706\n",
      "Epoch   16/20 Batch 1/3 Cost: 0.146327\n",
      "Epoch   16/20 Batch 2/3 Cost: 0.363268\n",
      "Epoch   16/20 Batch 3/3 Cost: 0.336933\n",
      "Epoch   17/20 Batch 1/3 Cost: 0.451524\n",
      "Epoch   17/20 Batch 2/3 Cost: 0.188362\n",
      "Epoch   17/20 Batch 3/3 Cost: 0.285919\n",
      "Epoch   18/20 Batch 1/3 Cost: 0.230383\n",
      "Epoch   18/20 Batch 2/3 Cost: 0.470775\n",
      "Epoch   18/20 Batch 3/3 Cost: 0.119089\n",
      "Epoch   19/20 Batch 1/3 Cost: 0.383421\n",
      "Epoch   19/20 Batch 2/3 Cost: 0.110988\n",
      "Epoch   19/20 Batch 3/3 Cost: 0.310104\n",
      "Epoch   20/20 Batch 1/3 Cost: 0.016931\n",
      "Epoch   20/20 Batch 2/3 Cost: 0.530767\n",
      "Epoch   20/20 Batch 3/3 Cost: 0.175937\n"
     ]
    }
   ],
   "source": [
    "for epoch in range(20 + 1):\n",
    "    for batch_idx, samples in enumerate(dataloader):\n",
    "     \n",
    "        x, y = samples\n",
    "\n",
    "        prediction = model(x)\n",
    "\n",
    "        cost = F.mse_loss(prediction, y)\n",
    "\n",
    "        optimizer.zero_grad()\n",
    "        cost.backward()\n",
    "        optimizer.step()\n",
    "\n",
    "        print('Epoch {:4d}/{} Batch {}/{} Cost: {:.6f}'.format(\n",
    "            epoch, 20, batch_idx+1, len(dataloader),\n",
    "            cost.item()\n",
    "            ))"
   ]
  },
  {
   "cell_type": "code",
   "execution_count": null,
   "id": "a9ea6372",
   "metadata": {},
   "outputs": [],
   "source": []
  }
 ],
 "metadata": {
  "kernelspec": {
   "display_name": "Python 3 (ipykernel)",
   "language": "python",
   "name": "python3"
  },
  "language_info": {
   "codemirror_mode": {
    "name": "ipython",
    "version": 3
   },
   "file_extension": ".py",
   "mimetype": "text/x-python",
   "name": "python",
   "nbconvert_exporter": "python",
   "pygments_lexer": "ipython3",
   "version": "3.9.16"
  }
 },
 "nbformat": 4,
 "nbformat_minor": 5
}
