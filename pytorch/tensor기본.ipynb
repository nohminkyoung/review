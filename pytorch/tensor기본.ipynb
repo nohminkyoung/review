{
 "cells": [
  {
   "cell_type": "code",
   "execution_count": 83,
   "id": "505138b4",
   "metadata": {},
   "outputs": [],
   "source": [
    "import torch\n",
    "import numpy as np"
   ]
  },
  {
   "cell_type": "markdown",
   "id": "abeb303a",
   "metadata": {},
   "source": [
    "### 텐서 계산"
   ]
  },
  {
   "cell_type": "markdown",
   "id": "133783af",
   "metadata": {},
   "source": [
    "#### 덧셈"
   ]
  },
  {
   "cell_type": "code",
   "execution_count": 46,
   "id": "f645a5e9",
   "metadata": {},
   "outputs": [],
   "source": [
    "m1 = torch.FloatTensor([[3,3]])\n",
    "m2 = torch.FloatTensor([[2,2]])"
   ]
  },
  {
   "cell_type": "code",
   "execution_count": 47,
   "id": "98321d9a",
   "metadata": {},
   "outputs": [
    {
     "data": {
      "text/plain": [
       "tensor([[5., 5.]])"
      ]
     },
     "execution_count": 47,
     "metadata": {},
     "output_type": "execute_result"
    }
   ],
   "source": [
    "m1+m2"
   ]
  },
  {
   "cell_type": "code",
   "execution_count": 48,
   "id": "1a486d21",
   "metadata": {},
   "outputs": [],
   "source": [
    "m1 = torch.FloatTensor([[1,3]])\n",
    "m2 = torch.FloatTensor([3])"
   ]
  },
  {
   "cell_type": "code",
   "execution_count": 49,
   "id": "54c9d057",
   "metadata": {},
   "outputs": [
    {
     "data": {
      "text/plain": [
       "tensor([[4., 6.]])"
      ]
     },
     "execution_count": 49,
     "metadata": {},
     "output_type": "execute_result"
    }
   ],
   "source": [
    "m1+m2 # 브로드케스팅됨"
   ]
  },
  {
   "cell_type": "code",
   "execution_count": null,
   "id": "278e8748",
   "metadata": {},
   "outputs": [],
   "source": []
  },
  {
   "cell_type": "markdown",
   "id": "4bad8c26",
   "metadata": {},
   "source": [
    "#### 곱셈"
   ]
  },
  {
   "cell_type": "code",
   "execution_count": 35,
   "id": "9e0d75e6",
   "metadata": {},
   "outputs": [],
   "source": [
    "m1 = torch.FloatTensor([[1, 2], [3, 4]])\n",
    "m2 = torch.FloatTensor([[1], [2]])"
   ]
  },
  {
   "cell_type": "code",
   "execution_count": 38,
   "id": "d229e72b",
   "metadata": {},
   "outputs": [
    {
     "data": {
      "text/plain": [
       "tensor([[1., 2.],\n",
       "        [3., 4.]])"
      ]
     },
     "execution_count": 38,
     "metadata": {},
     "output_type": "execute_result"
    }
   ],
   "source": [
    "m1"
   ]
  },
  {
   "cell_type": "code",
   "execution_count": 39,
   "id": "7c2665c4",
   "metadata": {},
   "outputs": [
    {
     "data": {
      "text/plain": [
       "tensor([[1.],\n",
       "        [2.]])"
      ]
     },
     "execution_count": 39,
     "metadata": {},
     "output_type": "execute_result"
    }
   ],
   "source": [
    "m2"
   ]
  },
  {
   "cell_type": "code",
   "execution_count": 37,
   "id": "af476c58",
   "metadata": {},
   "outputs": [
    {
     "name": "stdout",
     "output_type": "stream",
     "text": [
      "tensor([[ 5.],\n",
      "        [11.]])\n"
     ]
    }
   ],
   "source": [
    "print(m1.matmul(m2)) # 행렬의 곱"
   ]
  },
  {
   "cell_type": "code",
   "execution_count": 40,
   "id": "40510b23",
   "metadata": {},
   "outputs": [
    {
     "name": "stdout",
     "output_type": "stream",
     "text": [
      "tensor([[1., 2.],\n",
      "        [6., 8.]])\n"
     ]
    }
   ],
   "source": [
    "print(m1.mul(m2)) # 원소끼리 곱"
   ]
  },
  {
   "cell_type": "markdown",
   "id": "b1de2904",
   "metadata": {},
   "source": [
    "#### 평균"
   ]
  },
  {
   "cell_type": "code",
   "execution_count": 41,
   "id": "f4a02132",
   "metadata": {},
   "outputs": [],
   "source": [
    "t = torch.FloatTensor([[1, 2], [3, 4]])"
   ]
  },
  {
   "cell_type": "code",
   "execution_count": 54,
   "id": "41bbd4a6",
   "metadata": {},
   "outputs": [
    {
     "data": {
      "text/plain": [
       "tensor([[1., 2.],\n",
       "        [3., 4.]])"
      ]
     },
     "execution_count": 54,
     "metadata": {},
     "output_type": "execute_result"
    }
   ],
   "source": [
    "t"
   ]
  },
  {
   "cell_type": "code",
   "execution_count": 51,
   "id": "31872908",
   "metadata": {},
   "outputs": [
    {
     "data": {
      "text/plain": [
       "tensor(2.5000)"
      ]
     },
     "execution_count": 51,
     "metadata": {},
     "output_type": "execute_result"
    }
   ],
   "source": [
    "t.mean() # 4개 원소의 전체평균"
   ]
  },
  {
   "cell_type": "code",
   "execution_count": 55,
   "id": "f3cd3237",
   "metadata": {},
   "outputs": [
    {
     "name": "stdout",
     "output_type": "stream",
     "text": [
      "tensor([2., 3.])\n"
     ]
    }
   ],
   "source": [
    "print(t.mean(dim=0)) # 열방향 평균 ㅣ"
   ]
  },
  {
   "cell_type": "code",
   "execution_count": 57,
   "id": "9ce68976",
   "metadata": {},
   "outputs": [
    {
     "name": "stdout",
     "output_type": "stream",
     "text": [
      "tensor([1.5000, 3.5000])\n"
     ]
    }
   ],
   "source": [
    "print(t.mean(dim=1)) # 행방향 평균 -"
   ]
  },
  {
   "cell_type": "markdown",
   "id": "73459c26",
   "metadata": {},
   "source": [
    "#### 합계 "
   ]
  },
  {
   "cell_type": "code",
   "execution_count": 59,
   "id": "e0e52572",
   "metadata": {},
   "outputs": [
    {
     "data": {
      "text/plain": [
       "tensor([[1., 2.],\n",
       "        [3., 4.]])"
      ]
     },
     "execution_count": 59,
     "metadata": {},
     "output_type": "execute_result"
    }
   ],
   "source": [
    "t = torch.FloatTensor([[1, 2], [3, 4]])\n",
    "t"
   ]
  },
  {
   "cell_type": "code",
   "execution_count": 60,
   "id": "16f11355",
   "metadata": {},
   "outputs": [
    {
     "data": {
      "text/plain": [
       "tensor(10.)"
      ]
     },
     "execution_count": 60,
     "metadata": {},
     "output_type": "execute_result"
    }
   ],
   "source": [
    "t.sum() # 전체원소 합"
   ]
  },
  {
   "cell_type": "code",
   "execution_count": 61,
   "id": "70a204e7",
   "metadata": {},
   "outputs": [
    {
     "data": {
      "text/plain": [
       "tensor([4., 6.])"
      ]
     },
     "execution_count": 61,
     "metadata": {},
     "output_type": "execute_result"
    }
   ],
   "source": [
    "t.sum(dim=0) # 열방향 합 ㅣ"
   ]
  },
  {
   "cell_type": "code",
   "execution_count": 63,
   "id": "1571227f",
   "metadata": {},
   "outputs": [
    {
     "data": {
      "text/plain": [
       "tensor([3., 7.])"
      ]
     },
     "execution_count": 63,
     "metadata": {},
     "output_type": "execute_result"
    }
   ],
   "source": [
    "t.sum(dim=1) # 행방향 합 -"
   ]
  },
  {
   "cell_type": "markdown",
   "id": "80a94bbb",
   "metadata": {},
   "source": [
    "#### 최대"
   ]
  },
  {
   "cell_type": "code",
   "execution_count": 73,
   "id": "e0cbda18",
   "metadata": {},
   "outputs": [
    {
     "data": {
      "text/plain": [
       "tensor([[8., 2.],\n",
       "        [3., 4.]])"
      ]
     },
     "execution_count": 73,
     "metadata": {},
     "output_type": "execute_result"
    }
   ],
   "source": [
    "t = torch.FloatTensor([[8, 2], [3, 4]])\n",
    "t"
   ]
  },
  {
   "cell_type": "code",
   "execution_count": 74,
   "id": "e0831f39",
   "metadata": {},
   "outputs": [
    {
     "data": {
      "text/plain": [
       "tensor(8.)"
      ]
     },
     "execution_count": 74,
     "metadata": {},
     "output_type": "execute_result"
    }
   ],
   "source": [
    "t.max() # 전체중 최대"
   ]
  },
  {
   "cell_type": "code",
   "execution_count": 78,
   "id": "5b791185",
   "metadata": {},
   "outputs": [
    {
     "data": {
      "text/plain": [
       "tensor(0)"
      ]
     },
     "execution_count": 78,
     "metadata": {},
     "output_type": "execute_result"
    }
   ],
   "source": [
    "t.argmax() # argmax 가장 큰 원소의 인덱스 "
   ]
  },
  {
   "cell_type": "code",
   "execution_count": 80,
   "id": "080e6301",
   "metadata": {},
   "outputs": [
    {
     "data": {
      "text/plain": [
       "tensor([0, 1])"
      ]
     },
     "execution_count": 80,
     "metadata": {},
     "output_type": "execute_result"
    }
   ],
   "source": [
    "t.argmax(dim=0) # 각 행별로 argmax 가장 큰 원소의 인덱스 "
   ]
  },
  {
   "cell_type": "code",
   "execution_count": null,
   "id": "24a5a912",
   "metadata": {},
   "outputs": [],
   "source": []
  },
  {
   "cell_type": "markdown",
   "id": "dfa54df2",
   "metadata": {},
   "source": [
    "### View == reshape"
   ]
  },
  {
   "cell_type": "code",
   "execution_count": 84,
   "id": "3c237848",
   "metadata": {},
   "outputs": [],
   "source": [
    "t = np.array([[[0, 1, 2],\n",
    "               [3, 4, 5]],\n",
    "              [[6, 7, 8],\n",
    "               [9, 10, 11]]])\n",
    "ft = torch.FloatTensor(t)"
   ]
  },
  {
   "cell_type": "code",
   "execution_count": 87,
   "id": "d4389f50",
   "metadata": {},
   "outputs": [
    {
     "name": "stdout",
     "output_type": "stream",
     "text": [
      "tensor([[[ 0.,  1.,  2.],\n",
      "         [ 3.,  4.,  5.]],\n",
      "\n",
      "        [[ 6.,  7.,  8.],\n",
      "         [ 9., 10., 11.]]])\n",
      "torch.Size([2, 2, 3])\n"
     ]
    }
   ],
   "source": [
    "print(ft)\n",
    "print(ft.shape)"
   ]
  },
  {
   "cell_type": "code",
   "execution_count": 92,
   "id": "736de50f",
   "metadata": {},
   "outputs": [
    {
     "name": "stdout",
     "output_type": "stream",
     "text": [
      "tensor([[ 0.,  1.,  2.],\n",
      "        [ 3.,  4.,  5.],\n",
      "        [ 6.,  7.,  8.],\n",
      "        [ 9., 10., 11.]])\n",
      "torch.Size([4, 3])\n"
     ]
    }
   ],
   "source": [
    "print(ft.view([-1,3]))\n",
    "print(ft.view([-1,3]).size())"
   ]
  },
  {
   "cell_type": "code",
   "execution_count": null,
   "id": "fa2ada9d",
   "metadata": {},
   "outputs": [],
   "source": []
  },
  {
   "cell_type": "markdown",
   "id": "333dbb69",
   "metadata": {},
   "source": [
    "### Squeeze : 1인 차원 제거"
   ]
  },
  {
   "cell_type": "code",
   "execution_count": 93,
   "id": "559aef9a",
   "metadata": {},
   "outputs": [
    {
     "name": "stdout",
     "output_type": "stream",
     "text": [
      "tensor([[0.],\n",
      "        [1.],\n",
      "        [2.]])\n",
      "torch.Size([3, 1])\n"
     ]
    }
   ],
   "source": [
    "ft = torch.FloatTensor([[0], [1], [2]])\n",
    "print(ft)\n",
    "print(ft.shape)\n"
   ]
  },
  {
   "cell_type": "code",
   "execution_count": 94,
   "id": "4b9f8f43",
   "metadata": {},
   "outputs": [
    {
     "name": "stdout",
     "output_type": "stream",
     "text": [
      "tensor([0., 1., 2.])\n",
      "torch.Size([3])\n"
     ]
    }
   ],
   "source": [
    "print(ft.squeeze())\n",
    "print(ft.squeeze().shape)"
   ]
  },
  {
   "cell_type": "markdown",
   "id": "956b1060",
   "metadata": {},
   "source": [
    "### Unsqueeze : 특정 위치에 1인 차원을 추가"
   ]
  },
  {
   "cell_type": "code",
   "execution_count": 106,
   "id": "6e1d7473",
   "metadata": {},
   "outputs": [
    {
     "name": "stdout",
     "output_type": "stream",
     "text": [
      "tensor([[0., 1., 2.],\n",
      "        [3., 4., 5.]])\n",
      "torch.Size([2, 3])\n"
     ]
    }
   ],
   "source": [
    "ft = torch.Tensor([[0, 1, 2],[3,4,5]])\n",
    "print(ft)\n",
    "print(ft.shape)"
   ]
  },
  {
   "cell_type": "code",
   "execution_count": 107,
   "id": "12f837e6",
   "metadata": {},
   "outputs": [
    {
     "name": "stdout",
     "output_type": "stream",
     "text": [
      "tensor([[[0., 1., 2.],\n",
      "         [3., 4., 5.]]])\n",
      "torch.Size([1, 2, 3])\n"
     ]
    }
   ],
   "source": [
    "print(ft.unsqueeze(0)) # 0번째 차원에 1 추가\n",
    "print(ft.unsqueeze(0).shape)"
   ]
  },
  {
   "cell_type": "code",
   "execution_count": 108,
   "id": "777fe1de",
   "metadata": {},
   "outputs": [
    {
     "name": "stdout",
     "output_type": "stream",
     "text": [
      "tensor([[[0., 1., 2.]],\n",
      "\n",
      "        [[3., 4., 5.]]])\n",
      "torch.Size([2, 1, 3])\n"
     ]
    }
   ],
   "source": [
    "print(ft.unsqueeze(1)) # 1번째 차원에 1 추가\n",
    "print(ft.unsqueeze(1).shape)"
   ]
  },
  {
   "cell_type": "code",
   "execution_count": 109,
   "id": "00c8e6de",
   "metadata": {
    "scrolled": true
   },
   "outputs": [
    {
     "name": "stdout",
     "output_type": "stream",
     "text": [
      "tensor([[[0.],\n",
      "         [1.],\n",
      "         [2.]],\n",
      "\n",
      "        [[3.],\n",
      "         [4.],\n",
      "         [5.]]])\n",
      "torch.Size([2, 3, 1])\n"
     ]
    }
   ],
   "source": [
    "print(ft.unsqueeze(2)) # 2번째 차원에 1 추가\n",
    "print(ft.unsqueeze(2).shape)"
   ]
  },
  {
   "cell_type": "code",
   "execution_count": null,
   "id": "bb182b6f",
   "metadata": {},
   "outputs": [],
   "source": []
  },
  {
   "cell_type": "markdown",
   "id": "8e83acb4",
   "metadata": {},
   "source": [
    "### 타입변환"
   ]
  },
  {
   "cell_type": "code",
   "execution_count": 111,
   "id": "ed3251d7",
   "metadata": {},
   "outputs": [],
   "source": [
    "t = torch.LongTensor([1, 2, 3, 4]) # 정수형"
   ]
  },
  {
   "cell_type": "code",
   "execution_count": 115,
   "id": "1f6f40b0",
   "metadata": {},
   "outputs": [
    {
     "data": {
      "text/plain": [
       "tensor([1., 2., 3., 4.])"
      ]
     },
     "execution_count": 115,
     "metadata": {},
     "output_type": "execute_result"
    }
   ],
   "source": [
    "x = t.float() # 실수형으로 변환\n",
    "x "
   ]
  },
  {
   "cell_type": "code",
   "execution_count": 116,
   "id": "2b103c55",
   "metadata": {},
   "outputs": [
    {
     "data": {
      "text/plain": [
       "tensor([1, 2, 3, 4])"
      ]
     },
     "execution_count": 116,
     "metadata": {},
     "output_type": "execute_result"
    }
   ],
   "source": [
    "x.long() # 정수형으로 변환"
   ]
  },
  {
   "cell_type": "code",
   "execution_count": 119,
   "id": "54091813",
   "metadata": {},
   "outputs": [
    {
     "data": {
      "text/plain": [
       "tensor([1, 0, 0, 1], dtype=torch.uint8)"
      ]
     },
     "execution_count": 119,
     "metadata": {},
     "output_type": "execute_result"
    }
   ],
   "source": [
    "t2 = torch.ByteTensor([True, False, False, True]) \n",
    "t2"
   ]
  },
  {
   "cell_type": "code",
   "execution_count": null,
   "id": "54d51e81",
   "metadata": {},
   "outputs": [],
   "source": []
  },
  {
   "cell_type": "markdown",
   "id": "ba2f96ec",
   "metadata": {},
   "source": [
    "### 연결"
   ]
  },
  {
   "cell_type": "markdown",
   "id": "115260c7",
   "metadata": {},
   "source": [
    "#### cat"
   ]
  },
  {
   "cell_type": "code",
   "execution_count": 132,
   "id": "f8c86102",
   "metadata": {},
   "outputs": [],
   "source": [
    "x = torch.FloatTensor([[1, 2], [3, 4]])\n",
    "y = torch.FloatTensor([[5, 6], [7, 8]])"
   ]
  },
  {
   "cell_type": "code",
   "execution_count": 133,
   "id": "d41a94c9",
   "metadata": {},
   "outputs": [
    {
     "name": "stdout",
     "output_type": "stream",
     "text": [
      "tensor([[1., 2.],\n",
      "        [3., 4.],\n",
      "        [5., 6.],\n",
      "        [7., 8.]])\n",
      "torch.Size([4, 2])\n"
     ]
    }
   ],
   "source": [
    "print(torch.cat([x, y], dim=0)) # 행방향으로 추가 ㅣ\n",
    "print(torch.cat([x, y], dim=0).size()) "
   ]
  },
  {
   "cell_type": "code",
   "execution_count": 134,
   "id": "baf20962",
   "metadata": {},
   "outputs": [
    {
     "name": "stdout",
     "output_type": "stream",
     "text": [
      "tensor([[1., 2., 5., 6.],\n",
      "        [3., 4., 7., 8.]])\n"
     ]
    }
   ],
   "source": [
    "print(torch.cat([x, y], dim=1)) # 열방향으로 추가 -"
   ]
  },
  {
   "cell_type": "markdown",
   "id": "95aff50c",
   "metadata": {},
   "source": [
    "#### Stacking"
   ]
  },
  {
   "cell_type": "code",
   "execution_count": 135,
   "id": "035f73b6",
   "metadata": {},
   "outputs": [],
   "source": [
    "x = torch.FloatTensor([1, 4])\n",
    "y = torch.FloatTensor([2, 5])\n",
    "z = torch.FloatTensor([3, 6])"
   ]
  },
  {
   "cell_type": "code",
   "execution_count": 136,
   "id": "087dd94d",
   "metadata": {},
   "outputs": [
    {
     "name": "stdout",
     "output_type": "stream",
     "text": [
      "tensor([[1., 4.],\n",
      "        [2., 5.],\n",
      "        [3., 6.]])\n",
      "torch.Size([3, 2])\n"
     ]
    }
   ],
   "source": [
    "print(torch.stack([x, y, z]))\n",
    "print(torch.stack([x, y, z]).size()) # 차원이 증가"
   ]
  },
  {
   "cell_type": "code",
   "execution_count": 138,
   "id": "5cf5eba6",
   "metadata": {},
   "outputs": [
    {
     "name": "stdout",
     "output_type": "stream",
     "text": [
      "tensor([1., 4., 2., 5., 3., 6.])\n",
      "torch.Size([6])\n"
     ]
    }
   ],
   "source": [
    "# cat과 stacking의 차원 비교 \n",
    "print(torch.cat([x, y, z], dim=0))\n",
    "print(torch.cat([x, y, z], dim=0).size()) "
   ]
  },
  {
   "cell_type": "markdown",
   "id": "1bb2bb9b",
   "metadata": {},
   "source": [
    "### ones_like / zeros_like"
   ]
  },
  {
   "cell_type": "code",
   "execution_count": 144,
   "id": "e69f3053",
   "metadata": {},
   "outputs": [
    {
     "name": "stdout",
     "output_type": "stream",
     "text": [
      "tensor([[0., 1., 2.],\n",
      "        [2., 1., 0.]])\n",
      "torch.Size([2, 3])\n"
     ]
    }
   ],
   "source": [
    "s = torch.FloatTensor([[0, 1, 2], [2, 1, 0]])\n",
    "print(s)\n",
    "print(s.size())"
   ]
  },
  {
   "cell_type": "code",
   "execution_count": 146,
   "id": "b668afe6",
   "metadata": {},
   "outputs": [
    {
     "name": "stdout",
     "output_type": "stream",
     "text": [
      "tensor([[1., 1., 1.],\n",
      "        [1., 1., 1.]])\n",
      "torch.Size([2, 3])\n"
     ]
    }
   ],
   "source": [
    "print(torch.ones_like(s))\n",
    "print(torch.ones_like(s).size())"
   ]
  },
  {
   "cell_type": "code",
   "execution_count": 147,
   "id": "93b7d2ed",
   "metadata": {},
   "outputs": [
    {
     "name": "stdout",
     "output_type": "stream",
     "text": [
      "tensor([[0., 0., 0.],\n",
      "        [0., 0., 0.]])\n",
      "torch.Size([2, 3])\n"
     ]
    }
   ],
   "source": [
    "print(torch.zeros_like(s))\n",
    "print(torch.zeros_like(s).size())"
   ]
  },
  {
   "cell_type": "code",
   "execution_count": null,
   "id": "54b772d2",
   "metadata": {},
   "outputs": [],
   "source": []
  }
 ],
 "metadata": {
  "kernelspec": {
   "display_name": "Python 3 (ipykernel)",
   "language": "python",
   "name": "python3"
  },
  "language_info": {
   "codemirror_mode": {
    "name": "ipython",
    "version": 3
   },
   "file_extension": ".py",
   "mimetype": "text/x-python",
   "name": "python",
   "nbconvert_exporter": "python",
   "pygments_lexer": "ipython3",
   "version": "3.9.16"
  }
 },
 "nbformat": 4,
 "nbformat_minor": 5
}
