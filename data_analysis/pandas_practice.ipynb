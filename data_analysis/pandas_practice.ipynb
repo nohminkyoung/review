{
 "cells": [
  {
   "cell_type": "code",
   "execution_count": 2,
   "id": "f1e41e69",
   "metadata": {},
   "outputs": [],
   "source": [
    "import pandas as pd\n",
    "import numpy as np"
   ]
  },
  {
   "cell_type": "markdown",
   "id": "bdd42011",
   "metadata": {},
   "source": [
    "## 1. 데이터에서 IQR을 활용해 Fare컬럼의 이상치를 찾고, 이상치 데이터의 여성 수를 구하시오\n"
   ]
  },
  {
   "cell_type": "code",
   "execution_count": 3,
   "id": "af2f272b",
   "metadata": {},
   "outputs": [],
   "source": [
    "df = pd.read_csv('./data/train.csv')"
   ]
  },
  {
   "cell_type": "code",
   "execution_count": 3,
   "id": "45898e31",
   "metadata": {},
   "outputs": [
    {
     "data": {
      "text/html": [
       "<div>\n",
       "<style scoped>\n",
       "    .dataframe tbody tr th:only-of-type {\n",
       "        vertical-align: middle;\n",
       "    }\n",
       "\n",
       "    .dataframe tbody tr th {\n",
       "        vertical-align: top;\n",
       "    }\n",
       "\n",
       "    .dataframe thead th {\n",
       "        text-align: right;\n",
       "    }\n",
       "</style>\n",
       "<table border=\"1\" class=\"dataframe\">\n",
       "  <thead>\n",
       "    <tr style=\"text-align: right;\">\n",
       "      <th></th>\n",
       "      <th>PassengerId</th>\n",
       "      <th>Survived</th>\n",
       "      <th>Pclass</th>\n",
       "      <th>Name</th>\n",
       "      <th>Sex</th>\n",
       "      <th>Age</th>\n",
       "      <th>SibSp</th>\n",
       "      <th>Parch</th>\n",
       "      <th>Ticket</th>\n",
       "      <th>Fare</th>\n",
       "      <th>Cabin</th>\n",
       "      <th>Embarked</th>\n",
       "    </tr>\n",
       "  </thead>\n",
       "  <tbody>\n",
       "    <tr>\n",
       "      <th>0</th>\n",
       "      <td>1</td>\n",
       "      <td>0</td>\n",
       "      <td>3</td>\n",
       "      <td>Braund, Mr. Owen Harris</td>\n",
       "      <td>male</td>\n",
       "      <td>22.0</td>\n",
       "      <td>1</td>\n",
       "      <td>0</td>\n",
       "      <td>A/5 21171</td>\n",
       "      <td>7.2500</td>\n",
       "      <td>NaN</td>\n",
       "      <td>S</td>\n",
       "    </tr>\n",
       "    <tr>\n",
       "      <th>1</th>\n",
       "      <td>2</td>\n",
       "      <td>1</td>\n",
       "      <td>1</td>\n",
       "      <td>Cumings, Mrs. John Bradley (Florence Briggs Th...</td>\n",
       "      <td>female</td>\n",
       "      <td>38.0</td>\n",
       "      <td>1</td>\n",
       "      <td>0</td>\n",
       "      <td>PC 17599</td>\n",
       "      <td>71.2833</td>\n",
       "      <td>C85</td>\n",
       "      <td>C</td>\n",
       "    </tr>\n",
       "    <tr>\n",
       "      <th>2</th>\n",
       "      <td>3</td>\n",
       "      <td>1</td>\n",
       "      <td>3</td>\n",
       "      <td>Heikkinen, Miss. Laina</td>\n",
       "      <td>female</td>\n",
       "      <td>26.0</td>\n",
       "      <td>0</td>\n",
       "      <td>0</td>\n",
       "      <td>STON/O2. 3101282</td>\n",
       "      <td>7.9250</td>\n",
       "      <td>NaN</td>\n",
       "      <td>S</td>\n",
       "    </tr>\n",
       "    <tr>\n",
       "      <th>3</th>\n",
       "      <td>4</td>\n",
       "      <td>1</td>\n",
       "      <td>1</td>\n",
       "      <td>Futrelle, Mrs. Jacques Heath (Lily May Peel)</td>\n",
       "      <td>female</td>\n",
       "      <td>35.0</td>\n",
       "      <td>1</td>\n",
       "      <td>0</td>\n",
       "      <td>113803</td>\n",
       "      <td>53.1000</td>\n",
       "      <td>C123</td>\n",
       "      <td>S</td>\n",
       "    </tr>\n",
       "    <tr>\n",
       "      <th>4</th>\n",
       "      <td>5</td>\n",
       "      <td>0</td>\n",
       "      <td>3</td>\n",
       "      <td>Allen, Mr. William Henry</td>\n",
       "      <td>male</td>\n",
       "      <td>35.0</td>\n",
       "      <td>0</td>\n",
       "      <td>0</td>\n",
       "      <td>373450</td>\n",
       "      <td>8.0500</td>\n",
       "      <td>NaN</td>\n",
       "      <td>S</td>\n",
       "    </tr>\n",
       "    <tr>\n",
       "      <th>...</th>\n",
       "      <td>...</td>\n",
       "      <td>...</td>\n",
       "      <td>...</td>\n",
       "      <td>...</td>\n",
       "      <td>...</td>\n",
       "      <td>...</td>\n",
       "      <td>...</td>\n",
       "      <td>...</td>\n",
       "      <td>...</td>\n",
       "      <td>...</td>\n",
       "      <td>...</td>\n",
       "      <td>...</td>\n",
       "    </tr>\n",
       "    <tr>\n",
       "      <th>886</th>\n",
       "      <td>887</td>\n",
       "      <td>0</td>\n",
       "      <td>2</td>\n",
       "      <td>Montvila, Rev. Juozas</td>\n",
       "      <td>male</td>\n",
       "      <td>27.0</td>\n",
       "      <td>0</td>\n",
       "      <td>0</td>\n",
       "      <td>211536</td>\n",
       "      <td>13.0000</td>\n",
       "      <td>NaN</td>\n",
       "      <td>S</td>\n",
       "    </tr>\n",
       "    <tr>\n",
       "      <th>887</th>\n",
       "      <td>888</td>\n",
       "      <td>1</td>\n",
       "      <td>1</td>\n",
       "      <td>Graham, Miss. Margaret Edith</td>\n",
       "      <td>female</td>\n",
       "      <td>19.0</td>\n",
       "      <td>0</td>\n",
       "      <td>0</td>\n",
       "      <td>112053</td>\n",
       "      <td>30.0000</td>\n",
       "      <td>B42</td>\n",
       "      <td>S</td>\n",
       "    </tr>\n",
       "    <tr>\n",
       "      <th>888</th>\n",
       "      <td>889</td>\n",
       "      <td>0</td>\n",
       "      <td>3</td>\n",
       "      <td>Johnston, Miss. Catherine Helen \"Carrie\"</td>\n",
       "      <td>female</td>\n",
       "      <td>NaN</td>\n",
       "      <td>1</td>\n",
       "      <td>2</td>\n",
       "      <td>W./C. 6607</td>\n",
       "      <td>23.4500</td>\n",
       "      <td>NaN</td>\n",
       "      <td>S</td>\n",
       "    </tr>\n",
       "    <tr>\n",
       "      <th>889</th>\n",
       "      <td>890</td>\n",
       "      <td>1</td>\n",
       "      <td>1</td>\n",
       "      <td>Behr, Mr. Karl Howell</td>\n",
       "      <td>male</td>\n",
       "      <td>26.0</td>\n",
       "      <td>0</td>\n",
       "      <td>0</td>\n",
       "      <td>111369</td>\n",
       "      <td>30.0000</td>\n",
       "      <td>C148</td>\n",
       "      <td>C</td>\n",
       "    </tr>\n",
       "    <tr>\n",
       "      <th>890</th>\n",
       "      <td>891</td>\n",
       "      <td>0</td>\n",
       "      <td>3</td>\n",
       "      <td>Dooley, Mr. Patrick</td>\n",
       "      <td>male</td>\n",
       "      <td>32.0</td>\n",
       "      <td>0</td>\n",
       "      <td>0</td>\n",
       "      <td>370376</td>\n",
       "      <td>7.7500</td>\n",
       "      <td>NaN</td>\n",
       "      <td>Q</td>\n",
       "    </tr>\n",
       "  </tbody>\n",
       "</table>\n",
       "<p>891 rows × 12 columns</p>\n",
       "</div>"
      ],
      "text/plain": [
       "     PassengerId  Survived  Pclass  \\\n",
       "0              1         0       3   \n",
       "1              2         1       1   \n",
       "2              3         1       3   \n",
       "3              4         1       1   \n",
       "4              5         0       3   \n",
       "..           ...       ...     ...   \n",
       "886          887         0       2   \n",
       "887          888         1       1   \n",
       "888          889         0       3   \n",
       "889          890         1       1   \n",
       "890          891         0       3   \n",
       "\n",
       "                                                  Name     Sex   Age  SibSp  \\\n",
       "0                              Braund, Mr. Owen Harris    male  22.0      1   \n",
       "1    Cumings, Mrs. John Bradley (Florence Briggs Th...  female  38.0      1   \n",
       "2                               Heikkinen, Miss. Laina  female  26.0      0   \n",
       "3         Futrelle, Mrs. Jacques Heath (Lily May Peel)  female  35.0      1   \n",
       "4                             Allen, Mr. William Henry    male  35.0      0   \n",
       "..                                                 ...     ...   ...    ...   \n",
       "886                              Montvila, Rev. Juozas    male  27.0      0   \n",
       "887                       Graham, Miss. Margaret Edith  female  19.0      0   \n",
       "888           Johnston, Miss. Catherine Helen \"Carrie\"  female   NaN      1   \n",
       "889                              Behr, Mr. Karl Howell    male  26.0      0   \n",
       "890                                Dooley, Mr. Patrick    male  32.0      0   \n",
       "\n",
       "     Parch            Ticket     Fare Cabin Embarked  \n",
       "0        0         A/5 21171   7.2500   NaN        S  \n",
       "1        0          PC 17599  71.2833   C85        C  \n",
       "2        0  STON/O2. 3101282   7.9250   NaN        S  \n",
       "3        0            113803  53.1000  C123        S  \n",
       "4        0            373450   8.0500   NaN        S  \n",
       "..     ...               ...      ...   ...      ...  \n",
       "886      0            211536  13.0000   NaN        S  \n",
       "887      0            112053  30.0000   B42        S  \n",
       "888      2        W./C. 6607  23.4500   NaN        S  \n",
       "889      0            111369  30.0000  C148        C  \n",
       "890      0            370376   7.7500   NaN        Q  \n",
       "\n",
       "[891 rows x 12 columns]"
      ]
     },
     "execution_count": 3,
     "metadata": {},
     "output_type": "execute_result"
    }
   ],
   "source": [
    "df"
   ]
  },
  {
   "cell_type": "code",
   "execution_count": 4,
   "id": "0b9b2d43",
   "metadata": {},
   "outputs": [
    {
     "name": "stdout",
     "output_type": "stream",
     "text": [
      "70\n"
     ]
    }
   ],
   "source": [
    "q1,q3 = df['Fare'].quantile([0.25,0.75])\n",
    "\n",
    "iqr = q3 - q1\n",
    "\n",
    "max_ = q3+1.5*iqr # q3,q1 +- 1.5*iqr (1.5잊지말기)\n",
    "min_ = q1-1.5*iqr\n",
    "\n",
    "x = df[(df['Fare']>max_)|(df['Fare']<min_)]\n",
    "\n",
    "cnt = x['Sex'].value_counts()\n",
    "\n",
    "print(cnt['female'])"
   ]
  },
  {
   "cell_type": "code",
   "execution_count": null,
   "id": "2b847ccc",
   "metadata": {},
   "outputs": [],
   "source": []
  },
  {
   "cell_type": "markdown",
   "id": "6967b2f6",
   "metadata": {},
   "source": [
    "## 2. basic1.csv에서 이상치(소수점 나이)를 찾고 올림, 내림, 버림(절사)했을때 3가지 모두 이상치 'age' 평균을 구한 다음 모두 더하여 출력하시오\n",
    "\n",
    "- 올림 내림 버림 구하는 법 몰랐음"
   ]
  },
  {
   "cell_type": "code",
   "execution_count": 7,
   "id": "a188c9f6",
   "metadata": {},
   "outputs": [],
   "source": [
    "df2 = pd.read_csv('./data/basic1.csv')"
   ]
  },
  {
   "cell_type": "code",
   "execution_count": 6,
   "id": "14c57e54",
   "metadata": {
    "scrolled": true
   },
   "outputs": [
    {
     "name": "stdout",
     "output_type": "stream",
     "text": [
      "<class 'pandas.core.frame.DataFrame'>\n",
      "RangeIndex: 100 entries, 0 to 99\n",
      "Data columns (total 8 columns):\n",
      " #   Column  Non-Null Count  Dtype  \n",
      "---  ------  --------------  -----  \n",
      " 0   id      100 non-null    object \n",
      " 1   age     100 non-null    float64\n",
      " 2   city    100 non-null    object \n",
      " 3   f1      69 non-null     float64\n",
      " 4   f2      100 non-null    int64  \n",
      " 5   f3      5 non-null      object \n",
      " 6   f4      100 non-null    object \n",
      " 7   f5      100 non-null    float64\n",
      "dtypes: float64(3), int64(1), object(4)\n",
      "memory usage: 6.4+ KB\n"
     ]
    }
   ],
   "source": [
    "df2.info()"
   ]
  },
  {
   "cell_type": "code",
   "execution_count": 165,
   "id": "d973c9e5",
   "metadata": {
    "scrolled": true
   },
   "outputs": [
    {
     "data": {
      "text/plain": [
       "-0.3999999999999999"
      ]
     },
     "execution_count": 165,
     "metadata": {},
     "output_type": "execute_result"
    }
   ],
   "source": [
    "int(1.4) - 1.4"
   ]
  },
  {
   "cell_type": "code",
   "execution_count": 28,
   "id": "2c2fa6b9",
   "metadata": {},
   "outputs": [
    {
     "name": "stdout",
     "output_type": "stream",
     "text": [
      "69.5\n"
     ]
    }
   ],
   "source": [
    "# int(1.4)-1.4 != 0 일때 소수임을 이용\n",
    "x = df2[(df2['age'].astype(dtype=int)-df2['age'])!=0]\n",
    "\n",
    "\n",
    "x_ceil = np.ceil(x['age']).mean()  # 올림: np.ceil()\n",
    "x_floor = np.floor(x['age']).mean()# 내림: np.floor()\n",
    "x_trunc = np.trunc(x['age']).mean()# 버림: np.trunc()\n",
    "\n",
    "print(x_ceil+x_floor+x_trunc)"
   ]
  },
  {
   "cell_type": "code",
   "execution_count": null,
   "id": "67d64853",
   "metadata": {},
   "outputs": [],
   "source": []
  },
  {
   "cell_type": "markdown",
   "id": "89b423ee",
   "metadata": {},
   "source": [
    "## 3. 주어진 데이터에서 결측치가 80%이상 되는 컬럼은(변수는) 삭제하고, 80% 미만인 결측치가 있는 컬럼은 'city'별 중앙값으로 값을 대체하고 'f1'컬럼의 평균값을 출력하세요!"
   ]
  },
  {
   "cell_type": "code",
   "execution_count": 20,
   "id": "72058105",
   "metadata": {},
   "outputs": [],
   "source": [
    "df3 = pd.read_csv('./data/basic1.csv')"
   ]
  },
  {
   "cell_type": "code",
   "execution_count": 21,
   "id": "b7693c2d",
   "metadata": {},
   "outputs": [
    {
     "name": "stdout",
     "output_type": "stream",
     "text": [
      "<class 'pandas.core.frame.DataFrame'>\n",
      "RangeIndex: 100 entries, 0 to 99\n",
      "Data columns (total 8 columns):\n",
      " #   Column  Non-Null Count  Dtype  \n",
      "---  ------  --------------  -----  \n",
      " 0   id      100 non-null    object \n",
      " 1   age     100 non-null    float64\n",
      " 2   city    100 non-null    object \n",
      " 3   f1      69 non-null     float64\n",
      " 4   f2      100 non-null    int64  \n",
      " 5   f3      5 non-null      object \n",
      " 6   f4      100 non-null    object \n",
      " 7   f5      100 non-null    float64\n",
      "dtypes: float64(3), int64(1), object(4)\n",
      "memory usage: 6.4+ KB\n"
     ]
    }
   ],
   "source": [
    "df3.info()"
   ]
  },
  {
   "cell_type": "code",
   "execution_count": 22,
   "id": "23530fda",
   "metadata": {},
   "outputs": [
    {
     "name": "stdout",
     "output_type": "stream",
     "text": [
      "0.31 0.95\n"
     ]
    }
   ],
   "source": [
    "f1_ = df3['f1'].isnull().sum()/len(df3)\n",
    "f3_ = df3['f3'].isnull().sum()/df3.shape[0]\n",
    "\n",
    "print(f1_,f3_)"
   ]
  },
  {
   "cell_type": "code",
   "execution_count": 23,
   "id": "5af66891",
   "metadata": {},
   "outputs": [],
   "source": [
    "df3.drop(['f3'],axis=1,inplace = True)"
   ]
  },
  {
   "cell_type": "code",
   "execution_count": 24,
   "id": "f6a6edd8",
   "metadata": {},
   "outputs": [
    {
     "data": {
      "text/html": [
       "<div>\n",
       "<style scoped>\n",
       "    .dataframe tbody tr th:only-of-type {\n",
       "        vertical-align: middle;\n",
       "    }\n",
       "\n",
       "    .dataframe tbody tr th {\n",
       "        vertical-align: top;\n",
       "    }\n",
       "\n",
       "    .dataframe thead th {\n",
       "        text-align: right;\n",
       "    }\n",
       "</style>\n",
       "<table border=\"1\" class=\"dataframe\">\n",
       "  <thead>\n",
       "    <tr style=\"text-align: right;\">\n",
       "      <th></th>\n",
       "      <th>age</th>\n",
       "      <th>f1</th>\n",
       "      <th>f2</th>\n",
       "      <th>f5</th>\n",
       "    </tr>\n",
       "    <tr>\n",
       "      <th>city</th>\n",
       "      <th></th>\n",
       "      <th></th>\n",
       "      <th></th>\n",
       "      <th></th>\n",
       "    </tr>\n",
       "  </thead>\n",
       "  <tbody>\n",
       "    <tr>\n",
       "      <th>경기</th>\n",
       "      <td>63.00</td>\n",
       "      <td>58.0</td>\n",
       "      <td>0.0</td>\n",
       "      <td>69.730313</td>\n",
       "    </tr>\n",
       "    <tr>\n",
       "      <th>대구</th>\n",
       "      <td>57.50</td>\n",
       "      <td>75.0</td>\n",
       "      <td>0.0</td>\n",
       "      <td>33.308999</td>\n",
       "    </tr>\n",
       "    <tr>\n",
       "      <th>부산</th>\n",
       "      <td>47.00</td>\n",
       "      <td>62.0</td>\n",
       "      <td>1.0</td>\n",
       "      <td>52.667078</td>\n",
       "    </tr>\n",
       "    <tr>\n",
       "      <th>서울</th>\n",
       "      <td>31.65</td>\n",
       "      <td>68.0</td>\n",
       "      <td>1.0</td>\n",
       "      <td>67.886373</td>\n",
       "    </tr>\n",
       "  </tbody>\n",
       "</table>\n",
       "</div>"
      ],
      "text/plain": [
       "        age    f1   f2         f5\n",
       "city                             \n",
       "경기    63.00  58.0  0.0  69.730313\n",
       "대구    57.50  75.0  0.0  33.308999\n",
       "부산    47.00  62.0  1.0  52.667078\n",
       "서울    31.65  68.0  1.0  67.886373"
      ]
     },
     "execution_count": 24,
     "metadata": {},
     "output_type": "execute_result"
    }
   ],
   "source": [
    "df3_g = df3.groupby(['city']).median()\n",
    "df3_g"
   ]
  },
  {
   "cell_type": "code",
   "execution_count": 26,
   "id": "f74e4de0",
   "metadata": {},
   "outputs": [
    {
     "name": "stdout",
     "output_type": "stream",
     "text": [
      "65.52\n"
     ]
    }
   ],
   "source": [
    "# fillna만 사용해서는 데이터가 바뀐값으로 저장되지 않음, 데이터에 넣어줘야함\n",
    "\n",
    "df3[df3['city'] == '경기'] = df3[df3['city'] == '경기'].fillna(df3_g.loc['경기']['f1'])\n",
    "df3[df3['city'] == '서울'] = df3[df3['city'] == '서울'].fillna(df3_g.loc['서울']['f1'])\n",
    "df3[df3['city'] == '대구'] = df3[df3['city'] == '대구'].fillna(df3_g.loc['대구']['f1'])\n",
    "df3[df3['city'] == '부산'] = df3[df3['city'] == '부산'].fillna(df3_g.loc['부산']['f1'])\n",
    "\n",
    "print(df3['f1'].mean())"
   ]
  },
  {
   "cell_type": "code",
   "execution_count": null,
   "id": "391ed6f1",
   "metadata": {},
   "outputs": [],
   "source": []
  },
  {
   "cell_type": "markdown",
   "id": "d8f124a1",
   "metadata": {},
   "source": [
    "## 4. 주어진 데이터 중 train.csv에서 'SalePrice'컬럼의 왜도와 첨도를 구한 값과, 'SalePrice'컬럼을 스케일링(log1p)로 변환한 이후 왜도와 첨도를 구해 모두 더한 다음 소수점 2째자리까지 출력하시오"
   ]
  },
  {
   "cell_type": "code",
   "execution_count": 27,
   "id": "daf29ac2",
   "metadata": {},
   "outputs": [],
   "source": [
    "df4 = pd.read_csv('./data/data4.csv')"
   ]
  },
  {
   "cell_type": "code",
   "execution_count": 28,
   "id": "3a89a7c8",
   "metadata": {},
   "outputs": [
    {
     "name": "stdout",
     "output_type": "stream",
     "text": [
      "9.35\n"
     ]
    }
   ],
   "source": [
    "s1 = df4['SalePrice'].skew() # 왜도 구하기 : df.skew()\n",
    "k1 = df4['SalePrice'].kurt() # 첨도 구하기 : df.kurt()\n",
    "\n",
    "log = np.log1p(df4['SalePrice'])\n",
    "s2 = log.skew()\n",
    "k2 = log.kurt()\n",
    "\n",
    "print(round(s1+s2+k1+k2 ,2)) # 2째자리까지 나타내기"
   ]
  },
  {
   "cell_type": "code",
   "execution_count": null,
   "id": "53aecf64",
   "metadata": {},
   "outputs": [],
   "source": []
  },
  {
   "cell_type": "markdown",
   "id": "bd88b394",
   "metadata": {},
   "source": [
    "## 5. 주어진 데이터 중 basic1.csv에서 'f4'컬럼 값이 'ENFJ'와 'INFP'인 'f1'의 표준편차 차이를 절대값으로 구하시오"
   ]
  },
  {
   "cell_type": "code",
   "execution_count": 30,
   "id": "f5303a07",
   "metadata": {},
   "outputs": [],
   "source": [
    "df5 = pd.read_csv('./data/basic1.csv')"
   ]
  },
  {
   "cell_type": "code",
   "execution_count": 31,
   "id": "6bb9560f",
   "metadata": {},
   "outputs": [
    {
     "name": "stdout",
     "output_type": "stream",
     "text": [
      "5.859621525876811\n"
     ]
    }
   ],
   "source": [
    "enfj = df5[df5['f4']=='ENFJ']['f1'].std()\n",
    "infp = df5[df5['f4']=='INFP']['f1'].std()\n",
    "           \n",
    "print(abs(enfj-infp))"
   ]
  },
  {
   "cell_type": "code",
   "execution_count": 160,
   "id": "eb78502e",
   "metadata": {},
   "outputs": [
    {
     "name": "stdout",
     "output_type": "stream",
     "text": [
      "<class 'pandas.core.frame.DataFrame'>\n",
      "RangeIndex: 100 entries, 0 to 99\n",
      "Data columns (total 8 columns):\n",
      " #   Column  Non-Null Count  Dtype  \n",
      "---  ------  --------------  -----  \n",
      " 0   id      100 non-null    object \n",
      " 1   age     100 non-null    float64\n",
      " 2   city    100 non-null    object \n",
      " 3   f1      69 non-null     float64\n",
      " 4   f2      100 non-null    int64  \n",
      " 5   f3      5 non-null      object \n",
      " 6   f4      100 non-null    object \n",
      " 7   f5      100 non-null    float64\n",
      "dtypes: float64(3), int64(1), object(4)\n",
      "memory usage: 6.4+ KB\n"
     ]
    }
   ],
   "source": [
    "df5.info()"
   ]
  },
  {
   "cell_type": "code",
   "execution_count": null,
   "id": "9fc385e0",
   "metadata": {},
   "outputs": [],
   "source": []
  },
  {
   "cell_type": "markdown",
   "id": "5623b9d7",
   "metadata": {},
   "source": [
    "## 6. basic1.csv에서 'f1'컬럼 결측 데이터를 제거하고, 'city'와 'f2'을 기준으로 묶어 합계를 구하고, 'city가 경기이면서 f2가 0'인 조건에 만족하는 f1 값을 구하시오"
   ]
  },
  {
   "cell_type": "code",
   "execution_count": 32,
   "id": "d8e128ce",
   "metadata": {},
   "outputs": [],
   "source": [
    "df6 = pd.read_csv('./data/basic1.csv')"
   ]
  },
  {
   "cell_type": "code",
   "execution_count": 34,
   "id": "3cd30f09",
   "metadata": {},
   "outputs": [
    {
     "name": "stdout",
     "output_type": "stream",
     "text": [
      "833.0\n"
     ]
    }
   ],
   "source": [
    "df6_d = df6.dropna(subset=['f1'])\n",
    "\n",
    "df6_g = df6_d.groupby(['city','f2'],as_index = False).sum()\n",
    "\n",
    "print(df6_g[(df6_g['city']=='경기')&(df6_g['f2']==0)]['f1'][0])"
   ]
  },
  {
   "cell_type": "code",
   "execution_count": null,
   "id": "e2690095",
   "metadata": {},
   "outputs": [],
   "source": []
  },
  {
   "cell_type": "markdown",
   "id": "f9e05c8d",
   "metadata": {},
   "source": [
    "## 7. f4'컬럼의 값이 'ESFJ'인 데이터를 'ISFJ'로 대체하고, 'city'가 '경기'이면서 'f4'가 'ISFJ'인 데이터 중 'age'컬럼의 최대값을 출력하시오!"
   ]
  },
  {
   "cell_type": "code",
   "execution_count": 38,
   "id": "12189aae",
   "metadata": {},
   "outputs": [],
   "source": [
    "df7 = pd.read_csv('./data/basic1.csv')"
   ]
  },
  {
   "cell_type": "code",
   "execution_count": 39,
   "id": "0cc75c06",
   "metadata": {},
   "outputs": [
    {
     "data": {
      "text/plain": [
       "90.0"
      ]
     },
     "execution_count": 39,
     "metadata": {},
     "output_type": "execute_result"
    }
   ],
   "source": [
    "df7['f4'] = df7['f4'].replace('ESFJ','ISFJ') # 값을 대체하려면 replace 사용 , 기존 값에 저장해줘야 유지됨\n",
    "\n",
    "df7[(df7['city']=='경기')&(df7['f4']=='ISFJ')]['age'].max()"
   ]
  },
  {
   "cell_type": "code",
   "execution_count": null,
   "id": "10b7035a",
   "metadata": {},
   "outputs": [],
   "source": []
  },
  {
   "cell_type": "markdown",
   "id": "b15de57e",
   "metadata": {},
   "source": [
    "## 8. 주어진 데이터 셋에서 'f2' 컬럼이 1인 조건에 해당하는 데이터의 'f1'컬럼 누적합을 계산한다. 이때 발생하는 누적합 결측치는 바로 뒤의 값을 채우고, 누적합의 평균값을 출력한다. (단, 결측치 바로 뒤의 값이 없으면 다음에 나오는 값을 채워넣는다)"
   ]
  },
  {
   "cell_type": "code",
   "execution_count": 40,
   "id": "22d6b639",
   "metadata": {},
   "outputs": [],
   "source": [
    "df8 = pd.read_csv('./data/basic1.csv')"
   ]
  },
  {
   "cell_type": "code",
   "execution_count": 27,
   "id": "dfefcf3d",
   "metadata": {},
   "outputs": [
    {
     "data": {
      "text/plain": [
       "980.3783783783783"
      ]
     },
     "execution_count": 27,
     "metadata": {},
     "output_type": "execute_result"
    }
   ],
   "source": [
    "x = df8[df8['f2']==1]['f1'].cumsum() # 누적합 구하기 : cumsum\n",
    "x.fillna(method='bfill').mean() # 결측치의 바로 뒤의값으로 채우기 : fillna(method='bfill') / 바로 앞 : ffill"
   ]
  },
  {
   "cell_type": "code",
   "execution_count": null,
   "id": "5cbbcec8",
   "metadata": {},
   "outputs": [],
   "source": []
  },
  {
   "cell_type": "markdown",
   "id": "cf1016be",
   "metadata": {},
   "source": [
    "## 9. 주어진 데이터에서 'f5'컬럼을 표준화(Standardization (Z-score Normalization))하고 그 중앙값을 구하시오"
   ]
  },
  {
   "cell_type": "code",
   "execution_count": 42,
   "id": "5231fc9b",
   "metadata": {},
   "outputs": [],
   "source": [
    "df9 = pd.read_csv('./data/basic1.csv')"
   ]
  },
  {
   "cell_type": "code",
   "execution_count": 43,
   "id": "b138a786",
   "metadata": {},
   "outputs": [
    {
     "name": "stdout",
     "output_type": "stream",
     "text": [
      "0.260619629559015\n"
     ]
    }
   ],
   "source": [
    "from sklearn.preprocessing import StandardScaler\n",
    "scaler = StandardScaler()\n",
    "\n",
    "df9[['f5']] = scaler.fit_transform(df9[['f5']]) #2차원 df로 입력해야 2차원 array로 출력됨\n",
    "\n",
    "print(df9['f5'].median())"
   ]
  },
  {
   "cell_type": "code",
   "execution_count": 44,
   "id": "1a43aa8a",
   "metadata": {},
   "outputs": [],
   "source": [
    "x = scaler.fit_transform(df9[['f5']])"
   ]
  },
  {
   "cell_type": "code",
   "execution_count": 45,
   "id": "342b94ce",
   "metadata": {},
   "outputs": [
    {
     "data": {
      "text/plain": [
       "0.26061962955901474"
      ]
     },
     "execution_count": 45,
     "metadata": {},
     "output_type": "execute_result"
    }
   ],
   "source": [
    "np.median(x)"
   ]
  },
  {
   "cell_type": "code",
   "execution_count": null,
   "id": "9a96d1e9",
   "metadata": {},
   "outputs": [],
   "source": []
  },
  {
   "cell_type": "markdown",
   "id": "20dcb2f1",
   "metadata": {},
   "source": [
    "## 10. 주어진 데이터에서 20세 이상인 데이터를 추출하고 'f1'컬럼을 결측치를 최빈값으로 채운 후, f1 컬럼의 여-존슨과 박스콕스 변환 값을 구하고, 두 값의 차이를 절대값으로 구한다음 모두 더해 소수점 둘째 자리까지 출력(반올림)하시오\n",
    "\n",
    "- 여 존슨 , 박스콕스는 구하지마"
   ]
  },
  {
   "cell_type": "code",
   "execution_count": 22,
   "id": "1970afc3",
   "metadata": {},
   "outputs": [],
   "source": [
    "df10 = pd.read_csv('./data/basic1.csv')"
   ]
  },
  {
   "cell_type": "code",
   "execution_count": 23,
   "id": "6435483d",
   "metadata": {},
   "outputs": [],
   "source": [
    "df_20 = df10[df10['age']>=20]\n",
    "\n",
    "df_20['f1'] = df_20['f1'].fillna(df_20['f1'].mode()[0]) # 최빈값은 출력시 값이 나오는게 아니고 인덱스랑 같이 나옴 [0] 해줘야함\n",
    "                                                        # 다른 최대,최소, 중위값은 그대로 사용가능"
   ]
  },
  {
   "cell_type": "markdown",
   "id": "80a27fb1",
   "metadata": {},
   "source": [
    "## 11. 주어진 데이터에서 'f5'컬럼을 min-max 스케일 변환한 후, 상위 5%와 하위 5% 값의 합을 구하시오\n"
   ]
  },
  {
   "cell_type": "code",
   "execution_count": 47,
   "id": "49fb0a4b",
   "metadata": {},
   "outputs": [],
   "source": [
    "df11 = pd.read_csv('./data/basic1.csv')"
   ]
  },
  {
   "cell_type": "code",
   "execution_count": 48,
   "id": "88b29b8c",
   "metadata": {},
   "outputs": [
    {
     "name": "stdout",
     "output_type": "stream",
     "text": [
      "1.0248740983597389\n"
     ]
    }
   ],
   "source": [
    "from sklearn.preprocessing import MinMaxScaler\n",
    "\n",
    "scaler = MinMaxScaler()\n",
    "df11['f5'] = scaler.fit_transform(df11[['f5']])\n",
    "\n",
    "x = df11['f5'].sort_values(ascending = False) # ascending = False(내림차순) : 큰수 -> 작은수\n",
    "\n",
    "low,high = x.quantile([0.05,0.95])\n",
    "\n",
    "print(low+high)"
   ]
  },
  {
   "cell_type": "code",
   "execution_count": 50,
   "id": "b0caef7e",
   "metadata": {
    "scrolled": true
   },
   "outputs": [
    {
     "data": {
      "text/plain": [
       "0    0.719705\n",
       "1    0.833646\n",
       "Name: f5, dtype: float64"
      ]
     },
     "execution_count": 50,
     "metadata": {},
     "output_type": "execute_result"
    }
   ],
   "source": [
    "df11['f5'].mode()"
   ]
  },
  {
   "cell_type": "markdown",
   "id": "08bfc6ed",
   "metadata": {},
   "source": [
    "## 12. 주어진 데이터에서 상위 10개 국가의 접종률 평균과 하위 10개 국가의 접종률 평균을 구하고, 그 차이를 구해보세요 (단, 100%가 넘는 접종률 제거, 소수 첫째자리까지 출력)\n",
    "\n",
    "- ratio 가 접종률이고 이게 높은 국가 10개 뽑아서 접종률 상,하위 10개를 구하면 됨\n",
    "- 접종률은 누적접종률과 같아"
   ]
  },
  {
   "cell_type": "code",
   "execution_count": 53,
   "id": "5bb5fc41",
   "metadata": {},
   "outputs": [],
   "source": [
    "df12 = pd.read_csv('./data/data12.csv')"
   ]
  },
  {
   "cell_type": "code",
   "execution_count": 65,
   "id": "9ff7b59b",
   "metadata": {},
   "outputs": [
    {
     "name": "stdout",
     "output_type": "stream",
     "text": [
      "88\n"
     ]
    }
   ],
   "source": [
    "x = df12.groupby('country').max()['ratio'].sort_values(ascending=False)\n",
    "top = x[x<100][:10].mean()\n",
    "bottom = x[x<100][-10:].mean()\n",
    "\n",
    "print(int(top-bottom))"
   ]
  },
  {
   "cell_type": "code",
   "execution_count": null,
   "id": "11f64b91",
   "metadata": {},
   "outputs": [],
   "source": []
  },
  {
   "cell_type": "markdown",
   "id": "aa4997ec",
   "metadata": {},
   "source": [
    "## 13. 주어진 데이터에서 상관관계를 구하고, quality와의 상관관계가 가장 큰 값과, 가장 작은 값을 구한 다음 더하시오! 단, quality와 quality 상관관계 제외, 소수점 둘째 자리까지 출력"
   ]
  },
  {
   "cell_type": "code",
   "execution_count": 67,
   "id": "0354e717",
   "metadata": {},
   "outputs": [],
   "source": [
    "df13 = pd.read_csv('./data/wine.csv')"
   ]
  },
  {
   "cell_type": "code",
   "execution_count": 68,
   "id": "aab7f808",
   "metadata": {},
   "outputs": [
    {
     "name": "stdout",
     "output_type": "stream",
     "text": [
      "0.49\n"
     ]
    }
   ],
   "source": [
    "x = abs(df13.corr()['quality'].sort_values()[:-1]) # 가장 큰 상관관계를 갖는값은 자기 자신이므로 제외 / 상관관계에서 부호는 빼고 봐야함\n",
    "print(round(x.max()+x.min(),2))"
   ]
  },
  {
   "cell_type": "code",
   "execution_count": null,
   "id": "c87bff02",
   "metadata": {},
   "outputs": [],
   "source": []
  },
  {
   "cell_type": "markdown",
   "id": "3549936b",
   "metadata": {},
   "source": [
    "## 14.city와 f4를 기준으로 f5의 평균값을 구한 다음, f5를 기준으로 상위 7개 값을 모두 더해 출력하시오 (소수점 둘째자리까지 출력)"
   ]
  },
  {
   "cell_type": "code",
   "execution_count": 41,
   "id": "3e7a6b6d",
   "metadata": {},
   "outputs": [],
   "source": [
    "df14 = pd.read_csv('./data/basic1.csv')"
   ]
  },
  {
   "cell_type": "code",
   "execution_count": 44,
   "id": "219ae163",
   "metadata": {},
   "outputs": [
    {
     "name": "stdout",
     "output_type": "stream",
     "text": [
      "643.68\n"
     ]
    }
   ],
   "source": [
    "x = df14.groupby(['city','f4']).mean()['f5'].sort_values(ascending=False)\n",
    "print(round(x[:7].sum(),2))"
   ]
  },
  {
   "cell_type": "code",
   "execution_count": null,
   "id": "2e26128e",
   "metadata": {},
   "outputs": [],
   "source": []
  },
  {
   "cell_type": "markdown",
   "id": "ff8408b2",
   "metadata": {},
   "source": [
    "## 15. 주어진 데이터 셋에서 age컬럼 상위 20개의 데이터를 구한 다음 f1의 결측치를 중앙값으로 채운다. 그리고 f4가 ISFJ와 f5가 20 이상인 f1의 평균값을 출력하시오!"
   ]
  },
  {
   "cell_type": "code",
   "execution_count": 70,
   "id": "6175375a",
   "metadata": {},
   "outputs": [],
   "source": [
    "df15 = pd.read_csv('./data/basic1.csv')"
   ]
  },
  {
   "cell_type": "code",
   "execution_count": 52,
   "id": "a4175450",
   "metadata": {},
   "outputs": [
    {
     "data": {
      "text/plain": [
       "73.875"
      ]
     },
     "execution_count": 52,
     "metadata": {},
     "output_type": "execute_result"
    }
   ],
   "source": [
    "x = df15.sort_values(by='age',ascending=False)[:20] # 상위값 구할 때에는 ascending을 false로\n",
    "\n",
    "x['f1'] = x['f1'].fillna(x['f1'].median())\n",
    "x[(x['f4']=='ISFJ')&(x['f5']>=20)]['f1'].mean()"
   ]
  },
  {
   "cell_type": "code",
   "execution_count": null,
   "id": "d19ac02d",
   "metadata": {},
   "outputs": [],
   "source": []
  },
  {
   "cell_type": "markdown",
   "id": "343dda53",
   "metadata": {},
   "source": [
    "## 16. 주어진 데이터 셋에서 f2가 0값인 데이터를 age를 기준으로 오름차순 정렬하고 앞에서 부터 20개의 데이터를 추출한 후 f1 결측치(최소값)를 채우기 전과 후의 분산 차이를 계산하시오 (소수점 둘째 자리까지)"
   ]
  },
  {
   "cell_type": "code",
   "execution_count": 50,
   "id": "8d5a4fb7",
   "metadata": {},
   "outputs": [],
   "source": [
    "df16 = pd.read_csv('./data/basic1.csv')"
   ]
  },
  {
   "cell_type": "code",
   "execution_count": 51,
   "id": "6faa6f7f",
   "metadata": {},
   "outputs": [
    {
     "name": "stdout",
     "output_type": "stream",
     "text": [
      "38.44\n"
     ]
    }
   ],
   "source": [
    "x = df16[df16['f2']==0].sort_values(by='age')[:20]\n",
    "f1_b = x['f1'].var()\n",
    "f1_a = x['f1'].fillna(x['f1'].min()).var() # 분산 구하기 : var()\n",
    "\n",
    "print(round(abs(f1_b-f1_a),2))"
   ]
  },
  {
   "cell_type": "code",
   "execution_count": null,
   "id": "61862fab",
   "metadata": {},
   "outputs": [],
   "source": []
  },
  {
   "cell_type": "markdown",
   "id": "e6dbc910",
   "metadata": {},
   "source": [
    "## 17. 2022년 5월 sales의 중앙값을 구하시오"
   ]
  },
  {
   "cell_type": "markdown",
   "id": "05f22c8a",
   "metadata": {},
   "source": [
    "### 방법 1 -> 년,월 형식의 파생변수 생성"
   ]
  },
  {
   "cell_type": "code",
   "execution_count": 73,
   "id": "f82f5f41",
   "metadata": {},
   "outputs": [],
   "source": [
    "df17 = pd.read_csv('./data/basic2.csv')"
   ]
  },
  {
   "cell_type": "code",
   "execution_count": 74,
   "id": "361daf24",
   "metadata": {},
   "outputs": [
    {
     "name": "stdout",
     "output_type": "stream",
     "text": [
      "<class 'pandas.core.frame.DataFrame'>\n",
      "RangeIndex: 730 entries, 0 to 729\n",
      "Data columns (total 5 columns):\n",
      " #   Column  Non-Null Count  Dtype  \n",
      "---  ------  --------------  -----  \n",
      " 0   Date    730 non-null    object \n",
      " 1   Sales   730 non-null    int64  \n",
      " 2   PV      730 non-null    int64  \n",
      " 3   UV      684 non-null    float64\n",
      " 4   Events  730 non-null    int64  \n",
      "dtypes: float64(1), int64(3), object(1)\n",
      "memory usage: 28.6+ KB\n"
     ]
    }
   ],
   "source": [
    "df17.info()"
   ]
  },
  {
   "cell_type": "code",
   "execution_count": 62,
   "id": "fc08aff6",
   "metadata": {},
   "outputs": [
    {
     "name": "stdout",
     "output_type": "stream",
     "text": [
      "1477685.0\n"
     ]
    }
   ],
   "source": [
    "df17['year_month'] = [x[:7] for x in df17['Date'] ]\n",
    "\n",
    "print(df17[df17['year_month'] == '2022-05']['Sales'].median())"
   ]
  },
  {
   "cell_type": "markdown",
   "id": "7d288dd7",
   "metadata": {},
   "source": [
    "### 방법 2 -> Date의 datatype를 datetime으로 변경 후 월과 일만 뽑아냄"
   ]
  },
  {
   "cell_type": "code",
   "execution_count": 63,
   "id": "e82103d4",
   "metadata": {},
   "outputs": [],
   "source": [
    "df17 = pd.read_csv('./data/basic2.csv')"
   ]
  },
  {
   "cell_type": "code",
   "execution_count": 64,
   "id": "2d3ab567",
   "metadata": {},
   "outputs": [
    {
     "name": "stdout",
     "output_type": "stream",
     "text": [
      "1477685.0\n"
     ]
    }
   ],
   "source": [
    "df17['Date'] = pd.to_datetime(df17['Date']) # pd.to_datetime을 사용해서 데이터타입 변환\n",
    "                                            # 다른 값은 df.astype('type')을 사용해서 변환\n",
    "\n",
    "df17['year'] = df17['Date'].dt.year         # .dt.year/month/day/dayofweek\n",
    "df17['month'] = df17['Date'].dt.month\n",
    "df17['day'] = df17['Date'].dt.day\n",
    "\n",
    "x = df17[(df17['year']==2022) & (df17['month']==5)]\n",
    "print(x['Sales'].median())"
   ]
  },
  {
   "cell_type": "code",
   "execution_count": 65,
   "id": "8e01e319",
   "metadata": {},
   "outputs": [
    {
     "name": "stdout",
     "output_type": "stream",
     "text": [
      "<class 'pandas.core.frame.DataFrame'>\n",
      "RangeIndex: 730 entries, 0 to 729\n",
      "Data columns (total 8 columns):\n",
      " #   Column  Non-Null Count  Dtype         \n",
      "---  ------  --------------  -----         \n",
      " 0   Date    730 non-null    datetime64[ns]\n",
      " 1   Sales   730 non-null    int64         \n",
      " 2   PV      730 non-null    int64         \n",
      " 3   UV      684 non-null    float64       \n",
      " 4   Events  730 non-null    int64         \n",
      " 5   year    730 non-null    int64         \n",
      " 6   month   730 non-null    int64         \n",
      " 7   day     730 non-null    int64         \n",
      "dtypes: datetime64[ns](1), float64(1), int64(6)\n",
      "memory usage: 45.8 KB\n"
     ]
    }
   ],
   "source": [
    "df17.info()"
   ]
  },
  {
   "cell_type": "code",
   "execution_count": null,
   "id": "b2d381fd",
   "metadata": {},
   "outputs": [],
   "source": []
  },
  {
   "cell_type": "markdown",
   "id": "525b68c5",
   "metadata": {},
   "source": [
    "## 18. 주어진 데이터에서 2022년 5월 주말과 평일의 sales컬럼 평균값 차이를 구하시오 (소수점 둘째자리까지 출력, 반올림)"
   ]
  },
  {
   "cell_type": "code",
   "execution_count": 75,
   "id": "48280267",
   "metadata": {},
   "outputs": [],
   "source": [
    "df18 = pd.read_csv('./data/basic2.csv')"
   ]
  },
  {
   "cell_type": "code",
   "execution_count": 76,
   "id": "7624ce47",
   "metadata": {},
   "outputs": [
    {
     "name": "stdout",
     "output_type": "stream",
     "text": [
      "<class 'pandas.core.frame.DataFrame'>\n",
      "RangeIndex: 730 entries, 0 to 729\n",
      "Data columns (total 5 columns):\n",
      " #   Column  Non-Null Count  Dtype  \n",
      "---  ------  --------------  -----  \n",
      " 0   Date    730 non-null    object \n",
      " 1   Sales   730 non-null    int64  \n",
      " 2   PV      730 non-null    int64  \n",
      " 3   UV      684 non-null    float64\n",
      " 4   Events  730 non-null    int64  \n",
      "dtypes: float64(1), int64(3), object(1)\n",
      "memory usage: 28.6+ KB\n"
     ]
    }
   ],
   "source": [
    "df18.info()"
   ]
  },
  {
   "cell_type": "code",
   "execution_count": 86,
   "id": "e62fc463",
   "metadata": {},
   "outputs": [
    {
     "name": "stdout",
     "output_type": "stream",
     "text": [
      "3010339.1\n"
     ]
    }
   ],
   "source": [
    "df18['Date'] = pd.to_datetime(df18['Date'])\n",
    "\n",
    "df18['year'] = df18['Date'].dt.year\n",
    "df18['month'] = df18['Date'].dt.month\n",
    "df18['dayofweek'] = df18['Date'].dt.dayofweek\n",
    "\n",
    "holiday = []\n",
    "for i in df18['dayofweek'] :\n",
    "    if i == 5 or i == 6 :\n",
    "        holiday.append(1)\n",
    "    else :\n",
    "        holiday.append(0)\n",
    "        \n",
    "df18['holiday'] = holiday \n",
    "\n",
    "mean_1 = df18[(df18['year']==2022)&(df18['month']==5)&(df18['holiday']==1)]['Sales'].mean()\n",
    "mean_0 = df18[(df18['year']==2022)&(df18['month']==5)&(df18['holiday']==0)]['Sales'].mean()\n",
    "\n",
    "print(round(abs(mean_1 - mean_0),2))"
   ]
  },
  {
   "cell_type": "code",
   "execution_count": 85,
   "id": "cc0ce4bf",
   "metadata": {
    "scrolled": true
   },
   "outputs": [
    {
     "name": "stdout",
     "output_type": "stream",
     "text": [
      "3010339.1\n"
     ]
    }
   ],
   "source": [
    "holiday = []\n",
    "for i in df18['dayofweek'] :\n",
    "    if i == 5 or i == 6 :\n",
    "        holiday.append(1)\n",
    "    else :\n",
    "        holiday.append(0)\n",
    "        \n",
    "df18['holiday'] = holiday \n",
    "\n",
    "mean_1 = df18[(df18['year']==2022)&(df18['month']==5)&(df18['holiday']==1)]['Sales'].mean()\n",
    "mean_0 = df18[(df18['year']==2022)&(df18['month']==5)&(df18['holiday']==0)]['Sales'].mean()\n",
    "\n",
    "print(round(abs(mean_1 - mean_0),2))"
   ]
  },
  {
   "cell_type": "code",
   "execution_count": 87,
   "id": "147536cd",
   "metadata": {},
   "outputs": [
    {
     "data": {
      "text/plain": [
       "3010339.1010101014"
      ]
     },
     "execution_count": 87,
     "metadata": {},
     "output_type": "execute_result"
    }
   ],
   "source": [
    "a = df18[(df18['year']==2022)&(df18['month']==5)&((df18['dayofweek']==5)|(df18['dayofweek']==6))]['Sales'].mean()\n",
    "b = df18[(df18['year']==2022)&(df18['month']==5)&(df18['dayofweek']!=5)&(df18['dayofweek']!=6)]['Sales'].mean()\n",
    "a-b"
   ]
  },
  {
   "cell_type": "code",
   "execution_count": null,
   "id": "905d1f41",
   "metadata": {},
   "outputs": [],
   "source": []
  },
  {
   "cell_type": "markdown",
   "id": "b9049982",
   "metadata": {},
   "source": [
    "## 19. 주어진 데이터에서 2022년 월별 Sales 합계 중 가장 큰 금액과 2023년 월별 Sales 합계 중 가장 큰 금액의 차이를 절대값으로 구하시오. 단 Events컬럼이 '1'인경우 80%의 Salse값만 반영함 (최종값은 소수점 반올림 후 정수 출력)"
   ]
  },
  {
   "cell_type": "code",
   "execution_count": 88,
   "id": "0963c416",
   "metadata": {},
   "outputs": [],
   "source": [
    "df19 = pd.read_csv('./data/basic2.csv')"
   ]
  },
  {
   "cell_type": "code",
   "execution_count": 89,
   "id": "f661a02d",
   "metadata": {},
   "outputs": [
    {
     "name": "stdout",
     "output_type": "stream",
     "text": [
      "42473436\n"
     ]
    }
   ],
   "source": [
    "df19['month'] = [x[5:7] for x in df19['Date']]\n",
    "df19['year'] = [x[:4] for x in df19['Date']]\n",
    "\n",
    "# df19[df19['Events']==1]['Sales'] = df19[df19['Events']==1]['Sales']*0.8 의 형식으로 일부만 변경하는건 오류가 난다\n",
    "\n",
    "a =[]\n",
    "for i,j in enumerate(df19['Events']): \n",
    "    if j == 1:\n",
    "        a.append(df19.iloc[i]['Sales']*0.8) # for 문을 이용해서 리스트를 생성 후 변경해주기\n",
    "    else :\n",
    "        a.append(df19.iloc[i]['Sales'])\n",
    "\n",
    "df19['Sales'] = a\n",
    "\n",
    "df_22 = df19[df19['year']=='2022'] # 문자타입 데이터에서 뽑아와 파생변수를 만들면 그 파생변수의 타입도 문자\n",
    "df_23 = df19[df19['year']=='2023']\n",
    "\n",
    "max22 = df_22.groupby(['month']).sum()['Sales'].max()\n",
    "max23 = df_23.groupby(['month']).sum()['Sales'].max()\n",
    "\n",
    "print(round(abs(max23 - max22)))"
   ]
  },
  {
   "cell_type": "code",
   "execution_count": null,
   "id": "38418c66",
   "metadata": {},
   "outputs": [],
   "source": []
  },
  {
   "cell_type": "markdown",
   "id": "b676da6f",
   "metadata": {},
   "source": [
    "## 20.basic1 데이터와 basic3 데이터를 'f4'값을 기준으로 병합하고, 병합한 데이터에서 r2결측치를 제거한다음, 앞에서 부터 20개 데이터를 선택하고 'f2'컬럼 합을 구하시오"
   ]
  },
  {
   "cell_type": "code",
   "execution_count": 98,
   "id": "1a1fd99d",
   "metadata": {},
   "outputs": [],
   "source": [
    "df1 = pd.read_csv('./data/basic1.csv')\n",
    "df2 = pd.read_csv('./data/basic3.csv')"
   ]
  },
  {
   "cell_type": "code",
   "execution_count": 101,
   "id": "77895ca9",
   "metadata": {},
   "outputs": [
    {
     "name": "stdout",
     "output_type": "stream",
     "text": [
      "15\n"
     ]
    }
   ],
   "source": [
    "# 조인하기 : pd.merge(df,df, how=('inner','outer'등 ) left_on = ,right_on= (인덱스 쓸때 left(right)_index=True))\n",
    "df_join = pd.merge(df1,df2,how='left',on='f4') \n",
    "\n",
    "df_join.dropna(subset='r2', inplace =True)\n",
    "\n",
    "print(df_join['f2'][:20].sum())"
   ]
  },
  {
   "cell_type": "markdown",
   "id": "c1d355e2",
   "metadata": {},
   "source": [
    "## 21. basic1 데이터 중 'age'컬럼 이상치를 제거하고, 동일한 개수로 나이 순으로 3그룹으로 나눈 뒤 각 그룹의 중앙값을 더하시오\n",
    "\n",
    "- 이상치는 음수, 0, 소수"
   ]
  },
  {
   "cell_type": "code",
   "execution_count": 102,
   "id": "0dbc9ecf",
   "metadata": {},
   "outputs": [],
   "source": [
    "df = pd.read_csv('./data/basic1.csv')"
   ]
  },
  {
   "cell_type": "code",
   "execution_count": 103,
   "id": "8c74902a",
   "metadata": {},
   "outputs": [
    {
     "data": {
      "text/plain": [
       "165.0"
      ]
     },
     "execution_count": 103,
     "metadata": {},
     "output_type": "execute_result"
    }
   ],
   "source": [
    "df_drop = df[(df['age']>0)&(((df['age'].astype('int'))-df['age'])==0)].copy()\n",
    "\n",
    "# pd.cut(data, bins, label) : data를 범위기준 bin의 개수(범위)로 나눠주기(label은 각 구간의 이름)\n",
    "#       - bins 지정 가능 ex) [5,15,25] 으로 입력 ->(5~15),(15~25)의 구간으로 나눠짐\n",
    "# pd.qcut(data, bins) : data를 양(개수) 기준 bin의 개수로 나눠주기\n",
    "\n",
    "df_drop['cut'] = pd.qcut(df_drop['age'],3)\n",
    "\n",
    "df_drop.groupby('cut').median()['age'].sum()"
   ]
  },
  {
   "cell_type": "code",
   "execution_count": null,
   "id": "d2686583",
   "metadata": {},
   "outputs": [],
   "source": []
  },
  {
   "cell_type": "markdown",
   "id": "b38a0a16",
   "metadata": {},
   "source": [
    "## 22. 주어진 데이터(basic2.csv)에서 주 단위 Sales의 합계를 구하고, 가장 큰 값을 가진 주와 작은 값을 가진 주의 차이를 구하시오(절대값)\n",
    "\n",
    "resample 참고 : https://seong6496.tistory.com/85"
   ]
  },
  {
   "cell_type": "code",
   "execution_count": 104,
   "id": "fb34eeb4",
   "metadata": {},
   "outputs": [],
   "source": [
    "df = pd.read_csv('./data/basic2.csv')"
   ]
  },
  {
   "cell_type": "code",
   "execution_count": 105,
   "id": "cb370b68",
   "metadata": {},
   "outputs": [
    {
     "name": "stdout",
     "output_type": "stream",
     "text": [
      "91639050\n"
     ]
    }
   ],
   "source": [
    "df['Date'] = pd.to_datetime(df['Date']) \n",
    "df = df.set_index('Date') # resample 은 datetime의 형태를 가진 값이 인덱스에 있을 때 사용가능\n",
    "\n",
    "df_w = df.resample('W').sum()\n",
    "print(abs(df_w['Sales'].max()-df_w['Sales'].min()))"
   ]
  },
  {
   "cell_type": "code",
   "execution_count": 148,
   "id": "3c9ca9f0",
   "metadata": {},
   "outputs": [
    {
     "data": {
      "text/html": [
       "<div>\n",
       "<style scoped>\n",
       "    .dataframe tbody tr th:only-of-type {\n",
       "        vertical-align: middle;\n",
       "    }\n",
       "\n",
       "    .dataframe tbody tr th {\n",
       "        vertical-align: top;\n",
       "    }\n",
       "\n",
       "    .dataframe thead th {\n",
       "        text-align: right;\n",
       "    }\n",
       "</style>\n",
       "<table border=\"1\" class=\"dataframe\">\n",
       "  <thead>\n",
       "    <tr style=\"text-align: right;\">\n",
       "      <th></th>\n",
       "      <th>Sales</th>\n",
       "      <th>PV</th>\n",
       "      <th>UV</th>\n",
       "      <th>Events</th>\n",
       "    </tr>\n",
       "    <tr>\n",
       "      <th>Date</th>\n",
       "      <th></th>\n",
       "      <th></th>\n",
       "      <th></th>\n",
       "      <th></th>\n",
       "    </tr>\n",
       "  </thead>\n",
       "  <tbody>\n",
       "    <tr>\n",
       "      <th>2022-01-02</th>\n",
       "      <td>22748304</td>\n",
       "      <td>401318</td>\n",
       "      <td>6710.0</td>\n",
       "      <td>1</td>\n",
       "    </tr>\n",
       "    <tr>\n",
       "      <th>2022-01-09</th>\n",
       "      <td>33373822</td>\n",
       "      <td>1148464</td>\n",
       "      <td>15189.0</td>\n",
       "      <td>2</td>\n",
       "    </tr>\n",
       "    <tr>\n",
       "      <th>2022-01-16</th>\n",
       "      <td>20754519</td>\n",
       "      <td>283773</td>\n",
       "      <td>9344.0</td>\n",
       "      <td>0</td>\n",
       "    </tr>\n",
       "    <tr>\n",
       "      <th>2022-01-23</th>\n",
       "      <td>21880751</td>\n",
       "      <td>538633</td>\n",
       "      <td>9841.0</td>\n",
       "      <td>1</td>\n",
       "    </tr>\n",
       "    <tr>\n",
       "      <th>2022-01-30</th>\n",
       "      <td>28878452</td>\n",
       "      <td>560814</td>\n",
       "      <td>7808.0</td>\n",
       "      <td>1</td>\n",
       "    </tr>\n",
       "    <tr>\n",
       "      <th>...</th>\n",
       "      <td>...</td>\n",
       "      <td>...</td>\n",
       "      <td>...</td>\n",
       "      <td>...</td>\n",
       "    </tr>\n",
       "    <tr>\n",
       "      <th>2023-12-03</th>\n",
       "      <td>47120909</td>\n",
       "      <td>884734</td>\n",
       "      <td>12086.0</td>\n",
       "      <td>2</td>\n",
       "    </tr>\n",
       "    <tr>\n",
       "      <th>2023-12-10</th>\n",
       "      <td>46398053</td>\n",
       "      <td>975024</td>\n",
       "      <td>21872.0</td>\n",
       "      <td>3</td>\n",
       "    </tr>\n",
       "    <tr>\n",
       "      <th>2023-12-17</th>\n",
       "      <td>20763518</td>\n",
       "      <td>291261</td>\n",
       "      <td>17221.0</td>\n",
       "      <td>0</td>\n",
       "    </tr>\n",
       "    <tr>\n",
       "      <th>2023-12-24</th>\n",
       "      <td>34528035</td>\n",
       "      <td>901451</td>\n",
       "      <td>11732.0</td>\n",
       "      <td>2</td>\n",
       "    </tr>\n",
       "    <tr>\n",
       "      <th>2023-12-31</th>\n",
       "      <td>51435189</td>\n",
       "      <td>813019</td>\n",
       "      <td>12168.0</td>\n",
       "      <td>2</td>\n",
       "    </tr>\n",
       "  </tbody>\n",
       "</table>\n",
       "<p>105 rows × 4 columns</p>\n",
       "</div>"
      ],
      "text/plain": [
       "               Sales       PV       UV  Events\n",
       "Date                                          \n",
       "2022-01-02  22748304   401318   6710.0       1\n",
       "2022-01-09  33373822  1148464  15189.0       2\n",
       "2022-01-16  20754519   283773   9344.0       0\n",
       "2022-01-23  21880751   538633   9841.0       1\n",
       "2022-01-30  28878452   560814   7808.0       1\n",
       "...              ...      ...      ...     ...\n",
       "2023-12-03  47120909   884734  12086.0       2\n",
       "2023-12-10  46398053   975024  21872.0       3\n",
       "2023-12-17  20763518   291261  17221.0       0\n",
       "2023-12-24  34528035   901451  11732.0       2\n",
       "2023-12-31  51435189   813019  12168.0       2\n",
       "\n",
       "[105 rows x 4 columns]"
      ]
     },
     "execution_count": 148,
     "metadata": {},
     "output_type": "execute_result"
    }
   ],
   "source": [
    "df.resample('W').sum()"
   ]
  },
  {
   "cell_type": "markdown",
   "id": "db072321",
   "metadata": {},
   "source": [
    "## 23. f1의 결측치를 채운 후 age 컬럼의 중복 제거 전과 후의 'f1' 중앙값 차이를 구하시오 (결측치는 f1의 데이터 중 내림차순 정렬 후 10번째 값으로 채움, 중복 데이터 발생시 뒤에 나오는 데이터를 삭제함 최종 결과값은 절대값으로 출력)\n",
    "\n",
    "- 풀이에서는 x값을 구할 때 중복을 제거하고 구함"
   ]
  },
  {
   "cell_type": "code",
   "execution_count": 116,
   "id": "5fee5ba0",
   "metadata": {},
   "outputs": [],
   "source": [
    "df = pd.read_csv('./data/basic1.csv')"
   ]
  },
  {
   "cell_type": "code",
   "execution_count": 114,
   "id": "b95302df",
   "metadata": {},
   "outputs": [
    {
     "name": "stdout",
     "output_type": "stream",
     "text": [
      "0.5\n"
     ]
    }
   ],
   "source": [
    "x = df['f1'].sort_values(ascending=False).iloc[9] # 순서\n",
    "df['f1'] = df['f1'].fillna(x)\n",
    "be = df['f1'].median()\n",
    "\n",
    "#중복제거 : drop_duplicates(['기준'], keep=남길값(first,last,False(다삭제))\n",
    "df.drop_duplicates(['age'], keep='first', inplace=True)\n",
    "af = df['f1'].median()\n",
    "\n",
    "\n",
    "print(abs(be-af))"
   ]
  },
  {
   "cell_type": "code",
   "execution_count": 117,
   "id": "ec4098a9",
   "metadata": {
    "scrolled": true
   },
   "outputs": [
    {
     "name": "stdout",
     "output_type": "stream",
     "text": [
      "0.5\n"
     ]
    }
   ],
   "source": [
    "a = df.sort_values(by='f1',ascending=False).reset_index() # sort_value한 값을 불러서 쓰려면 \n",
    "x = a['f1'][9]\n",
    "df['f1'] = df['f1'].fillna(x)\n",
    "be = df['f1'].median()\n",
    "\n",
    "#중복제거 : drop_duplicates(['기준'], keep=남길값(first,last,False(다삭제))\n",
    "df.drop_duplicates(['age'], keep='first', inplace=True)\n",
    "af = df['f1'].median()\n",
    "\n",
    "\n",
    "print(abs(be-af))"
   ]
  },
  {
   "cell_type": "code",
   "execution_count": 192,
   "id": "61fe518b",
   "metadata": {},
   "outputs": [
    {
     "data": {
      "text/plain": [
       "id           id10\n",
       "age          95.0\n",
       "city           서울\n",
       "f1           74.0\n",
       "f2              1\n",
       "f3            NaN\n",
       "f4           ISFP\n",
       "f5      98.429899\n",
       "Name: 9, dtype: object"
      ]
     },
     "execution_count": 192,
     "metadata": {},
     "output_type": "execute_result"
    }
   ],
   "source": [
    "a = df.sort_values(by='f1',ascending=True)\n",
    "a.iloc[9] # iloc는 9번째 행을 출력 (따라서 sort하고 나서 9번째 값을 뽑으려면 iloc)\n",
    "\n",
    "a.loc[9] #loc는 인덱스 이름이 9인것을 출력, []는 loc가 기본값이기 때문에 loc로 출력하려면 reset해줘야함"
   ]
  },
  {
   "cell_type": "code",
   "execution_count": null,
   "id": "d9f77bb4",
   "metadata": {},
   "outputs": [],
   "source": []
  },
  {
   "cell_type": "markdown",
   "id": "548dcb64",
   "metadata": {},
   "source": [
    "## 24. 주어진 데이터(basic2.csv)에서 \"pv\"컬럼으로 1일 시차(lag)가 있는 새로운 컬럼을 만들고(예: 1월 2일에는 1월 1일 pv데이터를 넣고, 1월 3일에는 1월 2일 pv데이터를 넣음),새로운 컬럼의 1월 1일은 다음날(1월 2일)데이터로 결측치를 채운 다음, Events가 1이면서 Sales가 1000000이하인 조건에 맞는 새로운 컬럼 합을 구하시오"
   ]
  },
  {
   "cell_type": "code",
   "execution_count": 108,
   "id": "b433284f",
   "metadata": {},
   "outputs": [],
   "source": [
    "df = pd.read_csv('./data/basic2.csv')"
   ]
  },
  {
   "cell_type": "code",
   "execution_count": 105,
   "id": "759b9e32",
   "metadata": {},
   "outputs": [
    {
     "data": {
      "text/plain": [
       "1894876.0"
      ]
     },
     "execution_count": 105,
     "metadata": {},
     "output_type": "execute_result"
    }
   ],
   "source": [
    "a=[np.nan]\n",
    "for i in range(0,729):\n",
    "    a.append(df['PV'][i])\n",
    "    \n",
    "df['pv2'] = a\n",
    "\n",
    "df['pv2'].fillna(method='bfill',inplace=True)\n",
    "\n",
    "df[(df['Events']==1)&(df['Sales']<=1000000)]['pv2'].sum()"
   ]
  },
  {
   "cell_type": "code",
   "execution_count": 111,
   "id": "46433e5f",
   "metadata": {},
   "outputs": [
    {
     "data": {
      "text/plain": [
       "1894876.0"
      ]
     },
     "execution_count": 111,
     "metadata": {},
     "output_type": "execute_result"
    }
   ],
   "source": [
    "# 풀이 방법\n",
    "df['pv2'] = df['PV'].shift(1) #컬럼의 값을 변형시킴 (1) : 한칸씩 내리기, (-1): 한칸씩 올리기 (괄호안의 숫자 칸만큼 이동)\n",
    "\n",
    "df['pv2'].fillna(method='bfill',inplace=True)\n",
    "df[(df['Events']==1)&(df['Sales']<=1000000)]['pv2'].sum()"
   ]
  },
  {
   "cell_type": "code",
   "execution_count": null,
   "id": "12f15a7c",
   "metadata": {},
   "outputs": [],
   "source": []
  },
  {
   "cell_type": "markdown",
   "id": "9688afc1",
   "metadata": {},
   "source": [
    "## 25. basic1 데이터에서 f4가 E로 시작하면서 부산에 살고 20대인 사람은 몇 명일까요?"
   ]
  },
  {
   "cell_type": "code",
   "execution_count": 119,
   "id": "1187ff0d",
   "metadata": {},
   "outputs": [],
   "source": [
    "df = pd.read_csv('./data/basic1.csv')"
   ]
  },
  {
   "cell_type": "code",
   "execution_count": 121,
   "id": "b43af619",
   "metadata": {},
   "outputs": [
    {
     "name": "stdout",
     "output_type": "stream",
     "text": [
      "0\n"
     ]
    }
   ],
   "source": [
    "df['e'] = [x[0] for x in df['f4']]\n",
    "\n",
    "x = df[(df['e']=='E')&(df['city']=='부산')&((df['age']>=20)&(df['age']<30))]\n",
    "\n",
    "print(len(x))"
   ]
  },
  {
   "cell_type": "markdown",
   "id": "54e1e624",
   "metadata": {},
   "source": [
    "## 26. basic1 데이터에서 f2 값에 시그모이드 함수(그림 내 수식)를 적용하고, f4가 ISFJ인 (변경된)f2의 합을 구하시오! (소수점 둘째자리까지 출력, 반올림)"
   ]
  },
  {
   "cell_type": "code",
   "execution_count": 129,
   "id": "0d01e100",
   "metadata": {},
   "outputs": [],
   "source": [
    "df = pd.read_csv('./data/basic1.csv')"
   ]
  },
  {
   "cell_type": "code",
   "execution_count": 130,
   "id": "3b930502",
   "metadata": {},
   "outputs": [],
   "source": [
    "# 시그모이드 정의 \n",
    "def sigmoid(x): \n",
    "    return 1 / (1 + np.exp(-x))"
   ]
  },
  {
   "cell_type": "code",
   "execution_count": 131,
   "id": "a9d88fc0",
   "metadata": {},
   "outputs": [
    {
     "name": "stdout",
     "output_type": "stream",
     "text": [
      "7.15\n"
     ]
    }
   ],
   "source": [
    "df['f2'] = df['f2'].apply(sigmoid) # 컬럼전체에 함수 적용할 때 에는 apply함수 사용\n",
    "\n",
    "x = df[df['f4']=='ISFJ']['f2'].sum()\n",
    "\n",
    "print(round(x,2))"
   ]
  },
  {
   "cell_type": "markdown",
   "id": "b1b81a71",
   "metadata": {},
   "source": [
    "## 27. basic1 데이터에서 age 값에 ReLU 함수를 적용하고, city가 부산인 (변경된)age의 평균을 구하시오! (소수점 둘째자리까지 출력, 절사)\n",
    "- 절사 : 잘라서 버림"
   ]
  },
  {
   "cell_type": "code",
   "execution_count": 132,
   "id": "1745ee52",
   "metadata": {},
   "outputs": [],
   "source": [
    "df = pd.read_csv('./data/basic1.csv')"
   ]
  },
  {
   "cell_type": "code",
   "execution_count": 133,
   "id": "2533fd8b",
   "metadata": {},
   "outputs": [],
   "source": [
    "def ReLU(x):\n",
    "    if x < 0 :\n",
    "        return 0\n",
    "    else :\n",
    "        return x"
   ]
  },
  {
   "cell_type": "code",
   "execution_count": 144,
   "id": "451e9ef8",
   "metadata": {},
   "outputs": [
    {
     "name": "stdout",
     "output_type": "stream",
     "text": [
      "49.89\n"
     ]
    }
   ],
   "source": [
    "df['age'] = df['age'].apply(ReLU)\n",
    "\n",
    "x = df[df['city']=='부산']['age'].mean()\n",
    "\n",
    "# 소수점 몇째자리 까지만 나타내기 : '{:.2f}'.format(x) (2자리에 원하는 자리수를 입력하면 된다)\n",
    "print('{:.2f}'.format(x))"
   ]
  },
  {
   "cell_type": "code",
   "execution_count": null,
   "id": "ae530007",
   "metadata": {},
   "outputs": [],
   "source": []
  }
 ],
 "metadata": {
  "kernelspec": {
   "display_name": "Python 3 (ipykernel)",
   "language": "python",
   "name": "python3"
  },
  "language_info": {
   "codemirror_mode": {
    "name": "ipython",
    "version": 3
   },
   "file_extension": ".py",
   "mimetype": "text/x-python",
   "name": "python",
   "nbconvert_exporter": "python",
   "pygments_lexer": "ipython3",
   "version": "3.9.13"
  }
 },
 "nbformat": 4,
 "nbformat_minor": 5
}
