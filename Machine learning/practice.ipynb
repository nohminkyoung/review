{
 "cells": [
  {
   "cell_type": "code",
   "execution_count": 1,
   "id": "4890294c",
   "metadata": {},
   "outputs": [],
   "source": [
    "import pandas as pd\n",
    "import numpy as np"
   ]
  },
  {
   "cell_type": "markdown",
   "id": "dfaec030",
   "metadata": {},
   "source": [
    "## 생존여부 예측모델 만들기 - 타이타닉"
   ]
  },
  {
   "cell_type": "markdown",
   "id": "e91a9236",
   "metadata": {},
   "source": [
    "### 학습용 데이터 (X_train, y_train)을 이용하여 생존 예측 모형을 만든 후, 이를 평가용 데이터(X_test)에 적용하여 얻은 예측값을 다음과 같은 형식의 CSV파일로 생성하시오(제출한 모델의 성능은 accuracy 평가지표에 따라 채점)"
   ]
  },
  {
   "cell_type": "markdown",
   "id": "0f770ef8",
   "metadata": {},
   "source": [
    "### 데이터 불러오기 "
   ]
  },
  {
   "cell_type": "code",
   "execution_count": 15,
   "id": "b8fd7ff8",
   "metadata": {},
   "outputs": [],
   "source": [
    "train = pd.read_csv('./data/Titanic_train.csv')"
   ]
  },
  {
   "cell_type": "code",
   "execution_count": 16,
   "id": "56d33c49",
   "metadata": {},
   "outputs": [],
   "source": [
    "X_train = train.drop('Survived',axis=1)\n",
    "y_train = train['Survived']\n",
    "\n",
    "X_test = pd.read_csv('./data/Titanic_test.csv')"
   ]
  },
  {
   "cell_type": "code",
   "execution_count": 17,
   "id": "a3e8a6c0",
   "metadata": {},
   "outputs": [
    {
     "data": {
      "text/plain": [
       "((891, 11), (891,), (418, 11))"
      ]
     },
     "execution_count": 17,
     "metadata": {},
     "output_type": "execute_result"
    }
   ],
   "source": [
    "X_train.shape, y_train.shape, X_test.shape"
   ]
  },
  {
   "cell_type": "markdown",
   "id": "86a6cc22",
   "metadata": {},
   "source": [
    "### 결측치 처리"
   ]
  },
  {
   "cell_type": "code",
   "execution_count": 18,
   "id": "34d35d96",
   "metadata": {},
   "outputs": [
    {
     "name": "stdout",
     "output_type": "stream",
     "text": [
      "<class 'pandas.core.frame.DataFrame'>\n",
      "RangeIndex: 891 entries, 0 to 890\n",
      "Data columns (total 11 columns):\n",
      " #   Column       Non-Null Count  Dtype  \n",
      "---  ------       --------------  -----  \n",
      " 0   PassengerId  891 non-null    int64  \n",
      " 1   Pclass       891 non-null    int64  \n",
      " 2   Name         891 non-null    object \n",
      " 3   Sex          891 non-null    object \n",
      " 4   Age          714 non-null    float64\n",
      " 5   SibSp        891 non-null    int64  \n",
      " 6   Parch        891 non-null    int64  \n",
      " 7   Ticket       891 non-null    object \n",
      " 8   Fare         891 non-null    float64\n",
      " 9   Cabin        204 non-null    object \n",
      " 10  Embarked     889 non-null    object \n",
      "dtypes: float64(2), int64(4), object(5)\n",
      "memory usage: 76.7+ KB\n"
     ]
    }
   ],
   "source": [
    "X_train.info() # cabin 삭제, age는 평균값으로 "
   ]
  },
  {
   "cell_type": "code",
   "execution_count": 19,
   "id": "b601a808",
   "metadata": {},
   "outputs": [
    {
     "name": "stdout",
     "output_type": "stream",
     "text": [
      "<class 'pandas.core.frame.DataFrame'>\n",
      "RangeIndex: 418 entries, 0 to 417\n",
      "Data columns (total 11 columns):\n",
      " #   Column       Non-Null Count  Dtype  \n",
      "---  ------       --------------  -----  \n",
      " 0   PassengerId  418 non-null    int64  \n",
      " 1   Pclass       418 non-null    int64  \n",
      " 2   Name         418 non-null    object \n",
      " 3   Sex          418 non-null    object \n",
      " 4   Age          332 non-null    float64\n",
      " 5   SibSp        418 non-null    int64  \n",
      " 6   Parch        418 non-null    int64  \n",
      " 7   Ticket       418 non-null    object \n",
      " 8   Fare         417 non-null    float64\n",
      " 9   Cabin        91 non-null     object \n",
      " 10  Embarked     418 non-null    object \n",
      "dtypes: float64(2), int64(4), object(5)\n",
      "memory usage: 36.0+ KB\n"
     ]
    }
   ],
   "source": [
    "X_test.info()"
   ]
  },
  {
   "cell_type": "code",
   "execution_count": 20,
   "id": "f9ef0200",
   "metadata": {},
   "outputs": [],
   "source": [
    "X_train.drop('Cabin',axis=1, inplace=True)\n",
    "X_test.drop('Cabin',axis=1, inplace=True)"
   ]
  },
  {
   "cell_type": "code",
   "execution_count": 21,
   "id": "49a37c39",
   "metadata": {},
   "outputs": [],
   "source": [
    "X_train['Age'] = X_train['Age'].fillna(X_train['Age'].mean())\n",
    "X_test['Age'] = X_test['Age'].fillna(X_train['Age'].mean())"
   ]
  },
  {
   "cell_type": "code",
   "execution_count": 22,
   "id": "e6fba444",
   "metadata": {},
   "outputs": [
    {
     "data": {
      "text/plain": [
       "(0, 0)"
      ]
     },
     "execution_count": 22,
     "metadata": {},
     "output_type": "execute_result"
    }
   ],
   "source": [
    "X_train['Age'].isnull().sum() , X_test['Age'].isnull().sum()"
   ]
  },
  {
   "cell_type": "code",
   "execution_count": 23,
   "id": "d9c9bc27",
   "metadata": {},
   "outputs": [],
   "source": [
    "# test데이터에 fare 1개의 결측치 존재\n",
    "X_test['Fare'] = X_test['Fare'].fillna(X_train['Fare'].mean())"
   ]
  },
  {
   "cell_type": "markdown",
   "id": "404315ba",
   "metadata": {},
   "source": [
    "### 범주형 변수 인코딩"
   ]
  },
  {
   "cell_type": "code",
   "execution_count": 24,
   "id": "57f5a4a6",
   "metadata": {},
   "outputs": [
    {
     "data": {
      "text/html": [
       "<div>\n",
       "<style scoped>\n",
       "    .dataframe tbody tr th:only-of-type {\n",
       "        vertical-align: middle;\n",
       "    }\n",
       "\n",
       "    .dataframe tbody tr th {\n",
       "        vertical-align: top;\n",
       "    }\n",
       "\n",
       "    .dataframe thead th {\n",
       "        text-align: right;\n",
       "    }\n",
       "</style>\n",
       "<table border=\"1\" class=\"dataframe\">\n",
       "  <thead>\n",
       "    <tr style=\"text-align: right;\">\n",
       "      <th></th>\n",
       "      <th>PassengerId</th>\n",
       "      <th>Pclass</th>\n",
       "      <th>Name</th>\n",
       "      <th>Sex</th>\n",
       "      <th>Age</th>\n",
       "      <th>SibSp</th>\n",
       "      <th>Parch</th>\n",
       "      <th>Ticket</th>\n",
       "      <th>Fare</th>\n",
       "      <th>Embarked</th>\n",
       "    </tr>\n",
       "  </thead>\n",
       "  <tbody>\n",
       "    <tr>\n",
       "      <th>0</th>\n",
       "      <td>1</td>\n",
       "      <td>3</td>\n",
       "      <td>Braund, Mr. Owen Harris</td>\n",
       "      <td>male</td>\n",
       "      <td>22.000000</td>\n",
       "      <td>1</td>\n",
       "      <td>0</td>\n",
       "      <td>A/5 21171</td>\n",
       "      <td>7.2500</td>\n",
       "      <td>S</td>\n",
       "    </tr>\n",
       "    <tr>\n",
       "      <th>1</th>\n",
       "      <td>2</td>\n",
       "      <td>1</td>\n",
       "      <td>Cumings, Mrs. John Bradley (Florence Briggs Th...</td>\n",
       "      <td>female</td>\n",
       "      <td>38.000000</td>\n",
       "      <td>1</td>\n",
       "      <td>0</td>\n",
       "      <td>PC 17599</td>\n",
       "      <td>71.2833</td>\n",
       "      <td>C</td>\n",
       "    </tr>\n",
       "    <tr>\n",
       "      <th>2</th>\n",
       "      <td>3</td>\n",
       "      <td>3</td>\n",
       "      <td>Heikkinen, Miss. Laina</td>\n",
       "      <td>female</td>\n",
       "      <td>26.000000</td>\n",
       "      <td>0</td>\n",
       "      <td>0</td>\n",
       "      <td>STON/O2. 3101282</td>\n",
       "      <td>7.9250</td>\n",
       "      <td>S</td>\n",
       "    </tr>\n",
       "    <tr>\n",
       "      <th>3</th>\n",
       "      <td>4</td>\n",
       "      <td>1</td>\n",
       "      <td>Futrelle, Mrs. Jacques Heath (Lily May Peel)</td>\n",
       "      <td>female</td>\n",
       "      <td>35.000000</td>\n",
       "      <td>1</td>\n",
       "      <td>0</td>\n",
       "      <td>113803</td>\n",
       "      <td>53.1000</td>\n",
       "      <td>S</td>\n",
       "    </tr>\n",
       "    <tr>\n",
       "      <th>4</th>\n",
       "      <td>5</td>\n",
       "      <td>3</td>\n",
       "      <td>Allen, Mr. William Henry</td>\n",
       "      <td>male</td>\n",
       "      <td>35.000000</td>\n",
       "      <td>0</td>\n",
       "      <td>0</td>\n",
       "      <td>373450</td>\n",
       "      <td>8.0500</td>\n",
       "      <td>S</td>\n",
       "    </tr>\n",
       "    <tr>\n",
       "      <th>5</th>\n",
       "      <td>6</td>\n",
       "      <td>3</td>\n",
       "      <td>Moran, Mr. James</td>\n",
       "      <td>male</td>\n",
       "      <td>29.699118</td>\n",
       "      <td>0</td>\n",
       "      <td>0</td>\n",
       "      <td>330877</td>\n",
       "      <td>8.4583</td>\n",
       "      <td>Q</td>\n",
       "    </tr>\n",
       "    <tr>\n",
       "      <th>6</th>\n",
       "      <td>7</td>\n",
       "      <td>1</td>\n",
       "      <td>McCarthy, Mr. Timothy J</td>\n",
       "      <td>male</td>\n",
       "      <td>54.000000</td>\n",
       "      <td>0</td>\n",
       "      <td>0</td>\n",
       "      <td>17463</td>\n",
       "      <td>51.8625</td>\n",
       "      <td>S</td>\n",
       "    </tr>\n",
       "  </tbody>\n",
       "</table>\n",
       "</div>"
      ],
      "text/plain": [
       "   PassengerId  Pclass                                               Name  \\\n",
       "0            1       3                            Braund, Mr. Owen Harris   \n",
       "1            2       1  Cumings, Mrs. John Bradley (Florence Briggs Th...   \n",
       "2            3       3                             Heikkinen, Miss. Laina   \n",
       "3            4       1       Futrelle, Mrs. Jacques Heath (Lily May Peel)   \n",
       "4            5       3                           Allen, Mr. William Henry   \n",
       "5            6       3                                   Moran, Mr. James   \n",
       "6            7       1                            McCarthy, Mr. Timothy J   \n",
       "\n",
       "      Sex        Age  SibSp  Parch            Ticket     Fare Embarked  \n",
       "0    male  22.000000      1      0         A/5 21171   7.2500        S  \n",
       "1  female  38.000000      1      0          PC 17599  71.2833        C  \n",
       "2  female  26.000000      0      0  STON/O2. 3101282   7.9250        S  \n",
       "3  female  35.000000      1      0            113803  53.1000        S  \n",
       "4    male  35.000000      0      0            373450   8.0500        S  \n",
       "5    male  29.699118      0      0            330877   8.4583        Q  \n",
       "6    male  54.000000      0      0             17463  51.8625        S  "
      ]
     },
     "execution_count": 24,
     "metadata": {},
     "output_type": "execute_result"
    }
   ],
   "source": [
    "X_train.head(7)"
   ]
  },
  {
   "cell_type": "code",
   "execution_count": 25,
   "id": "39b80367",
   "metadata": {},
   "outputs": [],
   "source": [
    "col_cat = ['Sex','Embarked']\n",
    "col_num = ['Age','Fare']\n",
    "col_drop = ['PassengerId','Name','Ticket']"
   ]
  },
  {
   "cell_type": "code",
   "execution_count": 26,
   "id": "295ae082",
   "metadata": {},
   "outputs": [],
   "source": [
    "# 버릴 컬럼 버리기\n",
    "X_train.drop(col_drop,axis=1,inplace=True)\n",
    "X_test.drop(col_drop,axis=1,inplace=True)"
   ]
  },
  {
   "cell_type": "code",
   "execution_count": 27,
   "id": "cbd3b75a",
   "metadata": {},
   "outputs": [],
   "source": [
    "from sklearn.preprocessing import LabelEncoder\n",
    "\n",
    "encoder = LabelEncoder()\n",
    "\n",
    "for i in col_cat:\n",
    "    X_train[i] = encoder.fit_transform(X_train[i]) #레이블인코딩 이 형식으로 해라 바보야 \n",
    "    X_test[i] = encoder.transform(X_test[i])"
   ]
  },
  {
   "cell_type": "markdown",
   "id": "88675c5d",
   "metadata": {},
   "source": [
    "### 검증용 데이터 나누기 "
   ]
  },
  {
   "cell_type": "code",
   "execution_count": 13,
   "id": "05ab8797",
   "metadata": {},
   "outputs": [],
   "source": [
    "from sklearn.model_selection import train_test_split\n",
    "\n",
    "X_tr,X_val,y_tr,y_val = train_test_split(X_train,y_train, test_size = 0.2)"
   ]
  },
  {
   "cell_type": "markdown",
   "id": "8dd2bc7c",
   "metadata": {},
   "source": [
    "### 수치형 스케일링"
   ]
  },
  {
   "cell_type": "code",
   "execution_count": 14,
   "id": "c5080088",
   "metadata": {},
   "outputs": [],
   "source": [
    "from sklearn.preprocessing import StandardScaler\n",
    "\n",
    "scaler = StandardScaler() \n",
    "\n",
    "X_tr[col_num] = scaler.fit_transform(X_tr[col_num]) # 수치형 스케일링은 이런식으로\n",
    "X_val[col_num] = scaler.transform(X_val[col_num])\n",
    "X_test[col_num] = scaler.transform(X_test[col_num])"
   ]
  },
  {
   "cell_type": "markdown",
   "id": "ec1e5af6",
   "metadata": {},
   "source": [
    "### 모델 만들기"
   ]
  },
  {
   "cell_type": "code",
   "execution_count": 40,
   "id": "a2aa6000",
   "metadata": {},
   "outputs": [],
   "source": [
    "from sklearn.ensemble import RandomForestClassifier\n",
    "\n",
    "tree = RandomForestClassifier(n_estimators=200,max_depth=7,max_features=5)\n",
    "\n",
    "from sklearn.tree import DecisionTreeClassifier\n",
    "\n",
    "tree2 = DecisionTreeClassifier()\n",
    "\n",
    "from sklearn.linear_model import LogisticRegression\n",
    "lo = LogisticRegression()"
   ]
  },
  {
   "cell_type": "code",
   "execution_count": 41,
   "id": "33333c6c",
   "metadata": {},
   "outputs": [
    {
     "name": "stdout",
     "output_type": "stream",
     "text": [
      "0.832803967108154\n",
      "0.7676981984809491\n"
     ]
    }
   ],
   "source": [
    "from sklearn.model_selection import cross_val_score\n",
    "\n",
    "print(np.mean(cross_val_score(tree,X_train,y_train,scoring='accuracy',cv=5)))\n",
    "print(np.mean(cross_val_score(tree2,X_train,y_train,scoring='accuracy',cv=5)))"
   ]
  },
  {
   "cell_type": "code",
   "execution_count": 17,
   "id": "7b8ed39f",
   "metadata": {},
   "outputs": [],
   "source": [
    "tree.fit(X_train,y_train)\n",
    "pre = tree.predict(X_val)"
   ]
  },
  {
   "cell_type": "markdown",
   "id": "22ef7cc3",
   "metadata": {},
   "source": [
    "### 모델 성능 평가"
   ]
  },
  {
   "cell_type": "code",
   "execution_count": 20,
   "id": "2d14d1b1",
   "metadata": {},
   "outputs": [],
   "source": [
    "from sklearn.metrics import accuracy_score\n",
    "\n",
    "score = accuracy_score(y_val,pre)"
   ]
  },
  {
   "cell_type": "code",
   "execution_count": 21,
   "id": "8d4e681e",
   "metadata": {},
   "outputs": [
    {
     "data": {
      "text/plain": [
       "0.7988826815642458"
      ]
     },
     "execution_count": 21,
     "metadata": {},
     "output_type": "execute_result"
    }
   ],
   "source": [
    "score"
   ]
  },
  {
   "cell_type": "markdown",
   "id": "9fa442c8",
   "metadata": {},
   "source": [
    "### 답 예측하기"
   ]
  },
  {
   "cell_type": "code",
   "execution_count": 184,
   "id": "881de0b4",
   "metadata": {},
   "outputs": [],
   "source": [
    "y = tree.predict(X_test)"
   ]
  },
  {
   "cell_type": "code",
   "execution_count": 194,
   "id": "dba9b738",
   "metadata": {},
   "outputs": [],
   "source": [
    "pd.DataFrame(y,columns=['Serviver']).to_csv('./data/answer/titanic.csv')"
   ]
  },
  {
   "cell_type": "code",
   "execution_count": null,
   "id": "a4f57163",
   "metadata": {},
   "outputs": [],
   "source": []
  },
  {
   "cell_type": "code",
   "execution_count": null,
   "id": "17dd2704",
   "metadata": {},
   "outputs": [],
   "source": []
  },
  {
   "cell_type": "markdown",
   "id": "3f337c6e",
   "metadata": {},
   "source": [
    "## 당뇨병 여부 판단¶\n",
    "이상치 처리 (Glucose, BloodPressure, SkinThickness, Insulin, BMI가 0인 값)"
   ]
  },
  {
   "cell_type": "code",
   "execution_count": 44,
   "id": "84756a5c",
   "metadata": {},
   "outputs": [],
   "source": [
    "df = pd.read_csv('./data/diabetes.csv')"
   ]
  },
  {
   "cell_type": "code",
   "execution_count": 45,
   "id": "40bc1f90",
   "metadata": {},
   "outputs": [
    {
     "data": {
      "text/html": [
       "<div>\n",
       "<style scoped>\n",
       "    .dataframe tbody tr th:only-of-type {\n",
       "        vertical-align: middle;\n",
       "    }\n",
       "\n",
       "    .dataframe tbody tr th {\n",
       "        vertical-align: top;\n",
       "    }\n",
       "\n",
       "    .dataframe thead th {\n",
       "        text-align: right;\n",
       "    }\n",
       "</style>\n",
       "<table border=\"1\" class=\"dataframe\">\n",
       "  <thead>\n",
       "    <tr style=\"text-align: right;\">\n",
       "      <th></th>\n",
       "      <th>Pregnancies</th>\n",
       "      <th>Glucose</th>\n",
       "      <th>BloodPressure</th>\n",
       "      <th>SkinThickness</th>\n",
       "      <th>Insulin</th>\n",
       "      <th>BMI</th>\n",
       "      <th>DiabetesPedigreeFunction</th>\n",
       "      <th>Age</th>\n",
       "      <th>Outcome</th>\n",
       "    </tr>\n",
       "  </thead>\n",
       "  <tbody>\n",
       "    <tr>\n",
       "      <th>0</th>\n",
       "      <td>6</td>\n",
       "      <td>148</td>\n",
       "      <td>72</td>\n",
       "      <td>35</td>\n",
       "      <td>0</td>\n",
       "      <td>33.6</td>\n",
       "      <td>0.627</td>\n",
       "      <td>50</td>\n",
       "      <td>1</td>\n",
       "    </tr>\n",
       "  </tbody>\n",
       "</table>\n",
       "</div>"
      ],
      "text/plain": [
       "   Pregnancies  Glucose  BloodPressure  SkinThickness  Insulin   BMI  \\\n",
       "0            6      148             72             35        0  33.6   \n",
       "\n",
       "   DiabetesPedigreeFunction  Age  Outcome  \n",
       "0                     0.627   50        1  "
      ]
     },
     "execution_count": 45,
     "metadata": {},
     "output_type": "execute_result"
    }
   ],
   "source": [
    "df.head(1)"
   ]
  },
  {
   "cell_type": "markdown",
   "id": "e5709d7c",
   "metadata": {},
   "source": [
    "### Train,Test데이터 나누기"
   ]
  },
  {
   "cell_type": "code",
   "execution_count": 46,
   "id": "10de9b34",
   "metadata": {},
   "outputs": [],
   "source": [
    "from sklearn.model_selection import train_test_split"
   ]
  },
  {
   "cell_type": "code",
   "execution_count": 47,
   "id": "69a6b96f",
   "metadata": {},
   "outputs": [],
   "source": [
    "X = df.drop('Outcome',axis = 1)\n",
    "y = df['Outcome']"
   ]
  },
  {
   "cell_type": "code",
   "execution_count": 48,
   "id": "eeffee0d",
   "metadata": {},
   "outputs": [],
   "source": [
    "X_train,X_test,y_train,y_test = train_test_split(X,y,test_size=0.2, random_state=2021)  # 문제랑 같은데이터로 맞추기"
   ]
  },
  {
   "cell_type": "code",
   "execution_count": 49,
   "id": "1a7236af",
   "metadata": {},
   "outputs": [
    {
     "data": {
      "text/plain": [
       "((614, 8), (154, 8))"
      ]
     },
     "execution_count": 49,
     "metadata": {},
     "output_type": "execute_result"
    }
   ],
   "source": [
    "X_train.shape, X_test.shape"
   ]
  },
  {
   "cell_type": "markdown",
   "id": "4f4a8b07",
   "metadata": {},
   "source": [
    "### 결측치 확인"
   ]
  },
  {
   "cell_type": "code",
   "execution_count": 50,
   "id": "fbfdab9f",
   "metadata": {},
   "outputs": [
    {
     "name": "stdout",
     "output_type": "stream",
     "text": [
      "<class 'pandas.core.frame.DataFrame'>\n",
      "Int64Index: 614 entries, 147 to 116\n",
      "Data columns (total 8 columns):\n",
      " #   Column                    Non-Null Count  Dtype  \n",
      "---  ------                    --------------  -----  \n",
      " 0   Pregnancies               614 non-null    int64  \n",
      " 1   Glucose                   614 non-null    int64  \n",
      " 2   BloodPressure             614 non-null    int64  \n",
      " 3   SkinThickness             614 non-null    int64  \n",
      " 4   Insulin                   614 non-null    int64  \n",
      " 5   BMI                       614 non-null    float64\n",
      " 6   DiabetesPedigreeFunction  614 non-null    float64\n",
      " 7   Age                       614 non-null    int64  \n",
      "dtypes: float64(2), int64(6)\n",
      "memory usage: 43.2 KB\n"
     ]
    }
   ],
   "source": [
    "X_train.info()"
   ]
  },
  {
   "cell_type": "code",
   "execution_count": 51,
   "id": "acb0c25a",
   "metadata": {},
   "outputs": [
    {
     "name": "stdout",
     "output_type": "stream",
     "text": [
      "<class 'pandas.core.frame.DataFrame'>\n",
      "Int64Index: 154 entries, 258 to 174\n",
      "Data columns (total 8 columns):\n",
      " #   Column                    Non-Null Count  Dtype  \n",
      "---  ------                    --------------  -----  \n",
      " 0   Pregnancies               154 non-null    int64  \n",
      " 1   Glucose                   154 non-null    int64  \n",
      " 2   BloodPressure             154 non-null    int64  \n",
      " 3   SkinThickness             154 non-null    int64  \n",
      " 4   Insulin                   154 non-null    int64  \n",
      " 5   BMI                       154 non-null    float64\n",
      " 6   DiabetesPedigreeFunction  154 non-null    float64\n",
      " 7   Age                       154 non-null    int64  \n",
      "dtypes: float64(2), int64(6)\n",
      "memory usage: 10.8 KB\n"
     ]
    }
   ],
   "source": [
    "X_test.info()"
   ]
  },
  {
   "cell_type": "markdown",
   "id": "70ca632d",
   "metadata": {},
   "source": [
    "### 이상치 처리\n",
    "(Glucose, BloodPressure, SkinThickness, Insulin, BMI가 0인 값)"
   ]
  },
  {
   "cell_type": "code",
   "execution_count": 52,
   "id": "bf059563",
   "metadata": {},
   "outputs": [
    {
     "name": "stdout",
     "output_type": "stream",
     "text": [
      "5\n",
      "31\n",
      "175\n",
      "287\n",
      "9\n"
     ]
    }
   ],
   "source": [
    "#train\n",
    "print(X_train['Glucose'][X_train['Glucose'] == 0].count())\n",
    "print(X_train['BloodPressure'][X_train['BloodPressure'] == 0].count())\n",
    "print(X_train['SkinThickness'][X_train['SkinThickness'] == 0].count())\n",
    "print(X_train['Insulin'][X_train['Insulin'] == 0].count())\n",
    "print(X_train['BMI'][X_train['BMI'] == 0].count())"
   ]
  },
  {
   "cell_type": "code",
   "execution_count": 53,
   "id": "5d008f70",
   "metadata": {},
   "outputs": [
    {
     "name": "stdout",
     "output_type": "stream",
     "text": [
      "0\n",
      "4\n",
      "52\n",
      "87\n",
      "2\n"
     ]
    }
   ],
   "source": [
    "print(X_test['Glucose'][X_test['Glucose'] == 0].count())\n",
    "print(X_test['BloodPressure'][X_test['BloodPressure'] == 0].count())\n",
    "print(X_test['SkinThickness'][X_test['SkinThickness'] == 0].count())\n",
    "print(X_test['Insulin'][X_test['Insulin'] == 0].count())\n",
    "print(X_test['BMI'][X_test['BMI'] == 0].count())"
   ]
  },
  {
   "cell_type": "code",
   "execution_count": 54,
   "id": "c9ef2171",
   "metadata": {},
   "outputs": [],
   "source": [
    "# Glucose가 0인값은 삭제\n",
    "X_train_drop = X_train[X_train['Glucose'] != 0]\n",
    "y_train_drop = y_train[X_train['Glucose'] != 0] # y값도 꼭 같이 버려야해!!"
   ]
  },
  {
   "cell_type": "code",
   "execution_count": 55,
   "id": "2f0734d3",
   "metadata": {},
   "outputs": [
    {
     "name": "stderr",
     "output_type": "stream",
     "text": [
      "/var/folders/31/jdpw_xfj4n78ms2cj2mlkym00000gn/T/ipykernel_2003/2391875857.py:4: SettingWithCopyWarning: \n",
      "A value is trying to be set on a copy of a slice from a DataFrame.\n",
      "Try using .loc[row_indexer,col_indexer] = value instead\n",
      "\n",
      "See the caveats in the documentation: https://pandas.pydata.org/pandas-docs/stable/user_guide/indexing.html#returning-a-view-versus-a-copy\n",
      "  X_train_drop[cols] = X_train_drop[cols].replace(0, cols_mean)\n"
     ]
    }
   ],
   "source": [
    "# 0값을 평균값으로 대체(한번에 가능)\n",
    "cols = ['BloodPressure', 'SkinThickness', 'Insulin', 'BMI']\n",
    "cols_mean = X_train_drop[cols].mean()\n",
    "X_train_drop[cols] = X_train_drop[cols].replace(0, cols_mean)\n",
    "\n",
    "cols = ['BloodPressure', 'SkinThickness', 'Insulin', 'BMI']\n",
    "cols_mean = X_train_drop[cols].mean()\n",
    "X_test[cols] = X_test[cols].replace(0, cols_mean)"
   ]
  },
  {
   "cell_type": "markdown",
   "id": "e0c8cdb3",
   "metadata": {},
   "source": [
    "### 범주형 인코딩 "
   ]
  },
  {
   "cell_type": "code",
   "execution_count": 56,
   "id": "e68b3386",
   "metadata": {},
   "outputs": [
    {
     "data": {
      "text/html": [
       "<div>\n",
       "<style scoped>\n",
       "    .dataframe tbody tr th:only-of-type {\n",
       "        vertical-align: middle;\n",
       "    }\n",
       "\n",
       "    .dataframe tbody tr th {\n",
       "        vertical-align: top;\n",
       "    }\n",
       "\n",
       "    .dataframe thead th {\n",
       "        text-align: right;\n",
       "    }\n",
       "</style>\n",
       "<table border=\"1\" class=\"dataframe\">\n",
       "  <thead>\n",
       "    <tr style=\"text-align: right;\">\n",
       "      <th></th>\n",
       "      <th>Pregnancies</th>\n",
       "      <th>Glucose</th>\n",
       "      <th>BloodPressure</th>\n",
       "      <th>SkinThickness</th>\n",
       "      <th>Insulin</th>\n",
       "      <th>BMI</th>\n",
       "      <th>DiabetesPedigreeFunction</th>\n",
       "      <th>Age</th>\n",
       "    </tr>\n",
       "  </thead>\n",
       "  <tbody>\n",
       "    <tr>\n",
       "      <th>147</th>\n",
       "      <td>2</td>\n",
       "      <td>106</td>\n",
       "      <td>64.0</td>\n",
       "      <td>35.00000</td>\n",
       "      <td>119.000000</td>\n",
       "      <td>30.5</td>\n",
       "      <td>1.400</td>\n",
       "      <td>34</td>\n",
       "    </tr>\n",
       "    <tr>\n",
       "      <th>344</th>\n",
       "      <td>8</td>\n",
       "      <td>95</td>\n",
       "      <td>72.0</td>\n",
       "      <td>20.91133</td>\n",
       "      <td>82.866995</td>\n",
       "      <td>36.8</td>\n",
       "      <td>0.485</td>\n",
       "      <td>57</td>\n",
       "    </tr>\n",
       "    <tr>\n",
       "      <th>390</th>\n",
       "      <td>1</td>\n",
       "      <td>100</td>\n",
       "      <td>66.0</td>\n",
       "      <td>29.00000</td>\n",
       "      <td>196.000000</td>\n",
       "      <td>32.0</td>\n",
       "      <td>0.444</td>\n",
       "      <td>42</td>\n",
       "    </tr>\n",
       "    <tr>\n",
       "      <th>150</th>\n",
       "      <td>1</td>\n",
       "      <td>136</td>\n",
       "      <td>74.0</td>\n",
       "      <td>50.00000</td>\n",
       "      <td>204.000000</td>\n",
       "      <td>37.4</td>\n",
       "      <td>0.399</td>\n",
       "      <td>24</td>\n",
       "    </tr>\n",
       "    <tr>\n",
       "      <th>132</th>\n",
       "      <td>3</td>\n",
       "      <td>170</td>\n",
       "      <td>64.0</td>\n",
       "      <td>37.00000</td>\n",
       "      <td>225.000000</td>\n",
       "      <td>34.5</td>\n",
       "      <td>0.356</td>\n",
       "      <td>30</td>\n",
       "    </tr>\n",
       "  </tbody>\n",
       "</table>\n",
       "</div>"
      ],
      "text/plain": [
       "     Pregnancies  Glucose  BloodPressure  SkinThickness     Insulin   BMI  \\\n",
       "147            2      106           64.0       35.00000  119.000000  30.5   \n",
       "344            8       95           72.0       20.91133   82.866995  36.8   \n",
       "390            1      100           66.0       29.00000  196.000000  32.0   \n",
       "150            1      136           74.0       50.00000  204.000000  37.4   \n",
       "132            3      170           64.0       37.00000  225.000000  34.5   \n",
       "\n",
       "     DiabetesPedigreeFunction  Age  \n",
       "147                     1.400   34  \n",
       "344                     0.485   57  \n",
       "390                     0.444   42  \n",
       "150                     0.399   24  \n",
       "132                     0.356   30  "
      ]
     },
     "execution_count": 56,
     "metadata": {},
     "output_type": "execute_result"
    }
   ],
   "source": [
    "# 할거없음\n",
    "X_train_drop.head()"
   ]
  },
  {
   "cell_type": "markdown",
   "id": "0bb9efe3",
   "metadata": {},
   "source": [
    "### 수치형 스케일"
   ]
  },
  {
   "cell_type": "code",
   "execution_count": 61,
   "id": "f173c723",
   "metadata": {
    "scrolled": true
   },
   "outputs": [
    {
     "name": "stderr",
     "output_type": "stream",
     "text": [
      "/var/folders/31/jdpw_xfj4n78ms2cj2mlkym00000gn/T/ipykernel_2003/770071925.py:7: SettingWithCopyWarning: \n",
      "A value is trying to be set on a copy of a slice from a DataFrame.\n",
      "Try using .loc[row_indexer,col_indexer] = value instead\n",
      "\n",
      "See the caveats in the documentation: https://pandas.pydata.org/pandas-docs/stable/user_guide/indexing.html#returning-a-view-versus-a-copy\n",
      "  X_train_drop[col_num] = scaler.transform(X_train_drop[col_num])\n"
     ]
    }
   ],
   "source": [
    "col_num = ['Glucose', 'BloodPressure', 'SkinThickness', 'Insulin', 'BMI', 'DiabetesPedigreeFunction', 'Age']\n",
    "\n",
    "from sklearn.preprocessing import StandardScaler\n",
    "scaler = StandardScaler()\n",
    "\n",
    "scaler.fit(X_train_drop[col_num])\n",
    "X_train_drop[col_num] = scaler.transform(X_train_drop[col_num])\n",
    "\n",
    "X_test[col_num] = scaler.transform(X_test[col_num])"
   ]
  },
  {
   "cell_type": "markdown",
   "id": "b4b61cab",
   "metadata": {},
   "source": [
    "### 모델 생성"
   ]
  },
  {
   "cell_type": "code",
   "execution_count": 62,
   "id": "e46fa07f",
   "metadata": {},
   "outputs": [],
   "source": [
    "from sklearn.ensemble import RandomForestClassifier\n",
    "\n",
    "tree = RandomForestClassifier(n_estimators=200,max_depth=5,max_features=5)"
   ]
  },
  {
   "cell_type": "code",
   "execution_count": 67,
   "id": "fed3601f",
   "metadata": {},
   "outputs": [
    {
     "name": "stdout",
     "output_type": "stream",
     "text": [
      "0.7651944181005284\n"
     ]
    }
   ],
   "source": [
    "from sklearn.model_selection import cross_val_score\n",
    "\n",
    "print(np.mean(cross_val_score(tree,X_train_drop,y_train_drop,scoring='accuracy',cv=5)))"
   ]
  },
  {
   "cell_type": "code",
   "execution_count": 64,
   "id": "65823c11",
   "metadata": {},
   "outputs": [],
   "source": [
    "tree.fit(X_train_drop,y_train_drop)\n",
    "\n",
    "pre = tree.predict(X_test)"
   ]
  },
  {
   "cell_type": "markdown",
   "id": "47619c2d",
   "metadata": {},
   "source": [
    "### 모델 평가"
   ]
  },
  {
   "cell_type": "code",
   "execution_count": 65,
   "id": "6fda6872",
   "metadata": {},
   "outputs": [],
   "source": [
    "from sklearn.metrics import accuracy_score"
   ]
  },
  {
   "cell_type": "code",
   "execution_count": 66,
   "id": "235fbb02",
   "metadata": {},
   "outputs": [
    {
     "data": {
      "text/plain": [
       "0.7727272727272727"
      ]
     },
     "execution_count": 66,
     "metadata": {},
     "output_type": "execute_result"
    }
   ],
   "source": [
    "score = accuracy_score(y_test,pre)\n",
    "score"
   ]
  },
  {
   "cell_type": "code",
   "execution_count": 49,
   "id": "94a6bc62",
   "metadata": {},
   "outputs": [],
   "source": [
    "pd.DataFrame({'cust_id': X_test.index, 'gender': pre}).to_csv('./data/answer/am.csv', index=False)"
   ]
  },
  {
   "cell_type": "code",
   "execution_count": 50,
   "id": "a9f5bce4",
   "metadata": {
    "scrolled": true
   },
   "outputs": [
    {
     "data": {
      "text/html": [
       "<div>\n",
       "<style scoped>\n",
       "    .dataframe tbody tr th:only-of-type {\n",
       "        vertical-align: middle;\n",
       "    }\n",
       "\n",
       "    .dataframe tbody tr th {\n",
       "        vertical-align: top;\n",
       "    }\n",
       "\n",
       "    .dataframe thead th {\n",
       "        text-align: right;\n",
       "    }\n",
       "</style>\n",
       "<table border=\"1\" class=\"dataframe\">\n",
       "  <thead>\n",
       "    <tr style=\"text-align: right;\">\n",
       "      <th></th>\n",
       "      <th>Pregnancies</th>\n",
       "      <th>Glucose</th>\n",
       "      <th>BloodPressure</th>\n",
       "      <th>SkinThickness</th>\n",
       "      <th>Insulin</th>\n",
       "      <th>BMI</th>\n",
       "      <th>DiabetesPedigreeFunction</th>\n",
       "      <th>Age</th>\n",
       "    </tr>\n",
       "  </thead>\n",
       "  <tbody>\n",
       "    <tr>\n",
       "      <th>258</th>\n",
       "      <td>1</td>\n",
       "      <td>193</td>\n",
       "      <td>50.0</td>\n",
       "      <td>16.000000</td>\n",
       "      <td>375.000000</td>\n",
       "      <td>25.9</td>\n",
       "      <td>0.655</td>\n",
       "      <td>24</td>\n",
       "    </tr>\n",
       "    <tr>\n",
       "      <th>220</th>\n",
       "      <td>0</td>\n",
       "      <td>177</td>\n",
       "      <td>60.0</td>\n",
       "      <td>29.000000</td>\n",
       "      <td>478.000000</td>\n",
       "      <td>34.6</td>\n",
       "      <td>1.072</td>\n",
       "      <td>21</td>\n",
       "    </tr>\n",
       "    <tr>\n",
       "      <th>438</th>\n",
       "      <td>1</td>\n",
       "      <td>97</td>\n",
       "      <td>70.0</td>\n",
       "      <td>15.000000</td>\n",
       "      <td>121.374975</td>\n",
       "      <td>18.2</td>\n",
       "      <td>0.147</td>\n",
       "      <td>21</td>\n",
       "    </tr>\n",
       "    <tr>\n",
       "      <th>130</th>\n",
       "      <td>4</td>\n",
       "      <td>173</td>\n",
       "      <td>70.0</td>\n",
       "      <td>14.000000</td>\n",
       "      <td>168.000000</td>\n",
       "      <td>29.7</td>\n",
       "      <td>0.361</td>\n",
       "      <td>33</td>\n",
       "    </tr>\n",
       "    <tr>\n",
       "      <th>730</th>\n",
       "      <td>3</td>\n",
       "      <td>130</td>\n",
       "      <td>78.0</td>\n",
       "      <td>23.000000</td>\n",
       "      <td>79.000000</td>\n",
       "      <td>28.4</td>\n",
       "      <td>0.323</td>\n",
       "      <td>34</td>\n",
       "    </tr>\n",
       "    <tr>\n",
       "      <th>...</th>\n",
       "      <td>...</td>\n",
       "      <td>...</td>\n",
       "      <td>...</td>\n",
       "      <td>...</td>\n",
       "      <td>...</td>\n",
       "      <td>...</td>\n",
       "      <td>...</td>\n",
       "      <td>...</td>\n",
       "    </tr>\n",
       "    <tr>\n",
       "      <th>678</th>\n",
       "      <td>3</td>\n",
       "      <td>121</td>\n",
       "      <td>52.0</td>\n",
       "      <td>26.920333</td>\n",
       "      <td>121.374975</td>\n",
       "      <td>36.0</td>\n",
       "      <td>0.127</td>\n",
       "      <td>25</td>\n",
       "    </tr>\n",
       "    <tr>\n",
       "      <th>500</th>\n",
       "      <td>2</td>\n",
       "      <td>117</td>\n",
       "      <td>90.0</td>\n",
       "      <td>19.000000</td>\n",
       "      <td>71.000000</td>\n",
       "      <td>25.2</td>\n",
       "      <td>0.313</td>\n",
       "      <td>21</td>\n",
       "    </tr>\n",
       "    <tr>\n",
       "      <th>256</th>\n",
       "      <td>3</td>\n",
       "      <td>111</td>\n",
       "      <td>56.0</td>\n",
       "      <td>39.000000</td>\n",
       "      <td>121.374975</td>\n",
       "      <td>30.1</td>\n",
       "      <td>0.557</td>\n",
       "      <td>30</td>\n",
       "    </tr>\n",
       "    <tr>\n",
       "      <th>80</th>\n",
       "      <td>3</td>\n",
       "      <td>113</td>\n",
       "      <td>44.0</td>\n",
       "      <td>13.000000</td>\n",
       "      <td>121.374975</td>\n",
       "      <td>22.4</td>\n",
       "      <td>0.140</td>\n",
       "      <td>22</td>\n",
       "    </tr>\n",
       "    <tr>\n",
       "      <th>174</th>\n",
       "      <td>2</td>\n",
       "      <td>75</td>\n",
       "      <td>64.0</td>\n",
       "      <td>24.000000</td>\n",
       "      <td>55.000000</td>\n",
       "      <td>29.7</td>\n",
       "      <td>0.370</td>\n",
       "      <td>33</td>\n",
       "    </tr>\n",
       "  </tbody>\n",
       "</table>\n",
       "<p>154 rows × 8 columns</p>\n",
       "</div>"
      ],
      "text/plain": [
       "     Pregnancies  Glucose  BloodPressure  SkinThickness     Insulin   BMI  \\\n",
       "258            1      193           50.0      16.000000  375.000000  25.9   \n",
       "220            0      177           60.0      29.000000  478.000000  34.6   \n",
       "438            1       97           70.0      15.000000  121.374975  18.2   \n",
       "130            4      173           70.0      14.000000  168.000000  29.7   \n",
       "730            3      130           78.0      23.000000   79.000000  28.4   \n",
       "..           ...      ...            ...            ...         ...   ...   \n",
       "678            3      121           52.0      26.920333  121.374975  36.0   \n",
       "500            2      117           90.0      19.000000   71.000000  25.2   \n",
       "256            3      111           56.0      39.000000  121.374975  30.1   \n",
       "80             3      113           44.0      13.000000  121.374975  22.4   \n",
       "174            2       75           64.0      24.000000   55.000000  29.7   \n",
       "\n",
       "     DiabetesPedigreeFunction  Age  \n",
       "258                     0.655   24  \n",
       "220                     1.072   21  \n",
       "438                     0.147   21  \n",
       "130                     0.361   33  \n",
       "730                     0.323   34  \n",
       "..                        ...  ...  \n",
       "678                     0.127   25  \n",
       "500                     0.313   21  \n",
       "256                     0.557   30  \n",
       "80                      0.140   22  \n",
       "174                     0.370   33  \n",
       "\n",
       "[154 rows x 8 columns]"
      ]
     },
     "execution_count": 50,
     "metadata": {},
     "output_type": "execute_result"
    }
   ],
   "source": [
    "X_test"
   ]
  },
  {
   "cell_type": "code",
   "execution_count": null,
   "id": "a522a4ca",
   "metadata": {},
   "outputs": [],
   "source": []
  },
  {
   "cell_type": "code",
   "execution_count": null,
   "id": "5d6ab3bd",
   "metadata": {},
   "outputs": [],
   "source": []
  },
  {
   "cell_type": "markdown",
   "id": "52753db8",
   "metadata": {},
   "source": [
    "## 성인 인구조사 소득 예측"
   ]
  },
  {
   "cell_type": "code",
   "execution_count": 458,
   "id": "6b128603",
   "metadata": {},
   "outputs": [
    {
     "data": {
      "text/plain": [
       "((26048, 15), (6513, 15), (26048, 2), (6513, 2))"
      ]
     },
     "execution_count": 458,
     "metadata": {},
     "output_type": "execute_result"
    }
   ],
   "source": [
    "# 시험환경 세팅 (코드 변경 X)\n",
    "import pandas as pd\n",
    "import numpy as np\n",
    "from sklearn.model_selection import train_test_split\n",
    "\n",
    "def exam_data_load(df, target, id_name=\"\", null_name=\"\"):\n",
    "    if id_name == \"\":\n",
    "        df = df.reset_index().rename(columns={\"index\": \"id\"})\n",
    "        id_name = 'id'\n",
    "    else:\n",
    "        id_name = id_name\n",
    "    \n",
    "    if null_name != \"\":\n",
    "        df[df == null_name] = np.nan\n",
    "    \n",
    "    X_train, X_test = train_test_split(df, test_size=0.2, random_state=2021)\n",
    "    \n",
    "    y_train = X_train[[id_name, target]]\n",
    "    X_train = X_train.drop(columns=[target])\n",
    "\n",
    "    \n",
    "    y_test = X_test[[id_name, target]]\n",
    "    X_test = X_test.drop(columns=[target])\n",
    "    return X_train, X_test, y_train, y_test \n",
    "    \n",
    "df = pd.read_csv(\"./data/adult.csv\")\n",
    "X_train, X_test, y_train, y_test = exam_data_load(df, target='income', null_name='?')\n",
    "\n",
    "X_train.shape, X_test.shape, y_train.shape, y_test.shape"
   ]
  },
  {
   "cell_type": "code",
   "execution_count": 459,
   "id": "98d6393d",
   "metadata": {},
   "outputs": [
    {
     "data": {
      "text/html": [
       "<div>\n",
       "<style scoped>\n",
       "    .dataframe tbody tr th:only-of-type {\n",
       "        vertical-align: middle;\n",
       "    }\n",
       "\n",
       "    .dataframe tbody tr th {\n",
       "        vertical-align: top;\n",
       "    }\n",
       "\n",
       "    .dataframe thead th {\n",
       "        text-align: right;\n",
       "    }\n",
       "</style>\n",
       "<table border=\"1\" class=\"dataframe\">\n",
       "  <thead>\n",
       "    <tr style=\"text-align: right;\">\n",
       "      <th></th>\n",
       "      <th>id</th>\n",
       "      <th>age</th>\n",
       "      <th>workclass</th>\n",
       "      <th>fnlwgt</th>\n",
       "      <th>education</th>\n",
       "      <th>education.num</th>\n",
       "      <th>marital.status</th>\n",
       "      <th>occupation</th>\n",
       "      <th>relationship</th>\n",
       "      <th>race</th>\n",
       "      <th>sex</th>\n",
       "      <th>capital.gain</th>\n",
       "      <th>capital.loss</th>\n",
       "      <th>hours.per.week</th>\n",
       "      <th>native.country</th>\n",
       "    </tr>\n",
       "  </thead>\n",
       "  <tbody>\n",
       "    <tr>\n",
       "      <th>21851</th>\n",
       "      <td>21851</td>\n",
       "      <td>36</td>\n",
       "      <td>Private</td>\n",
       "      <td>241998</td>\n",
       "      <td>Bachelors</td>\n",
       "      <td>13</td>\n",
       "      <td>Married-civ-spouse</td>\n",
       "      <td>Craft-repair</td>\n",
       "      <td>Husband</td>\n",
       "      <td>White</td>\n",
       "      <td>Male</td>\n",
       "      <td>0</td>\n",
       "      <td>0</td>\n",
       "      <td>50</td>\n",
       "      <td>United-States</td>\n",
       "    </tr>\n",
       "    <tr>\n",
       "      <th>7632</th>\n",
       "      <td>7632</td>\n",
       "      <td>53</td>\n",
       "      <td>Private</td>\n",
       "      <td>103950</td>\n",
       "      <td>Masters</td>\n",
       "      <td>14</td>\n",
       "      <td>Divorced</td>\n",
       "      <td>Prof-specialty</td>\n",
       "      <td>Not-in-family</td>\n",
       "      <td>White</td>\n",
       "      <td>Female</td>\n",
       "      <td>0</td>\n",
       "      <td>0</td>\n",
       "      <td>40</td>\n",
       "      <td>United-States</td>\n",
       "    </tr>\n",
       "    <tr>\n",
       "      <th>27878</th>\n",
       "      <td>27878</td>\n",
       "      <td>19</td>\n",
       "      <td>Private</td>\n",
       "      <td>203061</td>\n",
       "      <td>Some-college</td>\n",
       "      <td>10</td>\n",
       "      <td>Never-married</td>\n",
       "      <td>Tech-support</td>\n",
       "      <td>Not-in-family</td>\n",
       "      <td>White</td>\n",
       "      <td>Female</td>\n",
       "      <td>0</td>\n",
       "      <td>0</td>\n",
       "      <td>25</td>\n",
       "      <td>United-States</td>\n",
       "    </tr>\n",
       "  </tbody>\n",
       "</table>\n",
       "</div>"
      ],
      "text/plain": [
       "          id  age workclass  fnlwgt     education  education.num  \\\n",
       "21851  21851   36   Private  241998     Bachelors             13   \n",
       "7632    7632   53   Private  103950       Masters             14   \n",
       "27878  27878   19   Private  203061  Some-college             10   \n",
       "\n",
       "           marital.status      occupation   relationship   race     sex  \\\n",
       "21851  Married-civ-spouse    Craft-repair        Husband  White    Male   \n",
       "7632             Divorced  Prof-specialty  Not-in-family  White  Female   \n",
       "27878       Never-married    Tech-support  Not-in-family  White  Female   \n",
       "\n",
       "       capital.gain  capital.loss  hours.per.week native.country  \n",
       "21851             0             0              50  United-States  \n",
       "7632              0             0              40  United-States  \n",
       "27878             0             0              25  United-States  "
      ]
     },
     "execution_count": 459,
     "metadata": {},
     "output_type": "execute_result"
    }
   ],
   "source": [
    "X_train.head(3)"
   ]
  },
  {
   "cell_type": "code",
   "execution_count": 460,
   "id": "a01b8f93",
   "metadata": {},
   "outputs": [
    {
     "data": {
      "text/plain": [
       "<=50K    19756\n",
       ">50K      6292\n",
       "Name: income, dtype: int64"
      ]
     },
     "execution_count": 460,
     "metadata": {},
     "output_type": "execute_result"
    }
   ],
   "source": [
    "y_train['income'].value_counts()"
   ]
  },
  {
   "cell_type": "markdown",
   "id": "b8e92e05",
   "metadata": {},
   "source": [
    "### 결측치 처리 "
   ]
  },
  {
   "cell_type": "code",
   "execution_count": 461,
   "id": "46ef165c",
   "metadata": {},
   "outputs": [
    {
     "name": "stdout",
     "output_type": "stream",
     "text": [
      "<class 'pandas.core.frame.DataFrame'>\n",
      "Int64Index: 26048 entries, 21851 to 25716\n",
      "Data columns (total 15 columns):\n",
      " #   Column          Non-Null Count  Dtype \n",
      "---  ------          --------------  ----- \n",
      " 0   id              26048 non-null  int64 \n",
      " 1   age             26048 non-null  int64 \n",
      " 2   workclass       24592 non-null  object\n",
      " 3   fnlwgt          26048 non-null  int64 \n",
      " 4   education       26048 non-null  object\n",
      " 5   education.num   26048 non-null  int64 \n",
      " 6   marital.status  26048 non-null  object\n",
      " 7   occupation      24585 non-null  object\n",
      " 8   relationship    26048 non-null  object\n",
      " 9   race            26048 non-null  object\n",
      " 10  sex             26048 non-null  object\n",
      " 11  capital.gain    26048 non-null  int64 \n",
      " 12  capital.loss    26048 non-null  int64 \n",
      " 13  hours.per.week  26048 non-null  int64 \n",
      " 14  native.country  25587 non-null  object\n",
      "dtypes: int64(7), object(8)\n",
      "memory usage: 3.2+ MB\n"
     ]
    }
   ],
   "source": [
    "X_train.info()"
   ]
  },
  {
   "cell_type": "code",
   "execution_count": 462,
   "id": "b9169a29",
   "metadata": {},
   "outputs": [
    {
     "name": "stdout",
     "output_type": "stream",
     "text": [
      "<class 'pandas.core.frame.DataFrame'>\n",
      "Int64Index: 6513 entries, 20901 to 25782\n",
      "Data columns (total 15 columns):\n",
      " #   Column          Non-Null Count  Dtype \n",
      "---  ------          --------------  ----- \n",
      " 0   id              6513 non-null   int64 \n",
      " 1   age             6513 non-null   int64 \n",
      " 2   workclass       6133 non-null   object\n",
      " 3   fnlwgt          6513 non-null   int64 \n",
      " 4   education       6513 non-null   object\n",
      " 5   education.num   6513 non-null   int64 \n",
      " 6   marital.status  6513 non-null   object\n",
      " 7   occupation      6133 non-null   object\n",
      " 8   relationship    6513 non-null   object\n",
      " 9   race            6513 non-null   object\n",
      " 10  sex             6513 non-null   object\n",
      " 11  capital.gain    6513 non-null   int64 \n",
      " 12  capital.loss    6513 non-null   int64 \n",
      " 13  hours.per.week  6513 non-null   int64 \n",
      " 14  native.country  6391 non-null   object\n",
      "dtypes: int64(7), object(8)\n",
      "memory usage: 814.1+ KB\n"
     ]
    }
   ],
   "source": [
    "X_test.info()"
   ]
  },
  {
   "cell_type": "code",
   "execution_count": 463,
   "id": "d24cce6b",
   "metadata": {},
   "outputs": [],
   "source": [
    "# 문자데이터이므로 최빈값으로 처리해줌\n",
    "nan =['workclass','occupation','native.country']\n",
    "\n",
    "for i in nan:\n",
    "    X_train[i] = X_train[i].fillna(X_train[i].mode()[0])\n",
    "    X_test[i] = X_test[i].fillna(X_train[i].mode()[0])"
   ]
  },
  {
   "cell_type": "markdown",
   "id": "a8312483",
   "metadata": {},
   "source": [
    "### 범주형 인코딩"
   ]
  },
  {
   "cell_type": "code",
   "execution_count": 464,
   "id": "4b437fed",
   "metadata": {},
   "outputs": [
    {
     "data": {
      "text/html": [
       "<div>\n",
       "<style scoped>\n",
       "    .dataframe tbody tr th:only-of-type {\n",
       "        vertical-align: middle;\n",
       "    }\n",
       "\n",
       "    .dataframe tbody tr th {\n",
       "        vertical-align: top;\n",
       "    }\n",
       "\n",
       "    .dataframe thead th {\n",
       "        text-align: right;\n",
       "    }\n",
       "</style>\n",
       "<table border=\"1\" class=\"dataframe\">\n",
       "  <thead>\n",
       "    <tr style=\"text-align: right;\">\n",
       "      <th></th>\n",
       "      <th>id</th>\n",
       "      <th>age</th>\n",
       "      <th>workclass</th>\n",
       "      <th>fnlwgt</th>\n",
       "      <th>education</th>\n",
       "      <th>education.num</th>\n",
       "      <th>marital.status</th>\n",
       "      <th>occupation</th>\n",
       "      <th>relationship</th>\n",
       "      <th>race</th>\n",
       "      <th>sex</th>\n",
       "      <th>capital.gain</th>\n",
       "      <th>capital.loss</th>\n",
       "      <th>hours.per.week</th>\n",
       "      <th>native.country</th>\n",
       "    </tr>\n",
       "  </thead>\n",
       "  <tbody>\n",
       "    <tr>\n",
       "      <th>21851</th>\n",
       "      <td>21851</td>\n",
       "      <td>36</td>\n",
       "      <td>Private</td>\n",
       "      <td>241998</td>\n",
       "      <td>Bachelors</td>\n",
       "      <td>13</td>\n",
       "      <td>Married-civ-spouse</td>\n",
       "      <td>Craft-repair</td>\n",
       "      <td>Husband</td>\n",
       "      <td>White</td>\n",
       "      <td>Male</td>\n",
       "      <td>0</td>\n",
       "      <td>0</td>\n",
       "      <td>50</td>\n",
       "      <td>United-States</td>\n",
       "    </tr>\n",
       "    <tr>\n",
       "      <th>7632</th>\n",
       "      <td>7632</td>\n",
       "      <td>53</td>\n",
       "      <td>Private</td>\n",
       "      <td>103950</td>\n",
       "      <td>Masters</td>\n",
       "      <td>14</td>\n",
       "      <td>Divorced</td>\n",
       "      <td>Prof-specialty</td>\n",
       "      <td>Not-in-family</td>\n",
       "      <td>White</td>\n",
       "      <td>Female</td>\n",
       "      <td>0</td>\n",
       "      <td>0</td>\n",
       "      <td>40</td>\n",
       "      <td>United-States</td>\n",
       "    </tr>\n",
       "    <tr>\n",
       "      <th>27878</th>\n",
       "      <td>27878</td>\n",
       "      <td>19</td>\n",
       "      <td>Private</td>\n",
       "      <td>203061</td>\n",
       "      <td>Some-college</td>\n",
       "      <td>10</td>\n",
       "      <td>Never-married</td>\n",
       "      <td>Tech-support</td>\n",
       "      <td>Not-in-family</td>\n",
       "      <td>White</td>\n",
       "      <td>Female</td>\n",
       "      <td>0</td>\n",
       "      <td>0</td>\n",
       "      <td>25</td>\n",
       "      <td>United-States</td>\n",
       "    </tr>\n",
       "    <tr>\n",
       "      <th>14121</th>\n",
       "      <td>14121</td>\n",
       "      <td>20</td>\n",
       "      <td>Private</td>\n",
       "      <td>102607</td>\n",
       "      <td>HS-grad</td>\n",
       "      <td>9</td>\n",
       "      <td>Never-married</td>\n",
       "      <td>Handlers-cleaners</td>\n",
       "      <td>Own-child</td>\n",
       "      <td>White</td>\n",
       "      <td>Male</td>\n",
       "      <td>0</td>\n",
       "      <td>0</td>\n",
       "      <td>30</td>\n",
       "      <td>United-States</td>\n",
       "    </tr>\n",
       "  </tbody>\n",
       "</table>\n",
       "</div>"
      ],
      "text/plain": [
       "          id  age workclass  fnlwgt     education  education.num  \\\n",
       "21851  21851   36   Private  241998     Bachelors             13   \n",
       "7632    7632   53   Private  103950       Masters             14   \n",
       "27878  27878   19   Private  203061  Some-college             10   \n",
       "14121  14121   20   Private  102607       HS-grad              9   \n",
       "\n",
       "           marital.status         occupation   relationship   race     sex  \\\n",
       "21851  Married-civ-spouse       Craft-repair        Husband  White    Male   \n",
       "7632             Divorced     Prof-specialty  Not-in-family  White  Female   \n",
       "27878       Never-married       Tech-support  Not-in-family  White  Female   \n",
       "14121       Never-married  Handlers-cleaners      Own-child  White    Male   \n",
       "\n",
       "       capital.gain  capital.loss  hours.per.week native.country  \n",
       "21851             0             0              50  United-States  \n",
       "7632              0             0              40  United-States  \n",
       "27878             0             0              25  United-States  \n",
       "14121             0             0              30  United-States  "
      ]
     },
     "execution_count": 464,
     "metadata": {},
     "output_type": "execute_result"
    }
   ],
   "source": [
    "X_train.head(4)"
   ]
  },
  {
   "cell_type": "code",
   "execution_count": 465,
   "id": "295dc998",
   "metadata": {},
   "outputs": [],
   "source": [
    "col_cat = ['workclass','education','marital.status','marital.status','relationship','race','sex','native.country','occupation']\n",
    "col_num = ['age','fnlwgt','hours.per.week', 'capital.loss','capital.gain']"
   ]
  },
  {
   "cell_type": "code",
   "execution_count": 466,
   "id": "9528c09e",
   "metadata": {},
   "outputs": [],
   "source": [
    "from sklearn.preprocessing import LabelEncoder\n",
    "\n",
    "scaler = LabelEncoder()\n",
    "\n",
    "for i in col_cat:\n",
    "    scaler.fit(X_train[i])\n",
    "    X_train[i] = scaler.transform(X_train[i])\n",
    "    X_test[i] = scaler.transform(X_test[i])"
   ]
  },
  {
   "cell_type": "markdown",
   "id": "6a0a8904",
   "metadata": {},
   "source": [
    "### 수치형 스케일링"
   ]
  },
  {
   "cell_type": "code",
   "execution_count": 467,
   "id": "85528a9c",
   "metadata": {},
   "outputs": [],
   "source": [
    "from sklearn.preprocessing import StandardScaler\n",
    "\n",
    "scaler = StandardScaler()\n",
    "scaler.fit(X_train[col_num])\n",
    "X_train[col_num] = scaler.transform(X_train[col_num])\n",
    "X_test[col_num] = scaler.transform(X_test[col_num])"
   ]
  },
  {
   "cell_type": "markdown",
   "id": "f2bb147b",
   "metadata": {},
   "source": [
    "### 필요없는 컬럼 삭제"
   ]
  },
  {
   "cell_type": "code",
   "execution_count": 468,
   "id": "3a090b41",
   "metadata": {},
   "outputs": [],
   "source": [
    "X_train.drop('id',axis=1,inplace=True)\n",
    "X_test2 = X_test.drop('id',axis=1)"
   ]
  },
  {
   "cell_type": "markdown",
   "id": "0de757a9",
   "metadata": {},
   "source": [
    "### 모델 생성"
   ]
  },
  {
   "cell_type": "code",
   "execution_count": 469,
   "id": "1b6fc831",
   "metadata": {},
   "outputs": [],
   "source": [
    "y = []\n",
    "for i in y_train['income']:\n",
    "    if i == '>50K':\n",
    "        y.append(1)\n",
    "    else :\n",
    "        y.append(0)\n",
    "        \n",
    "y = np.array(y)"
   ]
  },
  {
   "cell_type": "code",
   "execution_count": 470,
   "id": "5305e43e",
   "metadata": {},
   "outputs": [
    {
     "data": {
      "text/plain": [
       "RandomForestClassifier()"
      ]
     },
     "execution_count": 470,
     "metadata": {},
     "output_type": "execute_result"
    }
   ],
   "source": [
    "from sklearn.ensemble import RandomForestClassifier\n",
    "\n",
    "tree = RandomForestClassifier()\n",
    "tree.fit(X_train,y)"
   ]
  },
  {
   "cell_type": "code",
   "execution_count": 471,
   "id": "0f8bcf21",
   "metadata": {},
   "outputs": [],
   "source": [
    "pre = tree.predict(X_test2)"
   ]
  },
  {
   "cell_type": "markdown",
   "id": "b3abb246",
   "metadata": {},
   "source": [
    "### 모델 평가"
   ]
  },
  {
   "cell_type": "code",
   "execution_count": 472,
   "id": "e6f24cad",
   "metadata": {},
   "outputs": [],
   "source": [
    "y2 = []\n",
    "for i in y_test['income']:\n",
    "    if i == '>50K':\n",
    "        y2.append(1)\n",
    "    else :\n",
    "        y2.append(0)\n",
    "        \n",
    "y2 = np.array(y2)"
   ]
  },
  {
   "cell_type": "code",
   "execution_count": 473,
   "id": "62cc44ff",
   "metadata": {},
   "outputs": [
    {
     "data": {
      "text/plain": [
       "0.8572086596038692"
      ]
     },
     "execution_count": 473,
     "metadata": {},
     "output_type": "execute_result"
    }
   ],
   "source": [
    "from sklearn.metrics import accuracy_score\n",
    "score = accuracy_score(pre,y2)\n",
    "\n",
    "score"
   ]
  },
  {
   "cell_type": "code",
   "execution_count": 482,
   "id": "715c75e3",
   "metadata": {},
   "outputs": [],
   "source": [
    "a = []\n",
    "for i in y2:\n",
    "    if i == 1 :\n",
    "        a.append('>50K')\n",
    "    else :\n",
    "        a.append('<=50K')\n",
    "        \n",
    "pd.DataFrame({'id':X_test.id,'income':a}).to_csv('./data/answer/adult.csv',index=False)"
   ]
  },
  {
   "cell_type": "code",
   "execution_count": null,
   "id": "9adf919a",
   "metadata": {},
   "outputs": [],
   "source": []
  },
  {
   "cell_type": "code",
   "execution_count": null,
   "id": "98a5faec",
   "metadata": {},
   "outputs": [],
   "source": []
  },
  {
   "cell_type": "markdown",
   "id": "a2965629",
   "metadata": {},
   "source": [
    "## 바이러스 예측 "
   ]
  },
  {
   "cell_type": "code",
   "execution_count": 92,
   "id": "0f5d08be",
   "metadata": {},
   "outputs": [
    {
     "data": {
      "text/plain": [
       "((1070, 7), (268, 7), (1070, 2), (268, 2))"
      ]
     },
     "execution_count": 92,
     "metadata": {},
     "output_type": "execute_result"
    }
   ],
   "source": [
    "# 시험환경 세팅 (코드 변경 X)\n",
    "import pandas as pd\n",
    "import numpy as np\n",
    "from sklearn.model_selection import train_test_split\n",
    "\n",
    "def exam_data_load(df, target, id_name=\"\", null_name=\"\"):\n",
    "    if id_name == \"\":\n",
    "        df = df.reset_index().rename(columns={\"index\": \"id\"})\n",
    "        id_name = 'id'\n",
    "    else:\n",
    "        id_name = id_name\n",
    "    \n",
    "    if null_name != \"\":\n",
    "        df[df == null_name] = np.nan\n",
    "    \n",
    "    X_train, X_test = train_test_split(df, test_size=0.2, random_state=2021)\n",
    "    \n",
    "    y_train = X_train[[id_name, target]]\n",
    "    X_train = X_train.drop(columns=[target])\n",
    "\n",
    "    \n",
    "    y_test = X_test[[id_name, target]]\n",
    "    X_test = X_test.drop(columns=[target])\n",
    "    return X_train, X_test, y_train, y_test \n",
    "    \n",
    "df = pd.read_csv(\"./data/insurance.csv\")\n",
    "X_train, X_test, y_train, y_test = exam_data_load(df, target='charges')\n",
    "\n",
    "X_train.shape, X_test.shape, y_train.shape, y_test.shape"
   ]
  },
  {
   "cell_type": "markdown",
   "id": "f68591cf",
   "metadata": {},
   "source": [
    "### 결측치 확인"
   ]
  },
  {
   "cell_type": "code",
   "execution_count": 93,
   "id": "b3896b57",
   "metadata": {},
   "outputs": [
    {
     "name": "stdout",
     "output_type": "stream",
     "text": [
      "<class 'pandas.core.frame.DataFrame'>\n",
      "Int64Index: 1070 entries, 209 to 1140\n",
      "Data columns (total 7 columns):\n",
      " #   Column    Non-Null Count  Dtype  \n",
      "---  ------    --------------  -----  \n",
      " 0   id        1070 non-null   int64  \n",
      " 1   age       1070 non-null   int64  \n",
      " 2   sex       1070 non-null   object \n",
      " 3   bmi       1070 non-null   float64\n",
      " 4   children  1070 non-null   int64  \n",
      " 5   smoker    1070 non-null   object \n",
      " 6   region    1070 non-null   object \n",
      "dtypes: float64(1), int64(3), object(3)\n",
      "memory usage: 66.9+ KB\n"
     ]
    }
   ],
   "source": [
    "X_train.info()"
   ]
  },
  {
   "cell_type": "code",
   "execution_count": 94,
   "id": "6910b22f",
   "metadata": {},
   "outputs": [
    {
     "name": "stdout",
     "output_type": "stream",
     "text": [
      "<class 'pandas.core.frame.DataFrame'>\n",
      "Int64Index: 268 entries, 1088 to 116\n",
      "Data columns (total 7 columns):\n",
      " #   Column    Non-Null Count  Dtype  \n",
      "---  ------    --------------  -----  \n",
      " 0   id        268 non-null    int64  \n",
      " 1   age       268 non-null    int64  \n",
      " 2   sex       268 non-null    object \n",
      " 3   bmi       268 non-null    float64\n",
      " 4   children  268 non-null    int64  \n",
      " 5   smoker    268 non-null    object \n",
      " 6   region    268 non-null    object \n",
      "dtypes: float64(1), int64(3), object(3)\n",
      "memory usage: 16.8+ KB\n"
     ]
    }
   ],
   "source": [
    "X_test.info()"
   ]
  },
  {
   "cell_type": "markdown",
   "id": "bf2bef40",
   "metadata": {},
   "source": [
    "### 범주형 인코딩 "
   ]
  },
  {
   "cell_type": "code",
   "execution_count": 95,
   "id": "42e41348",
   "metadata": {},
   "outputs": [],
   "source": [
    "col_cat = X_train.select_dtypes('object').columns # 이렇게 범주형 뽑아낼 수 있음\n",
    "col_num = ['age','bmi']"
   ]
  },
  {
   "cell_type": "code",
   "execution_count": 96,
   "id": "db0c7737",
   "metadata": {},
   "outputs": [],
   "source": [
    "from sklearn.preprocessing import LabelEncoder\n",
    "\n",
    "encoder = LabelEncoder()\n",
    "for i in col_cat:\n",
    "    encoder.fit(X_train[i])\n",
    "    X_train[i] = encoder.transform(X_train[i])\n",
    "    X_test[i] = encoder.transform(X_test[i])"
   ]
  },
  {
   "cell_type": "markdown",
   "id": "cc1ec8de",
   "metadata": {},
   "source": [
    "### 검증용 분리"
   ]
  },
  {
   "cell_type": "code",
   "execution_count": 97,
   "id": "39a57e4f",
   "metadata": {},
   "outputs": [],
   "source": [
    "from sklearn.model_selection import train_test_split\n",
    "X_tr,X_val,y_tr,y_val = train_test_split(X_train,y_train,test_size = 0.2)"
   ]
  },
  {
   "cell_type": "markdown",
   "id": "70c66cf2",
   "metadata": {},
   "source": [
    "### 수치형 스케일링"
   ]
  },
  {
   "cell_type": "code",
   "execution_count": 98,
   "id": "e307887a",
   "metadata": {},
   "outputs": [],
   "source": [
    "from sklearn.preprocessing import StandardScaler\n",
    "\n",
    "scaler = StandardScaler()\n",
    "\n",
    "scaler.fit(X_tr[col_num])\n",
    "X_tr[col_num] = scaler.transform(X_tr[col_num])\n",
    "X_val[col_num] = scaler.transform(X_val[col_num])\n",
    "X_test[col_num] = scaler.transform(X_test[col_num])"
   ]
  },
  {
   "cell_type": "markdown",
   "id": "545fa097",
   "metadata": {},
   "source": [
    "### 컬럼 삭제"
   ]
  },
  {
   "cell_type": "code",
   "execution_count": 99,
   "id": "20f2b724",
   "metadata": {},
   "outputs": [],
   "source": [
    "X_tr.drop('id',axis=1,inplace = True)\n",
    "X_val.drop('id',axis=1,inplace = True)\n",
    "X_test2 = X_test.drop('id',axis=1)"
   ]
  },
  {
   "cell_type": "code",
   "execution_count": 100,
   "id": "09d85dc1",
   "metadata": {},
   "outputs": [],
   "source": [
    "y_tr = y_tr['charges']\n",
    "y_val = y_val['charges']"
   ]
  },
  {
   "cell_type": "markdown",
   "id": "2e7b36e8",
   "metadata": {},
   "source": [
    "### 모델선택"
   ]
  },
  {
   "cell_type": "code",
   "execution_count": 101,
   "id": "91979b67",
   "metadata": {},
   "outputs": [],
   "source": [
    "from sklearn.ensemble import RandomForestRegressor\n",
    "\n",
    "tree = RandomForestRegressor()\n",
    "\n",
    "tree.fit(X_tr, y_tr)\n",
    "\n",
    "pre = tree.predict(X_val)"
   ]
  },
  {
   "cell_type": "markdown",
   "id": "fc761b5e",
   "metadata": {},
   "source": [
    "### 모델 평가"
   ]
  },
  {
   "cell_type": "code",
   "execution_count": 102,
   "id": "01b92f94",
   "metadata": {},
   "outputs": [
    {
     "data": {
      "text/plain": [
       "4915.542971860442"
      ]
     },
     "execution_count": 102,
     "metadata": {},
     "output_type": "execute_result"
    }
   ],
   "source": [
    "from sklearn.metrics import mean_squared_error\n",
    "\n",
    "score = mean_squared_error(y_val,pre,squared=False)\n",
    "score"
   ]
  },
  {
   "cell_type": "code",
   "execution_count": 103,
   "id": "66d9a2ca",
   "metadata": {},
   "outputs": [],
   "source": [
    "# y값 로그변환해서 예측 \n",
    "\n",
    "y_tr_l = np.log1p(y_tr)\n",
    "\n",
    "tree2 = RandomForestRegressor()\n",
    "\n",
    "tree2.fit(X_tr,y_tr_l)\n",
    "pre = tree2.predict(X_val)\n",
    "\n",
    "pre2 = np.expm1(pre)"
   ]
  },
  {
   "cell_type": "code",
   "execution_count": 104,
   "id": "647966c3",
   "metadata": {},
   "outputs": [
    {
     "data": {
      "text/plain": [
       "4818.457767926338"
      ]
     },
     "execution_count": 104,
     "metadata": {},
     "output_type": "execute_result"
    }
   ],
   "source": [
    "score = mean_squared_error(pre2,y_val,squared=False)\n",
    "score"
   ]
  },
  {
   "cell_type": "markdown",
   "id": "82d502c8",
   "metadata": {},
   "source": [
    "### 답 예측하기"
   ]
  },
  {
   "cell_type": "code",
   "execution_count": 106,
   "id": "371520f8",
   "metadata": {},
   "outputs": [],
   "source": [
    "y = tree2.predict(X_test2)"
   ]
  },
  {
   "cell_type": "code",
   "execution_count": 107,
   "id": "8cf0049d",
   "metadata": {},
   "outputs": [],
   "source": [
    "y2 = np.expm1(y)"
   ]
  },
  {
   "cell_type": "code",
   "execution_count": 109,
   "id": "ec1310fc",
   "metadata": {},
   "outputs": [],
   "source": [
    "pd.DataFrame({'id':X_test.id,'charges':y2}).to_csv('./data/answer/influ.csv',index=False)"
   ]
  },
  {
   "cell_type": "code",
   "execution_count": 111,
   "id": "8800d6be",
   "metadata": {},
   "outputs": [
    {
     "data": {
      "text/plain": [
       "4746.068199745486"
      ]
     },
     "execution_count": 111,
     "metadata": {},
     "output_type": "execute_result"
    }
   ],
   "source": [
    "score = mean_squared_error(y2,y_test['charges'],squared=False)\n",
    "score"
   ]
  },
  {
   "cell_type": "code",
   "execution_count": null,
   "id": "05ab6045",
   "metadata": {},
   "outputs": [],
   "source": []
  },
  {
   "cell_type": "code",
   "execution_count": null,
   "id": "68518593",
   "metadata": {},
   "outputs": [],
   "source": []
  },
  {
   "cell_type": "markdown",
   "id": "3ed7f287",
   "metadata": {},
   "source": [
    "## 바이크쉐어링"
   ]
  },
  {
   "cell_type": "code",
   "execution_count": 196,
   "id": "e1cafedb",
   "metadata": {},
   "outputs": [],
   "source": [
    "train = pd.read_csv('./data/bike_train.csv')\n",
    "test = pd.read_csv('./data/bike_test.csv')"
   ]
  },
  {
   "cell_type": "code",
   "execution_count": 197,
   "id": "e223afc3",
   "metadata": {},
   "outputs": [
    {
     "name": "stdout",
     "output_type": "stream",
     "text": [
      "<class 'pandas.core.frame.DataFrame'>\n",
      "RangeIndex: 10886 entries, 0 to 10885\n",
      "Data columns (total 12 columns):\n",
      " #   Column      Non-Null Count  Dtype  \n",
      "---  ------      --------------  -----  \n",
      " 0   datetime    10886 non-null  object \n",
      " 1   season      10886 non-null  int64  \n",
      " 2   holiday     10886 non-null  int64  \n",
      " 3   workingday  10886 non-null  int64  \n",
      " 4   weather     10886 non-null  int64  \n",
      " 5   temp        10886 non-null  float64\n",
      " 6   atemp       10886 non-null  float64\n",
      " 7   humidity    10886 non-null  int64  \n",
      " 8   windspeed   10886 non-null  float64\n",
      " 9   casual      10886 non-null  int64  \n",
      " 10  registered  10886 non-null  int64  \n",
      " 11  count       10886 non-null  int64  \n",
      "dtypes: float64(3), int64(8), object(1)\n",
      "memory usage: 1020.7+ KB\n"
     ]
    }
   ],
   "source": [
    "train.info()"
   ]
  },
  {
   "cell_type": "code",
   "execution_count": 198,
   "id": "d784b9fc",
   "metadata": {},
   "outputs": [
    {
     "name": "stdout",
     "output_type": "stream",
     "text": [
      "<class 'pandas.core.frame.DataFrame'>\n",
      "RangeIndex: 6493 entries, 0 to 6492\n",
      "Data columns (total 9 columns):\n",
      " #   Column      Non-Null Count  Dtype  \n",
      "---  ------      --------------  -----  \n",
      " 0   datetime    6493 non-null   object \n",
      " 1   season      6493 non-null   int64  \n",
      " 2   holiday     6493 non-null   int64  \n",
      " 3   workingday  6493 non-null   int64  \n",
      " 4   weather     6493 non-null   int64  \n",
      " 5   temp        6493 non-null   float64\n",
      " 6   atemp       6493 non-null   float64\n",
      " 7   humidity    6493 non-null   int64  \n",
      " 8   windspeed   6493 non-null   float64\n",
      "dtypes: float64(3), int64(5), object(1)\n",
      "memory usage: 456.7+ KB\n"
     ]
    }
   ],
   "source": [
    "test.info()"
   ]
  },
  {
   "cell_type": "markdown",
   "id": "c645571f",
   "metadata": {},
   "source": [
    "### 컬럼 삭제하기"
   ]
  },
  {
   "cell_type": "code",
   "execution_count": 199,
   "id": "2e624cb7",
   "metadata": {},
   "outputs": [],
   "source": [
    "train.drop('datetime',axis=1,inplace=True)"
   ]
  },
  {
   "cell_type": "code",
   "execution_count": 200,
   "id": "7dd4a2f6",
   "metadata": {},
   "outputs": [],
   "source": [
    "test.drop('datetime',axis=1, inplace=True)"
   ]
  },
  {
   "cell_type": "markdown",
   "id": "9cc3229c",
   "metadata": {},
   "source": [
    "### 데이터 나누기"
   ]
  },
  {
   "cell_type": "code",
   "execution_count": 201,
   "id": "6e7d635c",
   "metadata": {},
   "outputs": [],
   "source": [
    "X_train=train.drop(['casual','registered','count'],axis=1)\n",
    "y_train = train[['casual','registered','count']]"
   ]
  },
  {
   "cell_type": "code",
   "execution_count": 202,
   "id": "7ea709fb",
   "metadata": {},
   "outputs": [],
   "source": [
    "from sklearn.model_selection import train_test_split\n",
    "X_tr,X_val,y_tr,y_val = train_test_split(X_train,y_train,test_size=0.2)"
   ]
  },
  {
   "cell_type": "markdown",
   "id": "4c9be19e",
   "metadata": {},
   "source": [
    "### 스케일링"
   ]
  },
  {
   "cell_type": "code",
   "execution_count": 203,
   "id": "668203b3",
   "metadata": {},
   "outputs": [
    {
     "data": {
      "text/html": [
       "<div>\n",
       "<style scoped>\n",
       "    .dataframe tbody tr th:only-of-type {\n",
       "        vertical-align: middle;\n",
       "    }\n",
       "\n",
       "    .dataframe tbody tr th {\n",
       "        vertical-align: top;\n",
       "    }\n",
       "\n",
       "    .dataframe thead th {\n",
       "        text-align: right;\n",
       "    }\n",
       "</style>\n",
       "<table border=\"1\" class=\"dataframe\">\n",
       "  <thead>\n",
       "    <tr style=\"text-align: right;\">\n",
       "      <th></th>\n",
       "      <th>season</th>\n",
       "      <th>holiday</th>\n",
       "      <th>workingday</th>\n",
       "      <th>weather</th>\n",
       "      <th>temp</th>\n",
       "      <th>atemp</th>\n",
       "      <th>humidity</th>\n",
       "      <th>windspeed</th>\n",
       "    </tr>\n",
       "  </thead>\n",
       "  <tbody>\n",
       "    <tr>\n",
       "      <th>5045</th>\n",
       "      <td>4</td>\n",
       "      <td>0</td>\n",
       "      <td>0</td>\n",
       "      <td>1</td>\n",
       "      <td>10.66</td>\n",
       "      <td>15.150</td>\n",
       "      <td>87</td>\n",
       "      <td>0.0000</td>\n",
       "    </tr>\n",
       "    <tr>\n",
       "      <th>9368</th>\n",
       "      <td>3</td>\n",
       "      <td>0</td>\n",
       "      <td>1</td>\n",
       "      <td>1</td>\n",
       "      <td>29.52</td>\n",
       "      <td>32.575</td>\n",
       "      <td>42</td>\n",
       "      <td>12.9980</td>\n",
       "    </tr>\n",
       "    <tr>\n",
       "      <th>1501</th>\n",
       "      <td>2</td>\n",
       "      <td>0</td>\n",
       "      <td>1</td>\n",
       "      <td>2</td>\n",
       "      <td>14.76</td>\n",
       "      <td>16.665</td>\n",
       "      <td>71</td>\n",
       "      <td>19.0012</td>\n",
       "    </tr>\n",
       "    <tr>\n",
       "      <th>3952</th>\n",
       "      <td>3</td>\n",
       "      <td>0</td>\n",
       "      <td>1</td>\n",
       "      <td>3</td>\n",
       "      <td>19.68</td>\n",
       "      <td>23.485</td>\n",
       "      <td>82</td>\n",
       "      <td>31.0009</td>\n",
       "    </tr>\n",
       "    <tr>\n",
       "      <th>1382</th>\n",
       "      <td>2</td>\n",
       "      <td>0</td>\n",
       "      <td>0</td>\n",
       "      <td>1</td>\n",
       "      <td>17.22</td>\n",
       "      <td>21.210</td>\n",
       "      <td>41</td>\n",
       "      <td>16.9979</td>\n",
       "    </tr>\n",
       "  </tbody>\n",
       "</table>\n",
       "</div>"
      ],
      "text/plain": [
       "      season  holiday  workingday  weather   temp   atemp  humidity  windspeed\n",
       "5045       4        0           0        1  10.66  15.150        87     0.0000\n",
       "9368       3        0           1        1  29.52  32.575        42    12.9980\n",
       "1501       2        0           1        2  14.76  16.665        71    19.0012\n",
       "3952       3        0           1        3  19.68  23.485        82    31.0009\n",
       "1382       2        0           0        1  17.22  21.210        41    16.9979"
      ]
     },
     "execution_count": 203,
     "metadata": {},
     "output_type": "execute_result"
    }
   ],
   "source": [
    "X_tr.head()"
   ]
  },
  {
   "cell_type": "code",
   "execution_count": 204,
   "id": "c52268b7",
   "metadata": {},
   "outputs": [],
   "source": [
    "col_cat = ['season','holiday','workingday','weather']\n",
    "col_num = ['temp','atemp','humidity','windspeed']"
   ]
  },
  {
   "cell_type": "code",
   "execution_count": 205,
   "id": "719d96f3",
   "metadata": {},
   "outputs": [],
   "source": [
    "from sklearn.preprocessing import StandardScaler\n",
    "scaler=StandardScaler()\n",
    "\n",
    "scaler.fit(X_tr[col_num])\n",
    "X_tr[col_num] = scaler.transform(X_tr[col_num])\n",
    "X_val[col_num] = scaler.transform(X_val[col_num])\n",
    "test[col_num] = scaler.transform(test[col_num])"
   ]
  },
  {
   "cell_type": "markdown",
   "id": "656c1b48",
   "metadata": {},
   "source": [
    "### 모델생성"
   ]
  },
  {
   "cell_type": "code",
   "execution_count": 208,
   "id": "6c1b13ae",
   "metadata": {},
   "outputs": [],
   "source": [
    "from sklearn.ensemble import RandomForestRegressor\n",
    "tree = RandomForestRegressor()\n",
    "\n",
    "tree.fit(X_tr,y_tr)\n",
    "\n",
    "pre = tree.predict(X_val)"
   ]
  },
  {
   "cell_type": "code",
   "execution_count": 221,
   "id": "ff017ea4",
   "metadata": {},
   "outputs": [
    {
     "data": {
      "text/plain": [
       "(2178, 3)"
      ]
     },
     "execution_count": 221,
     "metadata": {},
     "output_type": "execute_result"
    }
   ],
   "source": [
    "pre.shape"
   ]
  },
  {
   "cell_type": "code",
   "execution_count": 222,
   "id": "f50414fb",
   "metadata": {},
   "outputs": [
    {
     "data": {
      "text/plain": [
       "array([ 93.435     , 378.945     , 104.28083333, ..., 286.06166667,\n",
       "       419.7065    , 279.16233333])"
      ]
     },
     "execution_count": 222,
     "metadata": {},
     "output_type": "execute_result"
    }
   ],
   "source": [
    "pre[:,-1]"
   ]
  },
  {
   "cell_type": "markdown",
   "id": "3636ffb7",
   "metadata": {},
   "source": [
    "### 검증하기"
   ]
  },
  {
   "cell_type": "code",
   "execution_count": 225,
   "id": "98768a71",
   "metadata": {},
   "outputs": [
    {
     "data": {
      "text/plain": [
       "76.37276774099952"
      ]
     },
     "execution_count": 225,
     "metadata": {},
     "output_type": "execute_result"
    }
   ],
   "source": [
    "from sklearn.metrics import mean_absolute_error\n",
    "\n",
    "mean_absolute_error(pre,y_val)"
   ]
  },
  {
   "cell_type": "code",
   "execution_count": 227,
   "id": "deeb9057",
   "metadata": {},
   "outputs": [
    {
     "data": {
      "text/plain": [
       "112.27239609241641"
      ]
     },
     "execution_count": 227,
     "metadata": {},
     "output_type": "execute_result"
    }
   ],
   "source": [
    "mean_absolute_error(pre[:,-1],y_val['count'])"
   ]
  },
  {
   "cell_type": "markdown",
   "id": "6a1918e7",
   "metadata": {},
   "source": [
    "### 답"
   ]
  },
  {
   "cell_type": "code",
   "execution_count": 229,
   "id": "801a7b5a",
   "metadata": {},
   "outputs": [],
   "source": [
    "y = tree.predict(test)"
   ]
  },
  {
   "cell_type": "code",
   "execution_count": 234,
   "id": "018b95f1",
   "metadata": {},
   "outputs": [],
   "source": [
    "pd.DataFrame(y,columns=['casual','registered','count']).to_csv('./data/answer/bike.csv',index=False)"
   ]
  },
  {
   "cell_type": "code",
   "execution_count": null,
   "id": "958daec2",
   "metadata": {},
   "outputs": [],
   "source": []
  },
  {
   "cell_type": "code",
   "execution_count": null,
   "id": "917af045",
   "metadata": {},
   "outputs": [],
   "source": []
  },
  {
   "cell_type": "markdown",
   "id": "690d1f75",
   "metadata": {},
   "source": [
    "정리\n",
    "```\n",
    "분류 : Classifier\n",
    "회귀 : Regressor\n",
    "\n",
    "포레스트 : n_estimator / max_depth 조절하기\n",
    "\n",
    "인코딩은 한 컬럼씩 for문을 돌려서 실시하기\n",
    "\n",
    "스케일링은 한번에 실시(랜덤포레스트는 영향 많이 안받음) -> 하나를 넣어도 2차원으로 진행해줘야함\n",
    "\n",
    "df.describe(include='object')를 이용하면 유니크한 value값 개수 확인가능(인코딩에 사용)\n",
    "\n",
    "y데이터는 1차원으로 넣어주기 \n",
    "```"
   ]
  },
  {
   "cell_type": "markdown",
   "id": "5327edf2",
   "metadata": {},
   "source": [
    "평가지표 \n",
    "```\n",
    "from sklearn.metrics \n",
    "\n",
    "분류 \n",
    "정확도 : import acurracy_score\n",
    "roc_auc : import roc_auc_score\n",
    "f1 score : import f1_scoer \n",
    "           (f1_score(y_true, y_pred, average=[‘micro’, ‘macro’, ‘samples’,’weighted’ 중 하나 선택])\n",
    "\n",
    "회귀 \n",
    "mae : import mean_absolute_error\n",
    "mse : import mean_squared_error\n",
    "rmse : mean_squared_error(squared=False)\n",
    "mape : import mean_absolute_persentage_error\n",
    "r2 : import r2_score\n",
    "```"
   ]
  },
  {
   "cell_type": "code",
   "execution_count": null,
   "id": "87b7d8e9",
   "metadata": {},
   "outputs": [],
   "source": []
  }
 ],
 "metadata": {
  "kernelspec": {
   "display_name": "Python 3 (ipykernel)",
   "language": "python",
   "name": "python3"
  },
  "language_info": {
   "codemirror_mode": {
    "name": "ipython",
    "version": 3
   },
   "file_extension": ".py",
   "mimetype": "text/x-python",
   "name": "python",
   "nbconvert_exporter": "python",
   "pygments_lexer": "ipython3",
   "version": "3.9.13"
  }
 },
 "nbformat": 4,
 "nbformat_minor": 5
}
