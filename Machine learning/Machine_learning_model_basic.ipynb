{
 "cells": [
  {
   "cell_type": "code",
   "execution_count": null,
   "id": "5c76eea5",
   "metadata": {},
   "outputs": [],
   "source": []
  },
  {
   "cell_type": "markdown",
   "id": "d8991d12",
   "metadata": {},
   "source": [
    "회기\n",
    "분류\n",
    "앙상블\n",
    "군집"
   ]
  },
  {
   "cell_type": "markdown",
   "id": "85d2e748",
   "metadata": {},
   "source": [
    "## k-NN(k-최근접 이웃)\n",
    "- 회귀와 분류에서 모두 사용됨\n",
    "- 예측을 하고싶은 데이터에 가장 가까운 k개의 훈련데이터를 찾아낸다\n",
    "- 분류일 때 k개 중 다수인 클레스가 레이블로 추출된다\n",
    "- 회귀일 때 k개의 레이블의 평균이 레이블로 추출된다\n"
   ]
  },
  {
   "cell_type": "markdown",
   "id": "a3976833",
   "metadata": {},
   "source": [
    "- k가 너무 커지면 과소적합, 너무 작아지면 과대적합 발생\n",
    "- 특성의 개수가 너무 크면 예측이 느려짐\n",
    "- test데이터가 train 데이터의 범위를 벗어나면 제대로 된 예측을 할 수 없음\n"
   ]
  },
  {
   "cell_type": "markdown",
   "id": "132103ee",
   "metadata": {},
   "source": [
    "- 분류 : KNeighborsClassifier()\n",
    "- 회귀 : KNeighborsRegressor()\n",
    "\n",
    "```\n",
    "# 주요 파라미터 #\n",
    "n_neighboers = : k를 몇개의 값으로 할지 (default=5)\n",
    "p = 1 or 2 : 1-맨하탄 거리, 2-유클리디안 거리(default=2)\n",
    "Weights = uniform(이웃에 동일한 가중치) or distance(가까운 이웃에 큰 가중치) (default=uniform)\n",
    "```\n",
    "\n",
    "```\n",
    "# 기타 파라미터#\n",
    "lgorithm = 'ball_tree','kd_tree','brute','auto' : 알고리즘 선택 ('auto'는 자동으로 적합한 것을 찾음)\n",
    "leaf_size : 'ball_tree','kd_tree' 사용 시에 설정할 leaf size, 너무작으면 느리고 너무크면 성능이 낮음\n",
    "```"
   ]
  },
  {
   "cell_type": "code",
   "execution_count": 4,
   "id": "c56e4c76",
   "metadata": {},
   "outputs": [],
   "source": [
    "from sklearn.neighbors import KNeighborsClassifier, KNeighborsRegressor"
   ]
  },
  {
   "cell_type": "code",
   "execution_count": null,
   "id": "97c6ab40",
   "metadata": {},
   "outputs": [],
   "source": []
  },
  {
   "cell_type": "markdown",
   "id": "d429f70c",
   "metadata": {},
   "source": [
    "## 선형회귀 \n",
    "- 특성을 가장 잘 나타내는 직선을 찾음\n",
    "- 가중치의 개념이 도입됨\n",
    "- 정규방정식을 이용 / 경사하강법을 이용 의 경우가 있음"
   ]
  },
  {
   "cell_type": "markdown",
   "id": "4834a237",
   "metadata": {},
   "source": [
    "1. 정규방정식을 이용한 선형회귀\n",
    "    - 행렬을 이용해서 가중치를 구함\n",
    "\n",
    "\n",
    "2. 경사하강법을 이용한 선형회귀\n",
    "    - MSE의 비용함수를 이용해 가중치를 구함\n",
    "    - 미분을 통해 MSE의 최저점을 구하기 위한 행위를 반복\n",
    "    - 학습률 설정에 따라 지역최소값에 수렴할 수 있음\n",
    "    - 진행속도가 매우 느림 -> 개선 : 확률적 경사하강법"
   ]
  },
  {
   "cell_type": "markdown",
   "id": "e1a3bd63",
   "metadata": {},
   "source": [
    " 확률적 경사하강법\n",
    "- 전체 데이터를 사용하는 것이 아니라, 랜덤하게 추출한 일부 데이터를 사용\n",
    "- 최저점에 가까운 점을 찾을 가능성이 높지만 항상 보장되지는 않음.\n",
    "- 분류에도 사용 가능"
   ]
  },
  {
   "cell_type": "markdown",
   "id": "052ad269",
   "metadata": {},
   "source": [
    "- 정규방정식 : LinearRegression()\n",
    "- 확률적경사하강법 : SGDRegressor()"
   ]
  },
  {
   "cell_type": "markdown",
   "id": "9b878d29",
   "metadata": {},
   "source": [
    "```\n",
    "# 주요 파라미터 # - SGDRegressor\n",
    "loss = : 어떤 종류의 비용(손실)함수를 사용할것인가 (default='squared_error')\n",
    "penalty = l2', 'l1', 'elasticnet' : 어떤 종류의 규제를 사용할것인가 (default='l2') -> 규제모델 참고\n",
    "max_iter : epochs 를 뜻함 (default=1000)\n",
    "eta0 : 학습률 (default=0.01)\n",
    "\n",
    "```"
   ]
  },
  {
   "cell_type": "code",
   "execution_count": 2,
   "id": "b14111e9",
   "metadata": {},
   "outputs": [],
   "source": [
    "from sklearn.linear_model import LinearRegression\n",
    "from sklearn.linear_model import SGDRegressor,SGDClassifier"
   ]
  },
  {
   "cell_type": "markdown",
   "id": "201a5b53",
   "metadata": {},
   "source": [
    "### 규제모델\n",
    "- 규제가 있는 선형회귀모델 \n",
    "1. Lasso : L1규제(비용함수에 norm의 제곱추가)\n",
    "2. Ridge : L2규제(비용함수에 norm을 추가)\n",
    "3. ElasticNet : L1+L2규제 (r=0이면 ridge, r=1이면 lasso)"
   ]
  },
  {
   "cell_type": "markdown",
   "id": "8ade5bbe",
   "metadata": {},
   "source": [
    "```\n",
    "# 주요 파라미터 # \n",
    "\n",
    "- Ridge, Lasso\n",
    "alpha= : 규제에 얼마나 큰 가중을 줄것인지 (default= 1.0)\n",
    "\n",
    "- ElasticNet \n",
    "alpha= : 규제에 얼마나 큰 가중을 줄것인지 (default= 1.0)\n",
    "l1_ratio : 0이면 ridge, 1이면 lasso(default= 0.5)\n",
    "```"
   ]
  },
  {
   "cell_type": "code",
   "execution_count": 5,
   "id": "1131c76a",
   "metadata": {},
   "outputs": [],
   "source": [
    "from sklearn.linear_model import Ridge, Lasso, ElasticNet"
   ]
  },
  {
   "cell_type": "code",
   "execution_count": null,
   "id": "418e8707",
   "metadata": {},
   "outputs": [],
   "source": []
  },
  {
   "cell_type": "markdown",
   "id": "836a2a06",
   "metadata": {},
   "source": [
    "## 다항회귀\n",
    "- 회귀식이 2차 이상의 방정식과 같은 다항식으로 표현됨\n",
    "- 각 특성의 제곱을 새로운 특정으로 추가 \n",
    "- 변환기를 이용해 데이터를 변형시킨 후 선형회기와 동일한 과정을 취함"
   ]
  },
  {
   "cell_type": "markdown",
   "id": "da6f91a3",
   "metadata": {},
   "source": [
    "- 제곱항 추가하기\n",
    "\n",
    "```\n",
    "from sklearn.preprocessing import PolynomialFeatures\n",
    "poly_features = PolynomialFeatures() \n",
    "X_poly = poly_features.fit_transform(X)\n",
    "```"
   ]
  },
  {
   "cell_type": "markdown",
   "id": "ccb6e421",
   "metadata": {},
   "source": [
    "```\n",
    "# 주요 파라미터 #\n",
    "degree : 최대 몇승의 값까지 만들어낼것인지 (default= 2)\n",
    "include_bias : 편향값을 특성에 포함할 것인지 (default= False)\n",
    "interaction_only : True를 설정할 시 특성간에 상호곱만 표현 (default= False)\n",
    "```"
   ]
  },
  {
   "cell_type": "code",
   "execution_count": 11,
   "id": "7ff26c54",
   "metadata": {},
   "outputs": [],
   "source": [
    "from sklearn.preprocessing import PolynomialFeatures"
   ]
  },
  {
   "cell_type": "code",
   "execution_count": null,
   "id": "f48f1ae5",
   "metadata": {},
   "outputs": [],
   "source": []
  },
  {
   "cell_type": "markdown",
   "id": "abc92cbc",
   "metadata": {},
   "source": [
    "## 로지스틱 회귀\n",
    "- 분류에 사용됨\n",
    "- 선형회귀의 방식을 이용함\n",
    "- 선형회귀로 얻어진 값을 시그모이드 or 소프트맥스함수에 통과시켜 확률값으로 변경 -> 확률에 따라 분류를 실시\n",
    "- 이진분류 : 시그모이드 함수를 사용\n",
    "    - 시그모이드의 출력이 0.5보다 작으면 음성, 크면 양성\n",
    "- 다중분류 : 소프트맥스 함수를 사용\n",
    "    - 가장 큰 확률값으로 출력된 label을 따름"
   ]
  },
  {
   "cell_type": "markdown",
   "id": "758748f9",
   "metadata": {},
   "source": [
    "    * 선형회귀의 일종이기 때문에 선형회귀예하 파라미터와 동일한 파라미터를들을 갖는다"
   ]
  },
  {
   "cell_type": "code",
   "execution_count": 3,
   "id": "926b55fc",
   "metadata": {},
   "outputs": [],
   "source": [
    "from sklearn.linear_model import LogisticRegression"
   ]
  },
  {
   "cell_type": "code",
   "execution_count": null,
   "id": "6f0cc05b",
   "metadata": {},
   "outputs": [],
   "source": []
  },
  {
   "cell_type": "markdown",
   "id": "abde7743",
   "metadata": {},
   "source": [
    "## 결정트리\n",
    "- 회귀와 분류에서 모두 사용\n",
    "- 복잡한 데이터에도 사용 가능\n",
    "- 직관적인 모델 : 그래프로 확인 가능\n",
    "- 모델 스스로 학습을 통해 분류규칙을 만들어냄\n",
    "- 회기모델 :RSS(오차 제곱합)를 가장 잘 줄일 수 있는 변수를 기준으로 분류해 값을 예측\n",
    "    - 그룹에 따라 예측값이 동일함"
   ]
  },
  {
   "cell_type": "markdown",
   "id": "c7f687db",
   "metadata": {},
   "source": [
    "```\n",
    "지니불순도 : 노드의 샘플 클래스가 얼마나 깔끔하게 분리되었는지 알 수 있는 척도\n",
    "\n",
    "-> 1 - (양성클래스비율**2 +음성클래스비율**2)\n",
    "-> 0에 가까울수록 불순도가 낮음\n",
    "```"
   ]
  },
  {
   "cell_type": "markdown",
   "id": "dbbc4375",
   "metadata": {},
   "source": [
    "```\n",
    "#주요 파라미터#\n",
    "max_deprh : 트리의 최대 깊이 (default=None) \n",
    "min_saples_split : 분할되기 위해 노드가 가져야하는 최소의 샘플수 (default=2) \n",
    "min_saples_leaf : 리프 노드가 가지고 있어야할 최소 샘플수 (default=1)\n",
    "max_leaf_nodes : 리프 노드의 최대 수 (default=None)\n",
    "max_features : 각 노드에서 분할에 사용할 특성의 최대 수 (default=None)\n",
    "min_impurity_decrease : 분할로 얻어질 최소한의 불순도 (default=0)\n",
    "```"
   ]
  },
  {
   "cell_type": "code",
   "execution_count": 2,
   "id": "4db899e1",
   "metadata": {},
   "outputs": [],
   "source": [
    "from sklearn.tree import DecisionTreeClassifier, DecisionTreeRegressor\n",
    "\n",
    "# 그래프 그리기\n",
    "from sklearn import tree\n",
    "tree.plot_tree(모델)"
   ]
  },
  {
   "cell_type": "code",
   "execution_count": null,
   "id": "ad3da54e",
   "metadata": {},
   "outputs": [],
   "source": []
  },
  {
   "cell_type": "markdown",
   "id": "4d55f1c5",
   "metadata": {},
   "source": [
    "## 서포트 벡터 머신 \n",
    "- 회귀, 분류, 이상치 탐색에 모두 사용가능\n",
    "- 선형 비선형에 모두 적용\n",
    "- 앙상블, 신경망 개념이 나오기 전에 많이 사용됨"
   ]
  },
  {
   "cell_type": "markdown",
   "id": "50789131",
   "metadata": {},
   "source": [
    "- 결정 경계, 즉 분류를 위한 기준 선을 정의하는 모델\n",
    "- 마진 : 결정 경계와 서포터 벡터 사이의 거리\n",
    "- 최적의 결정경계는 마진을 최대로 한다\n",
    "- 스케일링을 조정하면 결정경계가 훨씬 좋아진다"
   ]
  },
  {
   "cell_type": "markdown",
   "id": "5b898973",
   "metadata": {},
   "source": [
    "- 하드마진 : 모든 샘플을 마진 바깥쪽으로 분류, 데이터가 선형적으로 구분가능해야함, 이상치에 민감\n",
    "- 소프트마진 : 마진 평면을 넘어가는 인스턴스를 허용, 마진 평면을 넘어가는 인스턴스에 페널티를 부과\n",
    "    - c 파라미터를 이용해 조절\n",
    "    - c가 클 경우 : 마진이 작아지고 하드마진에 가까워짐 \n",
    "    - c가 작을 경우 : 마진이 커지고 규제가 적어짐"
   ]
  },
  {
   "cell_type": "code",
   "execution_count": 8,
   "id": "dc6cada7",
   "metadata": {},
   "outputs": [],
   "source": [
    "from sklearn.svm import LinearSVC, LinearSVR\n",
    "# 비선형은 다중회귀와 같이 PolynomialFeatures를 사용"
   ]
  },
  {
   "cell_type": "code",
   "execution_count": null,
   "id": "e75598a1",
   "metadata": {},
   "outputs": [],
   "source": []
  },
  {
   "cell_type": "markdown",
   "id": "e5be73c1",
   "metadata": {},
   "source": [
    "## 앙상블 \n",
    "- 회귀와 분류 모두 사용\n",
    "- 여러 가지 동일한 종류 또는 상이한 모형들의 결과를 종합하여 최종 의사결정에 반영\n",
    "- 보팅, 배깅, 부스팅 등이 존재"
   ]
  },
  {
   "cell_type": "markdown",
   "id": "74f969b5",
   "metadata": {},
   "source": [
    "### 보팅 \n",
    "- 서로 다른 알고리즘의 예측을 모아 다수결 투표\n",
    "- hard / soft의 유형이 있음\n",
    "- hard : 다수결을 이용해 최종 결정\n",
    "- soft : 확률들을 평균을 내서 최종 결정"
   ]
  },
  {
   "cell_type": "markdown",
   "id": "d22ebb48",
   "metadata": {},
   "source": [
    "```\n",
    "#주요 파라미터#\n",
    "estimators : 투표에 참여할 모델들 [('별명',estimators)]의 형식으로 입력해준다\n",
    "voting : hard or soft 중에 선택 (default='hard')\n",
    "- Regressor 는 voting을 선택하지 않음\n",
    "\n",
    "```"
   ]
  },
  {
   "cell_type": "code",
   "execution_count": 12,
   "id": "5ea48505",
   "metadata": {},
   "outputs": [],
   "source": [
    "from sklearn.ensemble import VotingRegressor, VotingClassifier"
   ]
  },
  {
   "cell_type": "markdown",
   "id": "fdbb7aca",
   "metadata": {},
   "source": [
    "### 배깅 \n",
    "- 하나의 알고리즘을 이용해 중복을 허용해 샘플을 여러개 뽑아(boostrap) 각 샘플들의 결과물을 집계\n",
    "- 중복을 허용하지 않으면 페이스팅\n",
    "- 검증까지 실시할 수 있음"
   ]
  },
  {
   "cell_type": "markdown",
   "id": "b9c7469e",
   "metadata": {},
   "source": [
    "```\n",
    "#주요 파라미터#\n",
    "base_estimator : 사용할 모델\n",
    "n_estimators : 사용할 모델의 개수(default=10)\n",
    "bootstrap = True or False : True - 배깅(중복허용), False - 패이스팅(중복비허용) (default=True)\n",
    "max_samples : 몇퍼센트의 샘플을 추출해서 사용할지 (default=1.0)\n",
    "oob_score : 추출되지 않은 샘플들을 이용해서 검증을 실시하는지 결정 (default=False)\n",
    "```"
   ]
  },
  {
   "cell_type": "code",
   "execution_count": 13,
   "id": "656f4aa0",
   "metadata": {},
   "outputs": [],
   "source": [
    "from sklearn.ensemble import BaggingClassifier, BaggingRegressor"
   ]
  },
  {
   "cell_type": "markdown",
   "id": "7bbd4518",
   "metadata": {},
   "source": [
    "### 랜덤 포레스트 \n",
    "- 배깅의 대표적인 모델\n",
    "- 배깅방식을 적용한 결정트리의 앙상블"
   ]
  },
  {
   "cell_type": "markdown",
   "id": "041cccf6",
   "metadata": {},
   "source": [
    "- Extratree : 샘플을 랜덤하지 않은 방식으로 뽑아내는 모델 \n",
    "- 랜덤포레스트와 작동방식은 동일\n"
   ]
  },
  {
   "cell_type": "markdown",
   "id": "1a991575",
   "metadata": {},
   "source": [
    "```\n",
    "#주요 파라미터#\n",
    "n_estimators : 랜덤포레스트를 구성하는 결정트리 수\n",
    "bootstrap : true(랜덤한방식, 랜덤포레스트), False(랜덤하지않은방식,엑스트라트리)\n",
    "\n",
    "나머지는 결정트리의 파라미터와 동일\n",
    "```"
   ]
  },
  {
   "cell_type": "code",
   "execution_count": 3,
   "id": "2c644db4",
   "metadata": {},
   "outputs": [],
   "source": [
    "from sklearn.ensemble import RandomForestClassifier, RandomForestRegressor"
   ]
  },
  {
   "cell_type": "code",
   "execution_count": null,
   "id": "67ecb23f",
   "metadata": {},
   "outputs": [],
   "source": []
  },
  {
   "cell_type": "markdown",
   "id": "3dff4365",
   "metadata": {},
   "source": [
    "### 부스팅\n",
    "- 연속적인 약한 학습기(weaklearner)들을 여러 개 결합해 이루어짐\n",
    "- 연속적으로 이루어져 이전 결과에 오차를 보안해 다음 결과를 이끌어냄\n",
    "- 대표모델에는 AdaBoost, Gradient Boost이 있음\n",
    "- Gradient Boost의 변형 모델로는 XGBoost, LightGBM, CatBoost이 있음\n",
    "- 결정트리를 사용"
   ]
  },
  {
   "cell_type": "markdown",
   "id": "e05695ad",
   "metadata": {},
   "source": [
    "#### AdaBoost\n",
    "- 노드 하나에 두개의 리프(leaf)를 지닌 트리를 stump\n",
    "- AdaBoost는 여러 개의 stump로 구성\n",
    "- 이전의 stump에서 발생한 에러가 다음 stump에 영향을 줌"
   ]
  },
  {
   "cell_type": "markdown",
   "id": "7be880f1",
   "metadata": {},
   "source": [
    "```\n",
    "#주요파라미터#\n",
    "base_estimator :사용되는 결정트리를 변경할 수 있음 (default= max_depth가1인 결정트리) / (회귀의 경우 default = 3)\n",
    "n_estimators : 사용되는 모델의 개수\n",
    "learning_rate : 학습율\n",
    "```"
   ]
  },
  {
   "cell_type": "code",
   "execution_count": 21,
   "id": "32ff462a",
   "metadata": {},
   "outputs": [],
   "source": [
    "from sklearn.ensemble import AdaBoostClassifier, AdaBoostRegressor"
   ]
  },
  {
   "cell_type": "markdown",
   "id": "9f20c1b6",
   "metadata": {},
   "source": [
    "#### Gradient Boost\n",
    "- stump나 tree가 아닌 하나의 leaf부터 시작\n",
    "- 위의 leaf는 타겟 값에 대한 초기 추정 값을 나타냄\n",
    "- tree의 에러가 다음  tree에 영향을 줌"
   ]
  },
  {
   "cell_type": "markdown",
   "id": "3c68901a",
   "metadata": {},
   "source": [
    "```\n",
    "#주요 파라미터#\n",
    "learning_rate : 학습율\n",
    "subsample : 학습기에 사용되는 데이터의 비율을 지정\n",
    "\n",
    "나머지는 결정트리의 파라미터와 동일\n",
    "```"
   ]
  },
  {
   "cell_type": "code",
   "execution_count": 20,
   "id": "e485010a",
   "metadata": {},
   "outputs": [],
   "source": [
    "from sklearn.ensemble import GradientBoostingClassifier,GradientBoostingRegressor"
   ]
  },
  {
   "cell_type": "markdown",
   "id": "5154f4ff",
   "metadata": {},
   "source": [
    "##### HistGradientBoosting\n",
    "- 히스토그램 기반의 그레이디언트 부스팅\n",
    "- 입력특성을 256개의 구간으로 나눠 최적의 분할을 매우 빠르게 찾음\n",
    "- 256개의 구간 중 하나를 결측치 위해 남겨놓게 때문에 결측치 전처리과정이 필요하지않다\n",
    "\n",
    "\n",
    "- 아직 테스트 과정에 있음  (from sklearn.experimental import enable_hist_gradient_boosting)"
   ]
  },
  {
   "cell_type": "code",
   "execution_count": 1,
   "id": "523adcf9",
   "metadata": {},
   "outputs": [],
   "source": [
    "from sklearn.ensemble import HistGradientBoostingClassifier"
   ]
  },
  {
   "cell_type": "markdown",
   "id": "fb764f45",
   "metadata": {},
   "source": [
    "##### XGBoost\n",
    "- Gradient Boost의 병렬학습을 지원한 라이브러리\n",
    "- level-wise tree"
   ]
  },
  {
   "cell_type": "code",
   "execution_count": 27,
   "id": "13fd220a",
   "metadata": {
    "scrolled": true
   },
   "outputs": [],
   "source": [
    "from xgboost import XGBClassifier, XGBRegressor"
   ]
  },
  {
   "cell_type": "markdown",
   "id": "165be335",
   "metadata": {},
   "source": [
    "##### LightGBM\n",
    "- 수직적으로 확장되는 트리 (leaf-wise)\n",
    "- 다른 모델에 비해 손실이 더 적음\n",
    "- 큰 모델에 대해서는 속도가 빠른 이점이 있지만 작은 데이터에는 비적합\n",
    "- 파라미터 튜닝이 복잡함"
   ]
  },
  {
   "cell_type": "code",
   "execution_count": 5,
   "id": "8c2b07f6",
   "metadata": {},
   "outputs": [],
   "source": [
    "import lightgbm"
   ]
  },
  {
   "cell_type": "code",
   "execution_count": null,
   "id": "b42e8514",
   "metadata": {},
   "outputs": [],
   "source": []
  },
  {
   "cell_type": "markdown",
   "id": "c03455a1",
   "metadata": {},
   "source": [
    "# 비지도 학습"
   ]
  },
  {
   "cell_type": "markdown",
   "id": "59b45de6",
   "metadata": {},
   "source": [
    "## k-평균\n",
    "- 데이터를 군집화 해주는 모델\n",
    "- k를 어떻게 지정하느냐에 따라 군집개수가 달라짐\n",
    "- 반복회수를 너무 적게하면 정확한 군집을 얻을 수 없음"
   ]
  },
  {
   "cell_type": "markdown",
   "id": "4eda4f73",
   "metadata": {},
   "source": [
    "- 작동방식\n",
    "1. 군집의 개수를 설정(k개)\n",
    "2. 초기 중심점 생성 \n",
    "3. 데이터를 군집에 할당\n",
    "4. 중심점을 군집의 중심으로 재 할당\n",
    "5. 데이터를 군집에 재할당 \n",
    "6. 4,5 번 행위를 중심점의 위치가 변하지 않을 때 까지 반복"
   ]
  },
  {
   "cell_type": "markdown",
   "id": "e91d7372",
   "metadata": {},
   "source": [
    "- labels_ : 어떤 군집에 속하는지 확인\n",
    "- cluster_centers_ : 각 클러스터들의 센트로이드(중심) 확인"
   ]
  },
  {
   "attachments": {
    "image-2.png": {
     "image/png": "[encoded data removed]"
    }
   },
   "cell_type": "markdown",
   "id": "18892abc",
   "metadata": {},
   "source": [
    "### 최적의 k찾기 : 엘보우 방법\n",
    "\n",
    "- 이너셔\n",
    "    - 클러스터 중심과 클러스터에 속한 샘플 사이 거리의 제곱 합\n",
    "    - 클러스트에 속한 샘플들이 얼마나 가깝게 모여있는지를 나타내는 값(작을수록 군집이 잘 되어있다)\n",
    "    - inertia_로 확인가능\n",
    "\n",
    "- k에 따른 이너셔의 그래프를 그려서 최적의 k확인\n",
    "\n",
    "ex) 4가 최적의 클러스터 개수 \n",
    "\n",
    "![image-2.png](attachment:image-2.png)\n",
    "\n",
    "```\n",
    "k_means_per_k = [KMeans(n_clusters=k, random_state=42).fit(X) for k in range(1, 10)]\n",
    "inertias = [model.inertia_ for model in k_means_per_k]\n",
    "\n",
    "plt.plot(range(1, 10), inertias, \"bo-\")\n",
    "plt.xlabel(\"k\")\n",
    "plt.ylabel(\"Inertia\")\n",
    "```"
   ]
  },
  {
   "attachments": {
    "image.png": {
     "image/png": "[encoded data removed]"
    }
   },
   "cell_type": "markdown",
   "id": "48ad6857",
   "metadata": {},
   "source": [
    "### 최적의 k찾기 : 실루엣 방법\n",
    "- 실루엣 계수\n",
    "     - 각 데이터가 해당 데이터와 같은 군집 내의 데이터와는 얼마나 가깝고, 다른 군집에 있는 데이터와는 얼마나 먼지를 나타내는 지표 \n",
    "    - -1~1의 값, 1에 가까울수록 군집화가 잘된것을 나타냄\n",
    "    - silhouette_score(데이터, 데이터.labels_) 로 구함\n",
    "- k에 따른 이너셔의 그래프를 그려서 최적의 k확인\n",
    "\n",
    "ex) 4가 최적의 클러스터 개수\n",
    "![image.png](attachment:image.png)\n",
    "\n",
    "```\n",
    "k_means_per_k = [KMeans(n_clusters=k, random_state=42).fit(X) for k in range(1, 10)]\n",
    "inertias = [model.inertia_ for model in k_means_per_k]\n",
    "\n",
    "silhouette_scores = [silhouette_score(X, model.labels_) for model in k_means_per_k]\n",
    "\n",
    "plt.plot(range(1, 10), silhouette_scores, \"bo-\")\n",
    "plt.xlabel(\"k\")\n",
    "plt.ylabel(\"Silhouette score\")\n",
    "\n",
    "```"
   ]
  },
  {
   "cell_type": "markdown",
   "id": "eef4974a",
   "metadata": {},
   "source": [
    "- 실루엣 다이어그램 군집수를 이용\n",
    "- 평균선을 많이 넘지않는 클러스트의 개수가 적절\n",
    "- 참고 : https://scikit-learn.org/stable/auto_examples/cluster/plot_kmeans_silhouette_analysis.html?highlight=selecting%20number%20cluster"
   ]
  },
  {
   "cell_type": "markdown",
   "id": "5b45a53b",
   "metadata": {},
   "source": [
    "```\n",
    "#주요파라미터#\n",
    "n_clusters : 몇개의 클러스트를 만들지 (\n",
    "n_init : 초기 중심위치 시도 횟수, n개중 가장 좋은 초기값을 설정 \n",
    "max_iter : 몇번 반복 수행하면서 클러스트를 최적화할지\n",
    "```"
   ]
  },
  {
   "cell_type": "code",
   "execution_count": 9,
   "id": "9868d8b4",
   "metadata": {},
   "outputs": [],
   "source": [
    "from sklearn.cluster import KMeans"
   ]
  }
 ],
 "metadata": {
  "kernelspec": {
   "display_name": "Python 3 (ipykernel)",
   "language": "python",
   "name": "python3"
  },
  "language_info": {
   "codemirror_mode": {
    "name": "ipython",
    "version": 3
   },
   "file_extension": ".py",
   "mimetype": "text/x-python",
   "name": "python",
   "nbconvert_exporter": "python",
   "pygments_lexer": "ipython3",
   "version": "3.9.12"
  }
 },
 "nbformat": 4,
 "nbformat_minor": 5
}
