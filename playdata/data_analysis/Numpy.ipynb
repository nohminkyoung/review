{
 "cells": [
  {
   "cell_type": "markdown",
   "id": "11d00073",
   "metadata": {},
   "source": [
    "# Numpy란 \n",
    "- 수치해석용 python 패키지\n",
    "- 다차원의 행렬 자료구조인 ndarray를 지원하여 벡터와 행렬을 사용하는 선형대수 계산에 주로 사용\n",
    "- 반복문을 작성할 필요 없이 전체 데이터 배열을 빠르게 계산\n",
    "\n",
    "- 참고사이트(http://www.numpy.org) "
   ]
  },
  {
   "cell_type": "code",
   "execution_count": 1,
   "id": "71ae6727",
   "metadata": {},
   "outputs": [],
   "source": [
    "import numpy as np"
   ]
  },
  {
   "cell_type": "markdown",
   "id": "c28a3f31",
   "metadata": {},
   "source": [
    "## 1. 배열 생성하기\n",
    "- array(시퀀스객채) : 시퀀스데이터를 이용해 배열을 생성\n",
    "- arange(시작,끝,간격) : range를 이용해 출력되는값으로 배열생성\n",
    "- linspace(시작,끝,개수) : 시작부터 끝까지 동일한 간격으로 나눠 개수만큼의 요소를 가진 배열을 생설\n",
    "- ones() : 1로 가득 찬 배열을 생성\n",
    "- zeros() : 0으로 가득 찬 배열을 생성\n",
    "- eye(n) : n x n 의 단위행렬을 갖는 2차원 배열을 생설"
   ]
  },
  {
   "cell_type": "code",
   "execution_count": 3,
   "id": "d91aa997",
   "metadata": {},
   "outputs": [],
   "source": [
    "# type 확인 : type(arr)\n",
    "# shape 확인 : arr.shape\n",
    "# dim(차원) 확인 : arr.ndim"
   ]
  },
  {
   "cell_type": "code",
   "execution_count": 4,
   "id": "4ffbe7c3",
   "metadata": {},
   "outputs": [
    {
     "name": "stdout",
     "output_type": "stream",
     "text": [
      "[[1 2 3]\n",
      " [4 5 6]]\n",
      "(2, 3)\n",
      "<class 'numpy.ndarray'>\n",
      "2\n"
     ]
    }
   ],
   "source": [
    "a = np.array([[1,2,3],[4,5,6]])\n",
    "print(a)\n",
    "print(a.shape)\n",
    "print(type(a))\n",
    "print(a.ndim)"
   ]
  },
  {
   "cell_type": "code",
   "execution_count": 5,
   "id": "397cc333",
   "metadata": {},
   "outputs": [
    {
     "name": "stdout",
     "output_type": "stream",
     "text": [
      "[1 3 5 7 9]\n",
      "(5,)\n",
      "<class 'numpy.ndarray'>\n",
      "1\n"
     ]
    }
   ],
   "source": [
    "a = np.arange(1,10,2)\n",
    "print(a)\n",
    "print(a.shape)\n",
    "print(type(a))\n",
    "print(a.ndim)"
   ]
  },
  {
   "cell_type": "code",
   "execution_count": 6,
   "id": "27201f9b",
   "metadata": {},
   "outputs": [
    {
     "name": "stdout",
     "output_type": "stream",
     "text": [
      "[  1.  34.  67. 100.]\n",
      "(4,)\n",
      "<class 'numpy.ndarray'>\n",
      "1\n"
     ]
    }
   ],
   "source": [
    "a = np.linspace(1,100,4)\n",
    "print(a)\n",
    "print(a.shape)\n",
    "print(type(a))\n",
    "print(a.ndim)"
   ]
  },
  {
   "cell_type": "code",
   "execution_count": 7,
   "id": "7ea5cf5b",
   "metadata": {},
   "outputs": [
    {
     "name": "stdout",
     "output_type": "stream",
     "text": [
      "[[1. 1. 1.]\n",
      " [1. 1. 1.]]\n",
      "(2, 3)\n",
      "<class 'numpy.ndarray'>\n",
      "2\n"
     ]
    }
   ],
   "source": [
    "a = np.ones((2,3))\n",
    "print(a)\n",
    "print(a.shape)\n",
    "print(type(a))\n",
    "print(a.ndim)"
   ]
  },
  {
   "cell_type": "code",
   "execution_count": 8,
   "id": "39d7c0ce",
   "metadata": {},
   "outputs": [
    {
     "name": "stdout",
     "output_type": "stream",
     "text": [
      "[[0. 0. 0.]\n",
      " [0. 0. 0.]]\n",
      "(2, 3)\n",
      "<class 'numpy.ndarray'>\n",
      "2\n"
     ]
    }
   ],
   "source": [
    "a = np.zeros((2,3))\n",
    "print(a)\n",
    "print(a.shape)\n",
    "print(type(a))\n",
    "print(a.ndim)"
   ]
  },
  {
   "cell_type": "code",
   "execution_count": 9,
   "id": "6f787ab6",
   "metadata": {},
   "outputs": [
    {
     "name": "stdout",
     "output_type": "stream",
     "text": [
      "[[1. 0. 0.]\n",
      " [0. 1. 0.]\n",
      " [0. 0. 1.]]\n",
      "(3, 3)\n",
      "<class 'numpy.ndarray'>\n",
      "2\n"
     ]
    }
   ],
   "source": [
    "a = np.eye(3)\n",
    "print(a)\n",
    "print(a.shape)\n",
    "print(type(a))\n",
    "print(a.ndim)"
   ]
  },
  {
   "cell_type": "markdown",
   "id": "6192fa7f",
   "metadata": {},
   "source": [
    "### 1.1 배열의 데이터 타입\n",
    "- int : 정수\n",
    "- float : 실수\n",
    "- datetime : yyyy-mm-dd \n",
    "- uint : 정수"
   ]
  },
  {
   "cell_type": "code",
   "execution_count": 10,
   "id": "2ad05d36",
   "metadata": {},
   "outputs": [],
   "source": [
    "# 데이터타입확인:arr.dtype\n",
    "# 데이터타입변환 : arr.astype(변환할타입)"
   ]
  },
  {
   "cell_type": "code",
   "execution_count": 11,
   "id": "a74c6acc",
   "metadata": {},
   "outputs": [
    {
     "name": "stdout",
     "output_type": "stream",
     "text": [
      "float64 <U10\n"
     ]
    }
   ],
   "source": [
    "a = np.array([[1.,2.,3],[4,5,6]])\n",
    "b = np.array(['2005-05-01','2006-02-01'])\n",
    "print(a.dtype, b.dtype)"
   ]
  },
  {
   "cell_type": "code",
   "execution_count": 12,
   "id": "5ccfbe25",
   "metadata": {},
   "outputs": [
    {
     "name": "stdout",
     "output_type": "stream",
     "text": [
      "int32 datetime64[D]\n"
     ]
    }
   ],
   "source": [
    "a = a.astype(int)\n",
    "b = b.astype('datetime64')\n",
    "print(a.dtype, b.dtype)"
   ]
  },
  {
   "cell_type": "code",
   "execution_count": null,
   "id": "50d2fffa",
   "metadata": {},
   "outputs": [],
   "source": []
  },
  {
   "cell_type": "markdown",
   "id": "9c7a6ebd",
   "metadata": {},
   "source": [
    "## 2. 난수배열의 생성\n",
    "- rand(size) : size크기로 [0,1)사이의 실수 난수를 생성\n",
    "- randint(low,high,size) : [low,high)사이의 정수 난수를 생성 (low미지정 시 0으로)"
   ]
  },
  {
   "cell_type": "code",
   "execution_count": 13,
   "id": "85cfcc1e",
   "metadata": {},
   "outputs": [
    {
     "data": {
      "text/plain": [
       "array([[0.25743344, 0.06007866, 0.71113724],\n",
       "       [0.37339718, 0.13304791, 0.05579528]])"
      ]
     },
     "execution_count": 13,
     "metadata": {},
     "output_type": "execute_result"
    }
   ],
   "source": [
    "np.random.rand(2,3)"
   ]
  },
  {
   "cell_type": "code",
   "execution_count": 14,
   "id": "ffc2977d",
   "metadata": {},
   "outputs": [
    {
     "data": {
      "text/plain": [
       "array([7, 1, 6, 8])"
      ]
     },
     "execution_count": 14,
     "metadata": {},
     "output_type": "execute_result"
    }
   ],
   "source": [
    "np.random.randint(1,10,4)"
   ]
  },
  {
   "cell_type": "code",
   "execution_count": 15,
   "id": "5c4fc1e6",
   "metadata": {},
   "outputs": [
    {
     "data": {
      "text/plain": [
       "array([[8, 2, 4],\n",
       "       [4, 4, 6]])"
      ]
     },
     "execution_count": 15,
     "metadata": {},
     "output_type": "execute_result"
    }
   ],
   "source": [
    "np.random.randint(10,size=(2,3))"
   ]
  },
  {
   "cell_type": "code",
   "execution_count": null,
   "id": "ebfff016",
   "metadata": {},
   "outputs": [],
   "source": []
  },
  {
   "cell_type": "markdown",
   "id": "2756cf68",
   "metadata": {},
   "source": [
    "## 3.배열의 연산"
   ]
  },
  {
   "cell_type": "markdown",
   "id": "2d1d71ff",
   "metadata": {},
   "source": [
    "### 3.1 기본연산"
   ]
  },
  {
   "cell_type": "code",
   "execution_count": 2,
   "id": "5be2ec82",
   "metadata": {},
   "outputs": [],
   "source": [
    "arr1 = np.array([[1,2,3],[4,5,6]])\n",
    "arr2 = np.array([[7,8,9],[3,2,1]])"
   ]
  },
  {
   "cell_type": "code",
   "execution_count": 17,
   "id": "98901166",
   "metadata": {},
   "outputs": [
    {
     "data": {
      "text/plain": [
       "array([[ 8, 10, 12],\n",
       "       [ 7,  7,  7]])"
      ]
     },
     "execution_count": 17,
     "metadata": {},
     "output_type": "execute_result"
    }
   ],
   "source": [
    "# 덧셈\n",
    "arr1 + arr2"
   ]
  },
  {
   "cell_type": "code",
   "execution_count": 18,
   "id": "f3b16173",
   "metadata": {},
   "outputs": [
    {
     "data": {
      "text/plain": [
       "array([[-6, -6, -6],\n",
       "       [ 1,  3,  5]])"
      ]
     },
     "execution_count": 18,
     "metadata": {},
     "output_type": "execute_result"
    }
   ],
   "source": [
    "#뺄셈\n",
    "arr1 - arr2"
   ]
  },
  {
   "cell_type": "code",
   "execution_count": 19,
   "id": "4b521adf",
   "metadata": {},
   "outputs": [
    {
     "data": {
      "text/plain": [
       "array([[ 7, 16, 27],\n",
       "       [12, 10,  6]])"
      ]
     },
     "execution_count": 19,
     "metadata": {},
     "output_type": "execute_result"
    }
   ],
   "source": [
    "# 곱셈 1\n",
    "arr1 * arr2"
   ]
  },
  {
   "cell_type": "code",
   "execution_count": 20,
   "id": "4392d69d",
   "metadata": {},
   "outputs": [
    {
     "data": {
      "text/plain": [
       "array([[ 3,  6,  9],\n",
       "       [12, 15, 18]])"
      ]
     },
     "execution_count": 20,
     "metadata": {},
     "output_type": "execute_result"
    }
   ],
   "source": [
    "# 곱셉 2\n",
    "arr1 * 3"
   ]
  },
  {
   "cell_type": "code",
   "execution_count": 21,
   "id": "68ec96a9",
   "metadata": {},
   "outputs": [
    {
     "data": {
      "text/plain": [
       "array([[0.14285714, 0.25      , 0.33333333],\n",
       "       [1.33333333, 2.5       , 6.        ]])"
      ]
     },
     "execution_count": 21,
     "metadata": {},
     "output_type": "execute_result"
    }
   ],
   "source": [
    "#나눗셈\n",
    "arr1/arr2"
   ]
  },
  {
   "cell_type": "code",
   "execution_count": 4,
   "id": "e4ccb212",
   "metadata": {},
   "outputs": [
    {
     "ename": "ValueError",
     "evalue": "operands could not be broadcast together with shapes (2,3) (2,2) ",
     "output_type": "error",
     "traceback": [
      "\u001b[1;31m---------------------------------------------------------------------------\u001b[0m",
      "\u001b[1;31mValueError\u001b[0m                                Traceback (most recent call last)",
      "Input \u001b[1;32mIn [4]\u001b[0m, in \u001b[0;36m<cell line: 2>\u001b[1;34m()\u001b[0m\n\u001b[0;32m      1\u001b[0m arr3 \u001b[38;5;241m=\u001b[39m np\u001b[38;5;241m.\u001b[39marray([[\u001b[38;5;241m1\u001b[39m,\u001b[38;5;241m2\u001b[39m],[\u001b[38;5;241m4\u001b[39m,\u001b[38;5;241m5\u001b[39m]])\n\u001b[1;32m----> 2\u001b[0m \u001b[43marr1\u001b[49m\u001b[38;5;241;43m+\u001b[39;49m\u001b[43marr3\u001b[49m\n",
      "\u001b[1;31mValueError\u001b[0m: operands could not be broadcast together with shapes (2,3) (2,2) "
     ]
    }
   ],
   "source": [
    "# array는 크기가 다르면 연산이 안됨\n",
    "arr3 = np.array([[1,2],[4,5]])\n",
    "arr1+arr3"
   ]
  },
  {
   "cell_type": "markdown",
   "id": "9adec34d",
   "metadata": {},
   "source": [
    "### 3.2 통계연산\n",
    "- sum() : 합\n",
    "- mean() : 평균\n",
    "- std() : 표준편차\n",
    "- var() : 분산\n",
    "- min() : 최소값\n",
    "- max() : 최대값\n",
    "- cusum() : 누적합\n",
    "- cuprod : 누적곱"
   ]
  },
  {
   "attachments": {
    "image.png": {
     "image/png": "[encoded data removed]"
    }
   },
   "cell_type": "markdown",
   "id": "f5774cfd",
   "metadata": {},
   "source": [
    "#### 3.2.1 행과 열의 이해 \n",
    "![image.png](attachment:image.png)\n",
    "- 0번축 : 행 / 1번축 : 열\n",
    "- 0의 연산 : 행(세로) 방향으로의 연산을 실시\n",
    "- 1의 연산 : 열(가로) 방향으로의 연산을 실시"
   ]
  },
  {
   "cell_type": "code",
   "execution_count": 22,
   "id": "4cfbd8be",
   "metadata": {},
   "outputs": [
    {
     "data": {
      "text/plain": [
       "array([[1, 2, 3],\n",
       "       [4, 5, 6]])"
      ]
     },
     "execution_count": 22,
     "metadata": {},
     "output_type": "execute_result"
    }
   ],
   "source": [
    "arr = np.array([[1, 2, 3], [4, 5, 6]])\n",
    "arr"
   ]
  },
  {
   "cell_type": "code",
   "execution_count": 23,
   "id": "2b3ec1a0",
   "metadata": {},
   "outputs": [
    {
     "name": "stdout",
     "output_type": "stream",
     "text": [
      "21 / [5 7 9] / [ 6 15]\n"
     ]
    }
   ],
   "source": [
    "# sum()\n",
    "print(arr.sum(),'/',arr.sum(0),'/',arr.sum(1))\n",
    "# 전체중, 같은행중, 같은열중"
   ]
  },
  {
   "cell_type": "code",
   "execution_count": 24,
   "id": "8cf34310",
   "metadata": {},
   "outputs": [
    {
     "name": "stdout",
     "output_type": "stream",
     "text": [
      "3.5 / [2.5 3.5 4.5] / [2. 5.]\n"
     ]
    }
   ],
   "source": [
    "# mean()\n",
    "print(arr.mean(),'/',arr.mean(0),'/',arr.mean(1))\n",
    "# 전체중, 같은행중, 같은열중"
   ]
  },
  {
   "cell_type": "markdown",
   "id": "2c911dae",
   "metadata": {},
   "source": [
    "### 3.3 행렬연산\n",
    "- 행렬곱 : A.dot(B) | np.dot(A,B)\n",
    "- 전치행렬 : A.T | np.T(A)\n",
    "- 역행렬 : np.linalg.inv(A)\n",
    "- 행렬식 : np.linalg.det(A)"
   ]
  },
  {
   "cell_type": "code",
   "execution_count": 32,
   "id": "a038a547",
   "metadata": {},
   "outputs": [],
   "source": [
    "arr1 = np.array([[1,2,3],[4,5,6]])\n",
    "arr2 = np.array([[7,8],[3,2],[1,9]])"
   ]
  },
  {
   "cell_type": "code",
   "execution_count": 35,
   "id": "08a3d1be",
   "metadata": {},
   "outputs": [
    {
     "data": {
      "text/plain": [
       "array([[16, 39],\n",
       "       [49, 96]])"
      ]
     },
     "execution_count": 35,
     "metadata": {},
     "output_type": "execute_result"
    }
   ],
   "source": [
    "arr1.dot(arr2) # A의 열과 B의 행의 크기가 같아야함"
   ]
  },
  {
   "cell_type": "code",
   "execution_count": 37,
   "id": "91f5fc7d",
   "metadata": {},
   "outputs": [
    {
     "data": {
      "text/plain": [
       "array([[1, 4],\n",
       "       [2, 5],\n",
       "       [3, 6]])"
      ]
     },
     "execution_count": 37,
     "metadata": {},
     "output_type": "execute_result"
    }
   ],
   "source": [
    "arr1.T"
   ]
  },
  {
   "cell_type": "code",
   "execution_count": 45,
   "id": "2924d469",
   "metadata": {},
   "outputs": [
    {
     "name": "stdout",
     "output_type": "stream",
     "text": [
      "[[-0.  1.]\n",
      " [ 2.  3.]] \n",
      " -0.49999999999999994\n"
     ]
    }
   ],
   "source": [
    "a = np.array([[-1.5,0.5],[1,0]])\n",
    "print(np.linalg.inv(a),'\\n',np.linalg.det(a))"
   ]
  },
  {
   "cell_type": "markdown",
   "id": "7e4a2bb7",
   "metadata": {},
   "source": [
    "## 4. 인덱싱과 슬라이싱"
   ]
  },
  {
   "cell_type": "markdown",
   "id": "5c846981",
   "metadata": {},
   "source": [
    "### 4.1 배열의 shape"
   ]
  },
  {
   "cell_type": "code",
   "execution_count": null,
   "id": "178897ad",
   "metadata": {},
   "outputs": [],
   "source": [
    "# reshape : 배열의 shape을 변경해줌"
   ]
  },
  {
   "cell_type": "code",
   "execution_count": 61,
   "id": "3f41bab2",
   "metadata": {},
   "outputs": [
    {
     "name": "stdout",
     "output_type": "stream",
     "text": [
      "[1 2 3] (3,)\n"
     ]
    }
   ],
   "source": [
    "a = np.array([1,2,3])\n",
    "print(a, a.shape)"
   ]
  },
  {
   "cell_type": "code",
   "execution_count": 63,
   "id": "dc6abc39",
   "metadata": {},
   "outputs": [
    {
     "name": "stdout",
     "output_type": "stream",
     "text": [
      "[[1 2]\n",
      " [3 4]] (2, 2)\n"
     ]
    }
   ],
   "source": [
    "a = np.array([[1,2],[3,4]])\n",
    "print(a, a.shape)"
   ]
  },
  {
   "cell_type": "code",
   "execution_count": 67,
   "id": "2c238442",
   "metadata": {
    "scrolled": true
   },
   "outputs": [
    {
     "name": "stdout",
     "output_type": "stream",
     "text": [
      "[[[ 1  2  3  4]\n",
      "  [ 9  9  9  9]\n",
      "  [10 10 10 10]]\n",
      "\n",
      " [[ 3  4  5  6]\n",
      "  [ 5  6  5  6]\n",
      "  [10 10 10 10]]] (2, 3, 4)\n"
     ]
    }
   ],
   "source": [
    "a = np.array([[[1,2,3,4],[9,9,9,9],[10,10,10,10]]\n",
    "              ,[[3,4,5,6],[5,6,5,6],[10,10,10,10]]])\n",
    "print(a, a.shape)"
   ]
  },
  {
   "cell_type": "code",
   "execution_count": 83,
   "id": "352a1109",
   "metadata": {},
   "outputs": [
    {
     "name": "stdout",
     "output_type": "stream",
     "text": [
      "[0 1 2 3 4 5 6 7 8 9] (10,)\n",
      "[[0 1 2 3 4]\n",
      " [5 6 7 8 9]] (2, 5)\n"
     ]
    }
   ],
   "source": [
    "a = np.arange(10)\n",
    "b = a.reshape(2,5)\n",
    "print(a,a.shape)\n",
    "print(b,b.shape)"
   ]
  },
  {
   "cell_type": "markdown",
   "id": "4d8ff741",
   "metadata": {},
   "source": [
    "### 4.2 인덱싱"
   ]
  },
  {
   "cell_type": "code",
   "execution_count": 71,
   "id": "5295f764",
   "metadata": {},
   "outputs": [
    {
     "data": {
      "text/plain": [
       "3"
      ]
     },
     "execution_count": 71,
     "metadata": {},
     "output_type": "execute_result"
    }
   ],
   "source": [
    "# 3 색인\n",
    "a = np.array([1,2,3,4])\n",
    "a[2]"
   ]
  },
  {
   "cell_type": "code",
   "execution_count": 74,
   "id": "61c0b8f7",
   "metadata": {},
   "outputs": [
    {
     "data": {
      "text/plain": [
       "7"
      ]
     },
     "execution_count": 74,
     "metadata": {},
     "output_type": "execute_result"
    }
   ],
   "source": [
    "# 7 색인 \n",
    "a = np.array([[1,2,3,4],[5,6,7,8]])\n",
    "a[1,2]"
   ]
  },
  {
   "cell_type": "code",
   "execution_count": 78,
   "id": "e69adb33",
   "metadata": {},
   "outputs": [
    {
     "data": {
      "text/plain": [
       "5"
      ]
     },
     "execution_count": 78,
     "metadata": {},
     "output_type": "execute_result"
    }
   ],
   "source": [
    "# 5 색인\n",
    "a = np.array([[[1,2],[3,4]],[[5,6],[7,8]]])\n",
    "a[1,0,0]"
   ]
  },
  {
   "cell_type": "markdown",
   "id": "ca294157",
   "metadata": {},
   "source": [
    "### 4.3 슬라이싱"
   ]
  },
  {
   "cell_type": "code",
   "execution_count": 79,
   "id": "aafcdcd5",
   "metadata": {},
   "outputs": [
    {
     "data": {
      "text/plain": [
       "array([2, 3, 4, 5])"
      ]
     },
     "execution_count": 79,
     "metadata": {},
     "output_type": "execute_result"
    }
   ],
   "source": [
    "# [2, 3, 4, 5]\n",
    "a = np.array([1,2,3,4,5,6,7])\n",
    "a[1:5]"
   ]
  },
  {
   "cell_type": "code",
   "execution_count": 86,
   "id": "6e2097fb",
   "metadata": {},
   "outputs": [
    {
     "data": {
      "text/plain": [
       "array([[4, 5],\n",
       "       [7, 8]])"
      ]
     },
     "execution_count": 86,
     "metadata": {},
     "output_type": "execute_result"
    }
   ],
   "source": [
    "# [[4, 5],[7, 8]]\n",
    "a =  np.array([[1, 2, 3], [4, 5, 6], [7, 8, 9]])\n",
    "a[1:, 0:2]"
   ]
  },
  {
   "cell_type": "code",
   "execution_count": 92,
   "id": "c1f09abb",
   "metadata": {},
   "outputs": [
    {
     "name": "stdout",
     "output_type": "stream",
     "text": [
      "[2 5] (2,)\n",
      "[[2]\n",
      " [5]] (2, 1)\n"
     ]
    }
   ],
   "source": [
    "# 색인을 사용할 때와 슬라이싱을 사용할 때 차이\n",
    "print(a[:2, 1], a[:2, 1].shape) # 1차원으로\n",
    "print(a[:2, 1:2], a[:2, 1:2].shape) # 2차원으로 "
   ]
  },
  {
   "cell_type": "code",
   "execution_count": 98,
   "id": "96cc0727",
   "metadata": {},
   "outputs": [
    {
     "data": {
      "text/plain": [
       "array([[[1, 2],\n",
       "        [3, 4]],\n",
       "\n",
       "       [[5, 6],\n",
       "        [7, 8]]])"
      ]
     },
     "execution_count": 98,
     "metadata": {},
     "output_type": "execute_result"
    }
   ],
   "source": [
    "# [[[1,2],[3,4]],[[5,6],[7,8]]]\n",
    "a = np.array([[[1,2,9],[3,4,9],[10,10,10]],[[5,6,9],[7,8,9],[10,10,10]]])\n",
    "a[:,:2,:2]"
   ]
  },
  {
   "cell_type": "markdown",
   "id": "063dbe42",
   "metadata": {},
   "source": [
    "### 4.4 불리안 색인\n",
    " - 조건에 True로 만족하는 값만 출력 "
   ]
  },
  {
   "cell_type": "code",
   "execution_count": 110,
   "id": "8edb4452",
   "metadata": {
    "scrolled": true
   },
   "outputs": [
    {
     "name": "stdout",
     "output_type": "stream",
     "text": [
      "[[ True False False False]\n",
      " [False False False  True]\n",
      " [False False False False]\n",
      " [False False  True False]\n",
      " [False False False False]\n",
      " [False  True False False]\n",
      " [False False False False]]\n"
     ]
    },
    {
     "data": {
      "text/plain": [
       "array([ 0,  7, 14, 21])"
      ]
     },
     "execution_count": 110,
     "metadata": {},
     "output_type": "execute_result"
    }
   ],
   "source": [
    "# 7의 배수만 출력\n",
    "a = np.arange(28).reshape(7, 4)\n",
    "print(a%7==0)\n",
    "a[a%7==0]"
   ]
  },
  {
   "cell_type": "code",
   "execution_count": 118,
   "id": "8270b003",
   "metadata": {},
   "outputs": [
    {
     "name": "stdout",
     "output_type": "stream",
     "text": [
      "[ True False False  True False False False]\n",
      "[[ 0  1  2  3]\n",
      " [12 13 14 15]]\n"
     ]
    }
   ],
   "source": [
    "# Bob과 같은 위치의 값만 출력\n",
    "a = np.arange(28).reshape(7, 4)\n",
    "b = np.array(['Bob', 'Joe', 'Will', 'Bob', 'Will', 'Joe', 'Joe'])\n",
    "print(b == 'Bob')\n",
    "print(a[b == 'Bob']) # 0,3번째만 True이므로 0,3행만 색인됨"
   ]
  },
  {
   "cell_type": "code",
   "execution_count": null,
   "id": "be5dbf1e",
   "metadata": {},
   "outputs": [],
   "source": []
  }
 ],
 "metadata": {
  "kernelspec": {
   "display_name": "Python 3 (ipykernel)",
   "language": "python",
   "name": "python3"
  },
  "language_info": {
   "codemirror_mode": {
    "name": "ipython",
    "version": 3
   },
   "file_extension": ".py",
   "mimetype": "text/x-python",
   "name": "python",
   "nbconvert_exporter": "python",
   "pygments_lexer": "ipython3",
   "version": "3.9.12"
  }
 },
 "nbformat": 4,
 "nbformat_minor": 5
}
