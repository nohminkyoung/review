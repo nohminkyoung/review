{
 "cells": [
  {
   "cell_type": "markdown",
   "id": "3812937e",
   "metadata": {},
   "source": [
    "# Markdown 모드 활용하기\n",
    "###### google에 markdown cheat sheet 참고하기"
   ]
  },
  {
   "cell_type": "markdown",
   "id": "94ccd04a",
   "metadata": {},
   "source": [
    "- 인터넷 사이트 불러오기 :  [title](https://www.example.com)\n",
    "- 이미지 불러오기 : ![alt text](image.jpg)  or 캡쳐 후 붙여넣기"
   ]
  },
  {
   "cell_type": "code",
   "execution_count": null,
   "id": "d6af3107",
   "metadata": {},
   "outputs": [],
   "source": []
  },
  {
   "cell_type": "markdown",
   "id": "13ae2d10",
   "metadata": {},
   "source": [
    "# 탭 자동 완성기능"
   ]
  },
  {
   "cell_type": "markdown",
   "id": "9ef7fb71",
   "metadata": {},
   "source": [
    " - score.<tab키> # 리스트 객체에서 제공하는 여러 메서드들이 보여짐\n",
    " - an_<tab 키>  # 앞서 선언했던 변수들 중 an_로 시작하는것들을 보여줌"
   ]
  },
  {
   "cell_type": "code",
   "execution_count": null,
   "id": "fb02e544",
   "metadata": {},
   "outputs": [],
   "source": []
  },
  {
   "cell_type": "markdown",
   "id": "91bfccef",
   "metadata": {},
   "source": [
    "# 도움말(자기 관찰)"
   ]
  },
  {
   "cell_type": "markdown",
   "id": "f8b9c36c",
   "metadata": {},
   "source": [
    "- ?를 사용하여 자체의 성질 및 설명을 확인\n",
    "- 만든 함수의 설명을 추가하고 싶다면 \"\"\" \"\"\" 사이에 내용을 입력\n"
   ]
  },
  {
   "cell_type": "markdown",
   "id": "6b81192d",
   "metadata": {},
   "source": [
    "# 매직명령어\n",
    "\n",
    "- %run : 파이썬 성질의 파일을 실행함\n",
    "- %pwd : 현재 실행하고있는 파일의 저장위치를 알려줌\n",
    "- %time : 뒤에 나오는 식의 실행시간을 알려줌\n",
    "- %timeit : time을 여러번 시행, 그것들의 평균값을 알려줌\n",
    "- %magic : 매직명령어들에 어떤것들이 있는지 알려줌"
   ]
  },
  {
   "cell_type": "code",
   "execution_count": null,
   "id": "f0f1656c",
   "metadata": {},
   "outputs": [],
   "source": []
  },
  {
   "cell_type": "markdown",
   "id": "77889bdd",
   "metadata": {},
   "source": [
    "# print(___ ,___, sep = ) / print(___ ,___, end = )"
   ]
  },
  {
   "cell_type": "markdown",
   "id": "939f6291",
   "metadata": {},
   "source": [
    "- sep = 출력 될 문자들 사이에 입력할 문자, 숫자등을 통일해줌\n",
    "- end = 출력 끝에 나타날 문자, 숫자를 정해줌 (미입력 시 \\n이 일괄적용됨)"
   ]
  },
  {
   "cell_type": "code",
   "execution_count": null,
   "id": "f7a4a7cc",
   "metadata": {},
   "outputs": [],
   "source": []
  },
  {
   "cell_type": "markdown",
   "id": "e9388f68",
   "metadata": {},
   "source": [
    "**요소 바꾸기**\n",
    "- (바꾸기)시퀀스객체[시작인덱스:끝인덱스] = 시퀀스객체\n",
    "- (지우기)del 시퀀스 객체[시작인덱스:끝인덱스]\n",
    "- tuple, range, str은 슬라이스 범위에 요소를 할당할 수 없음"
   ]
  },
  {
   "cell_type": "code",
   "execution_count": null,
   "id": "f4ce57e3",
   "metadata": {},
   "outputs": [],
   "source": []
  },
  {
   "cell_type": "markdown",
   "id": "4606edd3",
   "metadata": {},
   "source": [
    "# 딕셔너리\n",
    "\n",
    "- 실제 중복된 키 값을 색인했을때 뒤에 있는 값이 조회가 됨\n",
    "\n",
    "- 딕셔너리의 키 : 문자열, 정수, 실수, 불, 튜플 등은 사용할 수 있음\n",
    "- 딕셔너리의 값 : 리스트, 딕셔너리 포함해서 모든 자료형을 사용할 수 있음\n"
   ]
  },
  {
   "cell_type": "markdown",
   "id": "d16f3218",
   "metadata": {},
   "source": [
    "**dict()로 딕셔너리 만들기**\n",
    "\n",
    "- 딕셔너리 = dict(zip([키1, 키2], [값1, 값2]))\n",
    "- 딕셔너리 = dict([(키1, 값1), (키2, 값2"
   ]
  },
  {
   "cell_type": "code",
   "execution_count": null,
   "id": "93fc7030",
   "metadata": {},
   "outputs": [],
   "source": []
  },
  {
   "cell_type": "markdown",
   "id": "aa51abed",
   "metadata": {},
   "source": [
    "# 반복문"
   ]
  },
  {
   "cell_type": "markdown",
   "id": "875b40cb",
   "metadata": {},
   "source": [
    "- while\n",
    "- for \n",
    "- enumerate : 인덱스, 값 모두 출력해줌 "
   ]
  },
  {
   "cell_type": "code",
   "execution_count": null,
   "id": "7f8e1921",
   "metadata": {},
   "outputs": [],
   "source": []
  },
  {
   "cell_type": "code",
   "execution_count": null,
   "id": "820535ec",
   "metadata": {},
   "outputs": [],
   "source": []
  },
  {
   "cell_type": "markdown",
   "id": "d33be00c",
   "metadata": {},
   "source": [
    "# 리스트 응용하기"
   ]
  },
  {
   "cell_type": "markdown",
   "id": "d7eff2fb",
   "metadata": {},
   "source": [
    "- 리스트.append(요소) : 리스트 맨 마지막에 요소를 추가\n",
    "\n",
    "- 리스트.extend(추가리스트) : 리스트에 추가 리스트 내용을 확장 -> 후 저장됨\n",
    "\n",
    "- 리스트.insert(인덱스,요소) : 특정 인덱스에 요소를 추가 (1에 추가시 마지막에서 두번째 자리에 생김)\n",
    "\n",
    "- 리스트.pop(인덱스) : 특정 인덱스의 요소를 삭제, ()면 마지막 요소 삭제\n",
    "\n",
    "- 리스트.remove(요소) : 값을 찾아서 삭제함\n",
    "\n",
    "- 리스트.reverse() : 리스트 내 요소의 순서를 뒤집음\n",
    "\n",
    "- 리스트.sort() : 리스트의 요소를 정렬함(오름차순 기본값)\n",
    "\n",
    "- 리스트.clear() : 리스트의 모든 요소를 삭제함\n",
    "\n",
    "- map(적용할 내용,리스트) : 리스트의 모든 요소에 일괄적으로 적용함\n"
   ]
  },
  {
   "cell_type": "markdown",
   "id": "1bb59b8a",
   "metadata": {},
   "source": [
    "- insert(len(리스트), 요소) : 리스트의 맨 끝에 요소를 추가\n",
    "  -> -1 위치로 지정할 시 맨 뒤에서 두번째 자리에 요소 추가됨"
   ]
  },
  {
   "cell_type": "markdown",
   "id": "e4f6f7b8",
   "metadata": {},
   "source": [
    "- a.sort(reverse=True) : 내림차순으로 정렬"
   ]
  },
  {
   "cell_type": "markdown",
   "id": "33083262",
   "metadata": {},
   "source": [
    "- = : 완전 복제 , a에 추가한건 b에도 추가됨\n",
    "- copy() : 복제 , a에 추가한거 b에는 추가 안됨\n",
    "- deepcopy() : copy에서 읽히지 않는 2차원 리스트까지 완벽히 복제됨 "
   ]
  },
  {
   "cell_type": "markdown",
   "id": "53613c31",
   "metadata": {},
   "source": [
    "-  반복문 응용 : 식 for 변수 in 리스트 if 조건식"
   ]
  },
  {
   "cell_type": "code",
   "execution_count": null,
   "id": "8651aaa4",
   "metadata": {},
   "outputs": [],
   "source": []
  },
  {
   "cell_type": "markdown",
   "id": "034a7704",
   "metadata": {},
   "source": [
    "# 튜플 응용하기"
   ]
  },
  {
   "cell_type": "markdown",
   "id": "8a2a7dbe",
   "metadata": {},
   "source": [
    "- index(값) : 특정값의 인덱스 구하기\n",
    "- count(값) : 특정값의 개수 구하기"
   ]
  },
  {
   "cell_type": "code",
   "execution_count": null,
   "id": "ebd2625e",
   "metadata": {},
   "outputs": [],
   "source": []
  },
  {
   "cell_type": "markdown",
   "id": "049822b2",
   "metadata": {},
   "source": [
    "# 문자열 응용하기"
   ]
  },
  {
   "cell_type": "markdown",
   "id": "5edfa874",
   "metadata": {},
   "source": [
    "- replace('바꿀 문자열', '새문자열') : 문자열 바꾸기\n",
    "- split('기준문자열') : 문자열 분리하기\n",
    "- '구분자'.join(리스트) : 리스트를 구분자를 기준으로 나눠진 문자열로 전환\n",
    "- index('찾을 문자열') : 문자열에서 특정 문자열을 찾아서 익덱스를 반환하고, 없으면 에러\n",
    "- find('찾을 문자열') : 문자열에서 특정 문자열을 찾아서 인덱스를 반환하고, 없으면 -1 반환\n",
    "- count('문자열') : 현재 문자열에서 특정 문자열이 몇번 나오는지 알아냄"
   ]
  },
  {
   "cell_type": "markdown",
   "id": "0a550915",
   "metadata": {},
   "source": [
    "- upper() : 대문자로 바꿈\n",
    "- lower() : 소문자로 바꿈\n",
    "- strip() : 문자열 양쪽에 있는 연속된 모든 공백을 삭제\n",
    "- lstrip() : 문자열 왼쪽에 있는 연속된 모든 공백을 삭제\n",
    "- rstrip() : 문자열 오른쪽에 있는 연속된 모든 공백을 삭제"
   ]
  },
  {
   "cell_type": "code",
   "execution_count": null,
   "id": "87219d2c",
   "metadata": {},
   "outputs": [],
   "source": []
  },
  {
   "cell_type": "markdown",
   "id": "90b83814",
   "metadata": {},
   "source": [
    "# 서식 지정자"
   ]
  },
  {
   "cell_type": "markdown",
   "id": "01ed540a",
   "metadata": {},
   "source": [
    "- %s : 문자열\n",
    "- %d : 정수\n",
    "- %f : 실수 \n",
    "- %.xf : x자리수로 표현되는 실수"
   ]
  },
  {
   "cell_type": "code",
   "execution_count": null,
   "id": "c9e554de",
   "metadata": {},
   "outputs": [],
   "source": []
  },
  {
   "cell_type": "markdown",
   "id": "0db1f34d",
   "metadata": {},
   "source": [
    "# 딕셔너리 응용하기"
   ]
  },
  {
   "cell_type": "markdown",
   "id": "c7f4185f",
   "metadata": {},
   "source": [
    "- setdefault(키,값) : 키-값 쌍 추가\n",
    "- update({키:값,키:값 ...) : 키의 값 수정, 키가 없으면 키-값 쌍 추가\n",
    "- pop(키) : 특정 키-값 쌍을 삭제한 뒤 삭제한 값을 반환\n",
    "- pop(키, 기본값) : 키가 없을 때 기본값을 반환\n",
    "- clear() : 딕셔너리의 모든 키-값 쌍을 삭제    \n",
    "- get(키) : 특정 키의 값을 가져옴\n",
    "- get(키, 기본값) : 키가 없을 때 기본값을 반환"
   ]
  },
  {
   "cell_type": "markdown",
   "id": "ba791bd7",
   "metadata": {},
   "source": [
    "- items() : 키-값 쌍을 모두 가져옴\n",
    "- keys() : 키를 모두 가져옴\n",
    "- values() : 값을 모두 "
   ]
  },
  {
   "cell_type": "code",
   "execution_count": null,
   "id": "c1e8194b",
   "metadata": {},
   "outputs": [],
   "source": []
  },
  {
   "cell_type": "markdown",
   "id": "63314015",
   "metadata": {},
   "source": [
    "# 세트\n",
    "- 세트 = {값1, 값2, 값3}\n",
    "-  세트는 중복이 없고(unique한 원소), 순서가 없음"
   ]
  },
  {
   "cell_type": "code",
   "execution_count": null,
   "id": "331864ba",
   "metadata": {},
   "outputs": [],
   "source": []
  },
  {
   "cell_type": "code",
   "execution_count": null,
   "id": "004903d0",
   "metadata": {},
   "outputs": [],
   "source": []
  },
  {
   "cell_type": "markdown",
   "id": "48961ae1",
   "metadata": {},
   "source": [
    "# 파일 사용하기"
   ]
  },
  {
   "cell_type": "markdown",
   "id": "37f8ab68",
   "metadata": {},
   "source": [
    "**파일 만들기**\n",
    "\n",
    "- 파일객체 = open(\"파일이름\", \"파일모드\") # 쓰기는 'w'\n",
    "- 파일객체.write(\"문자열\")\n",
    "- 파일객체.close"
   ]
  },
  {
   "cell_type": "markdown",
   "id": "917fe6a0",
   "metadata": {},
   "source": [
    "**파일 읽기**\n",
    "\n",
    "- 파일객체 = open(\"파일이름\", \"파일모드\") #읽기는'r'\n",
    "- 변수 = 파일객체.read()\n",
    "- 파일객체.close()"
   ]
  },
  {
   "cell_type": "markdown",
   "id": "c1ea8257",
   "metadata": {},
   "source": [
    "**open, close를 한번에**\n",
    "\n",
    "```\n",
    "with open(\"파일이름\", \"파일모드\") as 파일객체:\n",
    "    코드\n",
    "```"
   ]
  },
  {
   "cell_type": "markdown",
   "id": "4feb545e",
   "metadata": {},
   "source": [
    "- writelines : 여러라인을 쓸 수 있음\n",
    "- file.read() : 파일에 있는 모든 데이터를 읽음 --> 하나의 리스트 요소로 반환\n",
    "- file.readline() : 한줄로 읽은 문자열을 반환  --> 첫번째의 요소만 출력 \n",
    "- file.readlines() : 라인별로 읽은 다중의 문자열을 리스트 형태로 반환"
   ]
  },
  {
   "cell_type": "code",
   "execution_count": 8,
   "id": "3bd99c5e",
   "metadata": {},
   "outputs": [],
   "source": [
    "name = \"James\" # names : 파이썬 문자열 객체\n",
    "age = 17 # age : 파이썬 정수 객체\n",
    "scores = {\"korean\":90, \"english\":80} # 파이썬 딕셔너리 객체\n",
    "\n",
    "import pickle\n",
    "\n",
    "with open(\"student.pkl\", \"wb\") as file: # wb : 2진 객체로 입력\n",
    "    # pickle.dump(객체명, 파일객체)\n",
    "    pickle.dump(name, file)\n",
    "    pickle.dump(age, file)\n",
    "    pickle.dump(scores, file)\n",
    "    \n",
    "    # 각각의 변수에 값을 입력해놓는다고 생각하면 편할 듯\n",
    "    # 파일이 생성되지는 않아"
   ]
  },
  {
   "cell_type": "code",
   "execution_count": 9,
   "id": "d095a78e",
   "metadata": {},
   "outputs": [],
   "source": [
    "with open(\"student.pkl\", \"rb\") as file:  # rb : 2진 객체 읽기\n",
    "    # 변수 = pickle.load(파일객체)\n",
    "    loaded_name = pickle.load(file)\n",
    "    loaded_age = pickle.load(file)\n",
    "    loaded_scores = pickle.load(file)"
   ]
  },
  {
   "cell_type": "code",
   "execution_count": 11,
   "id": "0a584361",
   "metadata": {},
   "outputs": [
    {
     "name": "stdout",
     "output_type": "stream",
     "text": [
      "James\n",
      "17\n",
      "{'korean': 90, 'english': 80}\n"
     ]
    }
   ],
   "source": [
    "print(loaded_name)\n",
    "print(loaded_age)\n",
    "print(loaded_scores)"
   ]
  },
  {
   "cell_type": "code",
   "execution_count": null,
   "id": "de349114",
   "metadata": {},
   "outputs": [],
   "source": []
  },
  {
   "cell_type": "code",
   "execution_count": null,
   "id": "b04edc45",
   "metadata": {},
   "outputs": [],
   "source": []
  },
  {
   "cell_type": "markdown",
   "id": "b1226dd8",
   "metadata": {},
   "source": [
    "# 위치 인수와 키워드 인수"
   ]
  },
  {
   "cell_type": "code",
   "execution_count": 12,
   "id": "d78e4388",
   "metadata": {},
   "outputs": [],
   "source": [
    "# 위치 인수 함수\n",
    "def print_numbers(a, b, c):\n",
    "    print(a)\n",
    "    print(b)\n",
    "    print(c)"
   ]
  },
  {
   "cell_type": "code",
   "execution_count": 13,
   "id": "11d92a73",
   "metadata": {},
   "outputs": [],
   "source": [
    "# 가변 인수 함수  ---> *가 붙으면 넣을 수 있는 변수의 개수 무한정\n",
    "#                      (그래서 리스트가능)\n",
    "def print_numbers(*args):\n",
    "    for arg in args:\n",
    "        print(arg)"
   ]
  },
  {
   "cell_type": "code",
   "execution_count": 14,
   "id": "a89e1d7e",
   "metadata": {
    "collapsed": true
   },
   "outputs": [
    {
     "ename": "NameError",
     "evalue": "name 'personal_info' is not defined",
     "output_type": "error",
     "traceback": [
      "\u001b[1;31m---------------------------------------------------------------------------\u001b[0m",
      "\u001b[1;31mNameError\u001b[0m                                 Traceback (most recent call last)",
      "Input \u001b[1;32mIn [14]\u001b[0m, in \u001b[0;36m<cell line: 5>\u001b[1;34m()\u001b[0m\n\u001b[0;32m      1\u001b[0m \u001b[38;5;66;03m#가변인수함수에 딕셔너리를 쓰고싶을 떄\u001b[39;00m\n\u001b[0;32m      2\u001b[0m \n\u001b[0;32m      3\u001b[0m \u001b[38;5;66;03m# 키워드 인수로 호출할 때 딕셔너리를 사용하는 경우\u001b[39;00m\n\u001b[0;32m      4\u001b[0m d \u001b[38;5;241m=\u001b[39m {\u001b[38;5;124m\"\u001b[39m\u001b[38;5;124mname\u001b[39m\u001b[38;5;124m\"\u001b[39m:\u001b[38;5;124m\"\u001b[39m\u001b[38;5;124m장경희\u001b[39m\u001b[38;5;124m\"\u001b[39m, \u001b[38;5;124m\"\u001b[39m\u001b[38;5;124mage\u001b[39m\u001b[38;5;124m\"\u001b[39m:\u001b[38;5;241m45\u001b[39m, \u001b[38;5;124m\"\u001b[39m\u001b[38;5;124maddress\u001b[39m\u001b[38;5;124m\"\u001b[39m:\u001b[38;5;124m\"\u001b[39m\u001b[38;5;124m인수동\u001b[39m\u001b[38;5;124m\"\u001b[39m}\n\u001b[1;32m----> 5\u001b[0m \u001b[43mpersonal_info\u001b[49m(\u001b[38;5;241m*\u001b[39m\u001b[38;5;241m*\u001b[39md)\n",
      "\u001b[1;31mNameError\u001b[0m: name 'personal_info' is not defined"
     ]
    }
   ],
   "source": [
    "#가변인수함수에 딕셔너리를 쓰고싶을 떄\n",
    "\n",
    "# 키워드 인수로 호출할 때 딕셔너리를 사용하는 경우\n",
    "d = {\"name\":\"장경희\", \"age\":45, \"address\":\"인수동\"}\n",
    "personal_info(**d) # 딕셔너리 형태로 호출할 때는 언패킹을 두번 해야 함"
   ]
  },
  {
   "cell_type": "code",
   "execution_count": null,
   "id": "714b1ab2",
   "metadata": {},
   "outputs": [],
   "source": []
  },
  {
   "cell_type": "markdown",
   "id": "5a2e4be2",
   "metadata": {},
   "source": [
    "# 람다 표현식"
   ]
  },
  {
   "cell_type": "markdown",
   "id": "f080c2d7",
   "metadata": {},
   "source": [
    "- lambda 매개변수 : 식1 if 조건식 else 식2"
   ]
  },
  {
   "cell_type": "code",
   "execution_count": null,
   "id": "f3913540",
   "metadata": {},
   "outputs": [],
   "source": []
  },
  {
   "cell_type": "markdown",
   "id": "c6599d5f",
   "metadata": {},
   "source": [
    "- map(함수, 반복 가능한 객체) : 반복 가능한 객체에 함수를 일괄 적용\n",
    "\n",
    "- filter(함수, 반복 가능한 객체) : 반복 가능한 객체에 함수에서 출력하는 조건에 맞는 것만 가져옴"
   ]
  },
  {
   "cell_type": "code",
   "execution_count": null,
   "id": "82dd949f",
   "metadata": {},
   "outputs": [],
   "source": []
  },
  {
   "cell_type": "markdown",
   "id": "e0023a58",
   "metadata": {},
   "source": [
    "# 변수의 사용 범위\n"
   ]
  },
  {
   "cell_type": "markdown",
   "id": "eec2f34d",
   "metadata": {},
   "source": [
    "- 함수 안에서 선언된 변수를 함수 밖에서도 적용하고 싶다면 'global 변수 =' 사용"
   ]
  },
  {
   "cell_type": "code",
   "execution_count": null,
   "id": "5c68a9e4",
   "metadata": {},
   "outputs": [],
   "source": []
  },
  {
   "cell_type": "markdown",
   "id": "ee8164cb",
   "metadata": {},
   "source": [
    "# 클래스"
   ]
  },
  {
   "cell_type": "markdown",
   "id": "9b9e416c",
   "metadata": {},
   "source": [
    "**클래스를 이용해서 int 와 같은 성질을 가진 새로운것을 생성**\n",
    "\n",
    "-int.xxxxx --> xxxx자리에 들어갈 수 있는 것 들이 있는것처럼 우리가 만든 class에 사용할 xxxx(메서드) 들을 직접 만드는거임 \n",
    "\n",
    "```\n",
    "class 클래스이름 :   # 붕어빵의 틀\n",
    "    def __init__(self,매개변수1, 매개변수2,,,,,,):\n",
    "        self.속성1 = 매개변수1\n",
    "        self.속성2 = 매개변수2  # 붕어빵의 앙꼬\n",
    "        self.__속성3 = 값 : 비공개속성\n",
    "        \n",
    "    def 메서드(self):\n",
    "        코드\n",
    "```      \n",
    "\n",
    "\n",
    "```\n",
    "인스턴스 = 클래스()  # 붕어빵\n",
    "```\n",
    "\n",
    "```\n",
    "인스턴스.메서드()\n",
    "```\n"
   ]
  },
  {
   "cell_type": "code",
   "execution_count": 16,
   "id": "907cdf3b",
   "metadata": {},
   "outputs": [],
   "source": [
    "# __inti_ 로 인해 만들어진 내용은 함수출력안해고 무조건 거쳐가서 출력"
   ]
  },
  {
   "cell_type": "markdown",
   "id": "7c5ddff9",
   "metadata": {},
   "source": [
    "# 클래스 속성과 인스턴스 속성"
   ]
  },
  {
   "cell_type": "markdown",
   "id": "89b1bea5",
   "metadata": {},
   "source": [
    "- 클래스 속성 : 모든 인스턴스들이 공유. 인스턴스 전체가 사용해야 하는 값을 저장할 때 사용 __inti___미작성하고 사용\n",
    "\n",
    "- 인스턴스 속성 : 인스턴스별로 독립되어 있음. 각 인스턴스가 값을 따로 저장해야 할 때 사용"
   ]
  },
  {
   "cell_type": "markdown",
   "id": "820d258a",
   "metadata": {},
   "source": [
    "**정적메서드**\n",
    "\n",
    "```\n",
    "class 클래스이름:\n",
    "    @staticmethod\n",
    "    def 메서드(매개변수1, 매개변수2, ...):\n",
    "        코드\n",
    "```        "
   ]
  },
  {
   "cell_type": "code",
   "execution_count": 19,
   "id": "49927bac",
   "metadata": {},
   "outputs": [
    {
     "name": "stdout",
     "output_type": "stream",
     "text": [
      "30\n"
     ]
    }
   ],
   "source": [
    "class Calc: #import --- 랑 비슷한 성질인 느낌\n",
    "    @staticmethod\n",
    "    def add(a, b):\n",
    "        print(a + b)\n",
    "        \n",
    "    @staticmethod\n",
    "    def mul(a, b):\n",
    "        print(a * b)\n",
    "        \n",
    "Calc.add(10, 20) # 클래스에서 바로 메서드 호출 (인스턴스 만들 필요 없음)\n",
    "\n",
    "\n",
    "# 인스턴스 값에 따라 달라질 필요없이 항상 같은 내용을 출력할 떄 사용하면 되는듯"
   ]
  },
  {
   "cell_type": "markdown",
   "id": "bc2e98b6",
   "metadata": {},
   "source": [
    "**인스턴스 메서드 vs 정적 메서드**"
   ]
  },
  {
   "cell_type": "code",
   "execution_count": 21,
   "id": "ec840734",
   "metadata": {},
   "outputs": [
    {
     "name": "stdout",
     "output_type": "stream",
     "text": [
      "{1, 2, 3, 4}\n"
     ]
    }
   ],
   "source": [
    "# 1. 인스턴스 메서드 예\n",
    "a = {1, 2, 3} # 세트 자료형\n",
    "b = {2, 3, 4}\n",
    "\n",
    "# a와 b의 합집합\n",
    "a.update(b)\n",
    "print(a)\n",
    "\n",
    "# a라는 것은 set 이라는 클래스의 인스턴스\n",
    "# a.update(인스턴스 메서드) 통해서 a 인스턴스의 상태가 변화됨(결과물이 저장이 됨)"
   ]
  },
  {
   "cell_type": "code",
   "execution_count": 22,
   "id": "9c5253eb",
   "metadata": {},
   "outputs": [
    {
     "name": "stdout",
     "output_type": "stream",
     "text": [
      "{1, 2, 3, 4}\n"
     ]
    }
   ],
   "source": [
    "# 2. 정적 메서드\n",
    "a = {1, 2, 3} # 세트 자료형\n",
    "b = {2, 3, 4}\n",
    "\n",
    "# a와 b의 합집합\n",
    "print(set.union(a, b))\n",
    "\n",
    "# set.union은 정적 메서드를 호출한 방식으로\n",
    "# a, b 인스턴스에는 변화가 없음"
   ]
  },
  {
   "cell_type": "code",
   "execution_count": null,
   "id": "45d5d7c6",
   "metadata": {},
   "outputs": [],
   "source": []
  },
  {
   "cell_type": "markdown",
   "id": "d57abd69",
   "metadata": {},
   "source": [
    "# 클래스 상속 사용하기"
   ]
  },
  {
   "cell_type": "markdown",
   "id": "4f0e2d5e",
   "metadata": {},
   "source": [
    "```\n",
    "class 기반클래스이름:\n",
    "    코드\n",
    "  \n",
    "class 파생클래스이름(기반클래스)\n",
    "\n",
    "```\n",
    "\n",
    "상속받은 부모 클래스(Person) 의 기능까지도 가능 (함수)"
   ]
  },
  {
   "cell_type": "markdown",
   "id": "9ba1bf87",
   "metadata": {},
   "source": [
    "**메서드 오버라이딩**"
   ]
  },
  {
   "cell_type": "code",
   "execution_count": 24,
   "id": "4e262a08",
   "metadata": {},
   "outputs": [],
   "source": [
    "class Person:          \n",
    "    def greeting(self):\n",
    "        print(\"안녕하세요\")\n",
    "        \n",
    "class Student(Person):        \n",
    "    def greeting(self):\n",
    "        super().greeting()   # 부모클래스의 greeting 함수도 출력시킴(오버라이딩)\n",
    "        print(\"저는 인공지능 과정 22기 학생입니다.\")   "
   ]
  },
  {
   "cell_type": "code",
   "execution_count": null,
   "id": "857c48d8",
   "metadata": {},
   "outputs": [],
   "source": []
  },
  {
   "cell_type": "markdown",
   "id": "b95cde79",
   "metadata": {},
   "source": [
    "**추상 클래스**\n",
    "\n",
    "```\n",
    "from abc import *\n",
    "\n",
    "class 추상클래스(metaclass=ABCMeta):\n",
    "    @abstractmethod\n",
    "    def 메서드이름(self):\n",
    "        코드\n",
    "    \n",
    "``` "
   ]
  },
  {
   "cell_type": "code",
   "execution_count": 26,
   "id": "a595caee",
   "metadata": {},
   "outputs": [],
   "source": [
    "from abc import *\n",
    "\n",
    "class StudentBase(metaclass=ABCMeta):\n",
    "    @abstractmethod\n",
    "    def study(self):\n",
    "        pass\n",
    "    \n",
    "    @abstractmethod\n",
    "    def gotoschool(self):\n",
    "        pass"
   ]
  },
  {
   "cell_type": "code",
   "execution_count": 27,
   "id": "22babaa3",
   "metadata": {},
   "outputs": [],
   "source": [
    "# 추상클래스에서 지정한 메서드들이 반드시 채워져야 함\n",
    "class Student(StudentBase):\n",
    "    def study(self):\n",
    "        print(\"공부하기\")\n",
    "    \n",
    "    def gotoschool(self):\n",
    "        print(\"학교가기\")"
   ]
  },
  {
   "cell_type": "code",
   "execution_count": null,
   "id": "a83a954d",
   "metadata": {},
   "outputs": [],
   "source": []
  },
  {
   "cell_type": "markdown",
   "id": "cc5ac5ae",
   "metadata": {},
   "source": [
    "# 예외 처리하기\n",
    "- 예외처리는 에러가 발생하더라도 스크립트 실행을 중단하지 않고 계속 실행하고자 할 때 사용함\n",
    "\n",
    "```\n",
    "try:\n",
    "    실행할코드\n",
    "except:\n",
    "    예외가 발생했을 때 처리할 코드\n",
    "```"
   ]
  },
  {
   "cell_type": "markdown",
   "id": "4a77a397",
   "metadata": {},
   "source": [
    "```\n",
    "# 특정 예외만 처리하기\n",
    "try:\n",
    "    실행할코드\n",
    "except 예외이름1:\n",
    "    예외가 발생했을 때 처리할 코드\n",
    "except 예외이름2:\n",
    "    예외가 발생했을 때 처리할 코드\n",
    "\n",
    "```"
   ]
  },
  {
   "cell_type": "markdown",
   "id": "0041b1b7",
   "metadata": {},
   "source": [
    "```\n",
    "# 특정 예외만 처리하기 , 예외의 정보에 대해 출력 \n",
    "try:\n",
    "    실행할코드\n",
    "except 예외이름 as 변수:\n",
    "    예외가 발생했을 때 처리할 코드\n",
    "\n",
    "```"
   ]
  },
  {
   "cell_type": "markdown",
   "id": "6a8f9209",
   "metadata": {},
   "source": [
    "```\n",
    "# 예외 최종 정리\n",
    "try:\n",
    "    실행할코드\n",
    "except 예외이름 as 변수:\n",
    "    예외가 발생했을 때 처리할 코드\n",
    "else: \n",
    "    예외가 발생하지 않았을 때 실행할 코드\n",
    "finally:\n",
    "    예외 발생 여부와 상관없이 항상 실행할 코드\n",
    "\n",
    "```"
   ]
  },
  {
   "cell_type": "markdown",
   "id": "25f79179",
   "metadata": {},
   "source": [
    "```\n",
    "# 나만의 예외 만들기\n",
    "\n",
    "raise Exception(\"에러메세지\")\n",
    "```"
   ]
  },
  {
   "cell_type": "code",
   "execution_count": 29,
   "id": "a630193b",
   "metadata": {},
   "outputs": [
    {
     "name": "stdout",
     "output_type": "stream",
     "text": [
      "3의 배수를 입력하세요.5\n",
      "예외가 발생했습니다. 3의 배수가 아닙니다.\n"
     ]
    }
   ],
   "source": [
    "try:\n",
    "    x = int(input(\"3의 배수를 입력하세요.\"))\n",
    "    if x % 3 != 0 : # 3으로 나눴을때 나머지가 0이 아님. 3의 배수가 아님\n",
    "        raise Exception(\"3의 배수가 아닙니다.\") #새로운 예외를 하나 만듦\n",
    "except Exception as e:\n",
    "    print(\"예외가 발생했습니다.\", e)"
   ]
  },
  {
   "cell_type": "code",
   "execution_count": null,
   "id": "f894139b",
   "metadata": {},
   "outputs": [],
   "source": []
  },
  {
   "cell_type": "markdown",
   "id": "b6cd1461",
   "metadata": {},
   "source": [
    "이레이터, 제너레이터는 모르겠음 ㅜㅜ"
   ]
  },
  {
   "cell_type": "code",
   "execution_count": 1,
   "id": "e3b39922",
   "metadata": {
    "collapsed": true
   },
   "outputs": [
    {
     "ename": "SyntaxError",
     "evalue": "invalid syntax (1366390174.py, line 1)",
     "output_type": "error",
     "traceback": [
      "\u001b[1;36m  Input \u001b[1;32mIn [1]\u001b[1;36m\u001b[0m\n\u001b[1;33m    리스트 등 반복가능 한 것.__iter__()\u001b[0m\n\u001b[1;37m        ^\u001b[0m\n\u001b[1;31mSyntaxError\u001b[0m\u001b[1;31m:\u001b[0m invalid syntax\n"
     ]
    }
   ],
   "source": [
    "리스트 등 반복가능 한 것.__iter__() "
   ]
  },
  {
   "cell_type": "markdown",
   "id": "0de4438e",
   "metadata": {},
   "source": [
    "\n",
    "\n",
    "- 제너레이터 : 이터레이터를 만들어 주는 또다른 방식(함수를 사용)\n",
    "\n",
    "- 제터레이터는 이터레이터를 생성해 주는 함수\n",
    "- 이터레이터에서는 클래스 안에 __iter__(), __next__(), __getitem__() 메서드들을 구현해야 하지만\n",
    "- 제너레이터는 함수 안에서 yield 라는 키워드만 사용하면 간단히 작성할 수 있음\n"
   ]
  },
  {
   "cell_type": "code",
   "execution_count": 2,
   "id": "be7f8136",
   "metadata": {},
   "outputs": [],
   "source": [
    "def number_generator():\n",
    "    yield 0\n",
    "    yield 1\n",
    "    yield 2"
   ]
  },
  {
   "cell_type": "code",
   "execution_count": null,
   "id": "c420cedd",
   "metadata": {},
   "outputs": [],
   "source": []
  },
  {
   "cell_type": "code",
   "execution_count": null,
   "id": "e936666f",
   "metadata": {},
   "outputs": [],
   "source": []
  },
  {
   "cell_type": "markdown",
   "id": "c565856b",
   "metadata": {},
   "source": [
    "# 모듈과 패키지"
   ]
  },
  {
   "cell_type": "markdown",
   "id": "da4b1ef2",
   "metadata": {},
   "source": [
    "- import 모듈\n",
    "- import 모듈1, 모듈2\n",
    "\n",
    "- 모듈.변수\n",
    "- 모듈.함수()\n",
    "- 모듈.클래스()"
   ]
  },
  {
   "cell_type": "markdown",
   "id": "8c668dc6",
   "metadata": {},
   "source": [
    "- import 모듈 as 이름   ---> 모듈 이름을 정함"
   ]
  },
  {
   "cell_type": "markdown",
   "id": "ca6af9b2",
   "metadata": {},
   "source": [
    "- from 모듈 import 변수, 함수, 클래스"
   ]
  },
  {
   "cell_type": "markdown",
   "id": "bbcbcda3",
   "metadata": {},
   "source": [
    "- 패키지 사용시 모듈 앞에 -> 패키지.모듈 대입"
   ]
  },
  {
   "cell_type": "code",
   "execution_count": null,
   "id": "c7c7b205",
   "metadata": {},
   "outputs": [],
   "source": []
  },
  {
   "cell_type": "markdown",
   "id": "3fc87d81",
   "metadata": {},
   "source": [
    "# 모듈 만들기"
   ]
  },
  {
   "cell_type": "markdown",
   "id": "d32c739e",
   "metadata": {},
   "source": [
    "텍스트 파일 만들기(.py) -> 파일이 모듈이 됨 -> 파일 이름이 모듈 이름"
   ]
  },
  {
   "cell_type": "markdown",
   "id": "c367edba",
   "metadata": {},
   "source": [
    "- --name--을 출력했을 때 --main--으로 인식되는 모듈만 인식을 할 수 있음\n",
    "\n",
    "- 다른 모듈안에서 모듈로 인식된 것들은 메인으로 인식되지않고, 모듈로 인식되어 name이 파일명으로 출력"
   ]
  },
  {
   "cell_type": "code",
   "execution_count": null,
   "id": "ac4f47a9",
   "metadata": {},
   "outputs": [],
   "source": []
  },
  {
   "cell_type": "markdown",
   "id": "dad4b25d",
   "metadata": {},
   "source": [
    "# 패키지 만들기"
   ]
  },
  {
   "cell_type": "markdown",
   "id": "c4bf86ca",
   "metadata": {},
   "source": [
    "- 폴더 만들기->--init--.py 만들기(내용없어도됨) -> 동일 폴더에 다른 파일들(모듈) 만들기 "
   ]
  },
  {
   "cell_type": "markdown",
   "id": "8dec71cf",
   "metadata": {},
   "source": [
    "-  __init__.py에 모듈을 미리 import 시켜 놓으면 패키지만 import 해도 모듈을 사용할 수 있음"
   ]
  },
  {
   "cell_type": "code",
   "execution_count": null,
   "id": "c81b0333",
   "metadata": {},
   "outputs": [],
   "source": []
  },
  {
   "cell_type": "code",
   "execution_count": null,
   "id": "d6745af0",
   "metadata": {},
   "outputs": [],
   "source": []
  }
 ],
 "metadata": {
  "kernelspec": {
   "display_name": "Python 3 (ipykernel)",
   "language": "python",
   "name": "python3"
  },
  "language_info": {
   "codemirror_mode": {
    "name": "ipython",
    "version": 3
   },
   "file_extension": ".py",
   "mimetype": "text/x-python",
   "name": "python",
   "nbconvert_exporter": "python",
   "pygments_lexer": "ipython3",
   "version": "3.9.12"
  }
 },
 "nbformat": 4,
 "nbformat_minor": 5
}
