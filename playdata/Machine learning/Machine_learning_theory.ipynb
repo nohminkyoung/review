{
 "cells": [
  {
   "cell_type": "markdown",
   "id": "4b371db9",
   "metadata": {},
   "source": [
    "## 머신러닝의 유형 \n",
    "- 지도학습 : 정답을 포함하고 있는 데이터를 이용해 분류와 수치 예측\n",
    "    - 종류 : 선형회귀, 결정트리, 랜덤 포레스트 등등\n",
    "- 비지도학습 : 정답을 미포함한 데이터를 이용해 문제의 설명 특징도출, 정보나 패턴을 탐색하고자 할 때\n",
    "    - 종류 : 군집화, 차원 축소 기법, 연관 관계 분석 등\n",
    "- 강화학습 : 행동 중 보상을 최대화 하는 행동 혹은 행동순서를 선택 , 보상을 통하여 학습을 진행"
   ]
  },
  {
   "cell_type": "code",
   "execution_count": null,
   "id": "c8f49ebe",
   "metadata": {},
   "outputs": [],
   "source": []
  },
  {
   "cell_type": "markdown",
   "id": "ebcbfc0b",
   "metadata": {},
   "source": [
    "## 머신러닝의 절차\n",
    "1. 데이터 수집\n",
    "2. 데이터 전처리\n",
    "    - 결측값 처리, 중복데이터 삭제, 분석변수처리 등\n",
    "3. EDA(탐색적 데이터 분석)\n",
    "    - 데이터 시각화, 기초 통계량 이해 등\n",
    "4. 모델선택\n",
    "    - 회기모델, 분류모델 구분 /  성능을 최적화 하는 모델 \n",
    "5. 평가"
   ]
  },
  {
   "cell_type": "code",
   "execution_count": null,
   "id": "675f0c16",
   "metadata": {},
   "outputs": [],
   "source": []
  },
  {
   "cell_type": "markdown",
   "id": "82e812ef",
   "metadata": {},
   "source": [
    "# 훈련데이터와 평가데이터 나누기 \n",
    "- 일반적으로 훈련데이터가 80% , 평가데이터가 20% 정도의 비율을 차지한다\n",
    "- 교차검증이 아닌 검증데이터를 따로 사용하기 위해 훈련데이터를 한번 더 훈련과 검증으로 나누기도 한다\n",
    "- 훈련데이터를 전처리한 과정을 똑같이 평가데이터도 전처리 해줘야함"
   ]
  },
  {
   "cell_type": "markdown",
   "id": "a02bfc2d",
   "metadata": {},
   "source": [
    "### train_test_split 사용하기\n",
    "- from sklearn.model_select import train_test_split\n",
    "- x_train,y_train,x_test,y_test = train_test_split(data, test_size = )\n",
    "\n",
    "* 완전 무작위로 train과 test를 나누지 않고 어떠한 특성에 의존해 균등한 분포를 가지게 하기위해선 \n",
    "- stratify= data['특정컬럼'] 의 옵션을 추가 (특정 컬럼의 값이 적절한 비율로 나눠지도록 test와 train이 나눠진다)"
   ]
  },
  {
   "cell_type": "code",
   "execution_count": null,
   "id": "3e583b03",
   "metadata": {},
   "outputs": [],
   "source": []
  },
  {
   "cell_type": "markdown",
   "id": "6ee5f48e",
   "metadata": {},
   "source": [
    "# 데이터 전처리 "
   ]
  },
  {
   "cell_type": "markdown",
   "id": "080f671b",
   "metadata": {},
   "source": [
    "### 결손값 처리하기 - pandas \n",
    "- isnull() : 결손값 확인\n",
    "- dropna() : 결손값 삭제하기 \n",
    "- fillna(특정값) : 결손값 특정값으로 대체하기 "
   ]
  },
  {
   "cell_type": "markdown",
   "id": "1784c9fe",
   "metadata": {},
   "source": [
    "### 결손값 처리하기 - sklearn\n",
    "- from sklearn.impute import SimpleImputer\n",
    "- imputer = SimpleImputer(strategy='median') : 변환기 객체 생성\n",
    "- imputer.fit_transform(data) : 변환"
   ]
  },
  {
   "cell_type": "markdown",
   "id": "74474dc6",
   "metadata": {},
   "source": [
    "### 인코딩 하기 - pandas\n",
    "- 레이블 인코딩 : pd.factorize()\n",
    "- 원핫 인코딩 : pd.get_dummies()"
   ]
  },
  {
   "cell_type": "markdown",
   "id": "eb33470e",
   "metadata": {},
   "source": [
    "### 인코딩 하기 - sklearn\n",
    "- 레이블 인코딩\n",
    "    - from sklearn.preprocessing import OrdinalEncoder\n",
    "- 원핫 인코딩\n",
    "    - from sklearn.preprocessing import OneHotEncoder"
   ]
  },
  {
   "cell_type": "markdown",
   "id": "d2f149f0",
   "metadata": {},
   "source": [
    "### 스케일링 하기 - sklearn\n",
    "- MinMax : 최대값을 1, 최소값을 0으로 정규화(이상치에 영향을 받는다)\n",
    "    - from sklearn.preprocessing import MinMaxScaler\n",
    "- Standard : 평균 0, 표준편차 1을 만족하는 정규분포\n",
    "    - from sklearn.preprocessing import StandardScaler"
   ]
  },
  {
   "cell_type": "markdown",
   "id": "a4999cbf",
   "metadata": {},
   "source": [
    "    * 참고사항\n",
    "```\n",
    "- 변환기의 학습(fit)은 train데이터에서만 사용해야한다\n",
    "- test데이터에는 train데이터로 학습한 변환기를 이용해 transform만 실시해주면 된다\n",
    "     - test데이터도 학습(fit)하면 기존 train 데이터만 가지고 학습했을때와 조건이 달라진다. \n",
    "     - test에도 train에 적용되었던 동일한 조건을 적용하기 위해서 train에만 fit\n",
    "```"
   ]
  },
  {
   "cell_type": "markdown",
   "id": "41702706",
   "metadata": {},
   "source": [
    "\n",
    "     * 나만의 변환기\n",
    "```\n",
    "# 1. 아래 형식을 그대로 가져가기\n",
    "class 나만의변환기(BaseEstimator, TransformerMixin):\n",
    "    def __init__(self):\n",
    "        # 초기값 만들어주기\n",
    "    \n",
    "    def fit(self, X, y=None):\n",
    "        # 변환단계에서 준비되어야 할 내용 작성\n",
    "        \n",
    "    def transform(self, X):\n",
    "        # 변환될 내용 작성\n",
    "\n",
    "\n",
    "```"
   ]
  },
  {
   "cell_type": "markdown",
   "id": "db4bc333",
   "metadata": {},
   "source": [
    "### 파이프라인 사용하기 \n",
    "- 변환을 한번에\n",
    "- from sklearn.pipeline import Pipeline"
   ]
  },
  {
   "cell_type": "markdown",
   "id": "20f0dd55",
   "metadata": {},
   "source": [
    "    * pipeline ex)\n",
    " \n",
    "    num_pipeline =  Pipeline([\n",
    "                   (\"변환기이름1\", SimpleImputer(strategy='median')), \n",
    "                   (\"변환기이름2\", CombinedAttributesAdder()),\n",
    "                   (\"변환기이름3\", StandardScaler()), \n",
    "               ])\n",
    "               \n",
    "    housing_num_tr = num_pipeline.fit_transform(data)"
   ]
  },
  {
   "cell_type": "markdown",
   "id": "438bc807",
   "metadata": {},
   "source": [
    "### ColumnTransformer 사용하기\n",
    "- 컬럼에 특성에 따라 변환을 해주는 형식이 다를때 여러개의 파이프라인을 사용한다\n",
    "- 이 파이프라인을 거친 데이터를 다시 하나의 데이터로 합쳐줘야한다\n",
    "- ColumnTransformer : 위의 두 과정을 한번에 실시\n",
    "- from sklearn.compose import ColumnTransformer"
   ]
  },
  {
   "cell_type": "markdown",
   "id": "0b84e5f0",
   "metadata": {},
   "source": [
    "     * ColumnTransformer ex)\n",
    "     수치형 데이터 = [수치형데이터의 컬럼들]\n",
    "     범주형 데이터 = [범주형데이터의 컬럼들]\n",
    "     \n",
    "    full_pipeline = ColumnTransformer([\n",
    "                    (\"num\", num_pipeline, 수치형 데이터), \n",
    "                    (\"cat\", cat_pipeline(), 범주형 데이터)  \n",
    "                ])\n",
    "    full_data_prepared = full_pipeline.fit_transform(전체데이터)"
   ]
  },
  {
   "cell_type": "code",
   "execution_count": null,
   "id": "9d641ba9",
   "metadata": {},
   "outputs": [],
   "source": []
  },
  {
   "cell_type": "markdown",
   "id": "25ca00a6",
   "metadata": {},
   "source": [
    "# 모델 선정하기 "
   ]
  },
  {
   "cell_type": "markdown",
   "id": "8a6adabb",
   "metadata": {},
   "source": [
    "    * 모델 훈련 및 예측 시키기 ex)\n",
    "    모델 선정 : model = LinearRegression()\n",
    "    모델 훈련 : model.fit(x_train,y_train)\n",
    "    예측 하기 : model.predict(x_test)"
   ]
  },
  {
   "cell_type": "markdown",
   "id": "c6684641",
   "metadata": {},
   "source": [
    "## 모델 검증하기\n",
    "- 모델 학습중에는 test데이터를 이용해 모델을 평가할 수 없다\n",
    "1. 검증데이터를 사용해 평가한다\n",
    "2. 교차검증을 실시해 평가한다"
   ]
  },
  {
   "cell_type": "markdown",
   "id": "0df0248a",
   "metadata": {},
   "source": [
    "1. 검증데이터 사용 \n",
    "    - 학습 전 train데이터 일부를 검증데이터로 분류\n",
    "    - 학습 된 모델을 이용해 검증데이터를 예측한 후 y값과 비교\n",
    "    - 데이터가 적을 때 사용하기 힘들다는 단점이 있음1"
   ]
  },
  {
   "cell_type": "markdown",
   "id": "bbf6ceda",
   "metadata": {},
   "source": [
    "2. 교차검증 사용 \n",
    "    - 홀드아웃, k-fold, LOOCV등의 검증방법이 있음\n",
    "    - sklearn에서 제공하는 cross_val_score를 사용하면 k-fold형식의 교차검증을 실시\n",
    "        - from sklearn.model_selection import cross_val_score"
   ]
  },
  {
   "cell_type": "markdown",
   "id": "8e08e008",
   "metadata": {},
   "source": [
    "```\n",
    "* cross_val_score()\n",
    "\n",
    "    from sklearn.model_selection import cross_val_score\n",
    "    \n",
    "    score = cross_val_score(model, x_train,y_train, scoring=\"평가지표\",cv=나눌그룹의수)\n",
    "    \n",
    "    -> score는 cv의 개수만큼 list의 요소로 나타남, 평균을 내야 최종 score로 생각할 수 있다\n",
    "```"
   ]
  },
  {
   "cell_type": "markdown",
   "id": "03230d36",
   "metadata": {},
   "source": [
    "    * cross_validate를 사용하면 한번에 여러개의 평가지표를 사용할 수 있다\n",
    "      또 결과값으로 fit_time,score_time,test_score이 딕셔너리의 형태로 출력된다\n",
    "      return_train_score 파라미터를 True 로 설정하면 train_score도 출력된다"
   ]
  },
  {
   "cell_type": "markdown",
   "id": "2b24029e",
   "metadata": {},
   "source": [
    "## 하이퍼파라미터 튜닝하기\n",
    "- 하이퍼파라미터 : 사용자가 지정해줘야하는 파라미터\n",
    "- 파라미터를 바꿔줄 때 마다 검증을 하지 않고 Grid Search를 이용해 최적의 모델을 찾음\n",
    "    - from sklearn.model_selection import GridSearchCV\n",
    "- 파라미터와 경우의 수를 딕셔너리 형태로 정의해 줘 경우의수 중 최적의 조합을 찾음"
   ]
  },
  {
   "cell_type": "markdown",
   "id": "4a739ea7",
   "metadata": {},
   "source": [
    "```\n",
    "    * GridSearch()\n",
    "from sklearn.model_selection import GridSearch\n",
    "\n",
    "parms = {'파라미터' ; [경우1, 경우2, 경우3]}\n",
    "\n",
    "gridsearch_model = GridSearchCV(model, parms, scoring=평가지표, cv=교차검증개수, n_jobs=-1)\n",
    "```"
   ]
  },
  {
   "cell_type": "markdown",
   "id": "37b39ba5",
   "metadata": {},
   "source": [
    "- GridSearch를 사용하면\n",
    "- best_estimator_ 에 훈련된 모델이 저장되어있음\n",
    "- best_params_ 를 이용해 가장좋은 파라미터를 확인\n",
    "- cv_results_ 를 사용하면 각 파라미터일때의 점수도 확인가능\n",
    "- best_estimator_에 feature_importances_를 사용하면 각 컬럼의 가중치를 확인가능"
   ]
  },
  {
   "cell_type": "markdown",
   "id": "fbc9b36c",
   "metadata": {},
   "source": [
    "- RandomizedSearch를 사용하기 \n",
    "    - gridsearch와 비슷하지만, 파라미터의 목록을 전달하는것이 아니고 랜덤하거나 균등하게 나눠져있는 범위를 전달\n",
    "    - n_iter만큼의 랜덤뽑기를 한 후 최적의 파라미터를 조합을 출력함\n",
    "    - 그 외의것은 gridsearch와 동일"
   ]
  },
  {
   "cell_type": "markdown",
   "id": "79db0945",
   "metadata": {},
   "source": [
    "```\n",
    "    *RandomizedSearch()\n",
    "from sklenarn.model_selection import RandomizedSearch\n",
    "\n",
    "prams = {'파라미터1' : umiform(0.0001,0.001),\n",
    "         '파라미터2' : randint(20,50)}\n",
    "         \n",
    "randomsearch_model = RandomizedSearch(model, parms, n_iter=횟수, scoring=평가지표)\n",
    "```"
   ]
  },
  {
   "cell_type": "code",
   "execution_count": null,
   "id": "7d48db17",
   "metadata": {},
   "outputs": [],
   "source": []
  },
  {
   "cell_type": "markdown",
   "id": "979dd790",
   "metadata": {},
   "source": [
    "# 평가"
   ]
  },
  {
   "cell_type": "markdown",
   "id": "518d27df",
   "metadata": {},
   "source": [
    "## 과대적합 \n",
    "- train데이터에 대한 점수는 높지만 test데이터에 대한 평가는 저조한 경우\n",
    "\n",
    "#### 과대적합 해결방법 \n",
    "1. train 데이터의 수를 더 늘린다\n",
    "2. train 데이터의 이상치를 제거한다\n",
    "3. 모델의 복잡도를 낮춘다\n",
    "4. train에 불필요한 특성은 제거한다"
   ]
  },
  {
   "cell_type": "markdown",
   "id": "bd8bc659",
   "metadata": {},
   "source": [
    "## 과소적합\n",
    "- train,test의 평가가 모두 저조하거나, test의 점수가 더 높은 경우\n",
    "\n",
    "#### 과소적합 해결방법\n",
    "1. 파라미터가 더 많은 복잡한 모델을 선택한다\n",
    "2. 더 좋은 특성을 추가한다\n",
    "3. 모델의 제약을 줄여준다"
   ]
  },
  {
   "cell_type": "code",
   "execution_count": null,
   "id": "e85e87ec",
   "metadata": {},
   "outputs": [],
   "source": []
  }
 ],
 "metadata": {
  "kernelspec": {
   "display_name": "Python 3 (ipykernel)",
   "language": "python",
   "name": "python3"
  },
  "language_info": {
   "codemirror_mode": {
    "name": "ipython",
    "version": 3
   },
   "file_extension": ".py",
   "mimetype": "text/x-python",
   "name": "python",
   "nbconvert_exporter": "python",
   "pygments_lexer": "ipython3",
   "version": "3.9.12"
  }
 },
 "nbformat": 4,
 "nbformat_minor": 5
}
