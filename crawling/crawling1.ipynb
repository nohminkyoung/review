{
 "cells": [
  {
   "cell_type": "markdown",
   "id": "6023f5ea",
   "metadata": {},
   "source": [
    "# BeautifulSoup \n",
    "\n",
    "- html문서를 파싱하기 위해 사용\n",
    "- 파싱 : html코드를 이해하고 요소별로 코드를 분리하는 작업(해석함) / 텍스트의 구성 성분을 세부 단위로 분해\n"
   ]
  },
  {
   "cell_type": "markdown",
   "id": "371f8bd2",
   "metadata": {},
   "source": [
    "- from bs4 import BeautifulSoup"
   ]
  },
  {
   "cell_type": "markdown",
   "id": "836bdd42",
   "metadata": {},
   "source": [
    "- prettify() : 파싱 결과를 보기 편하게 html구조로 보는 방법\n",
    "- soup.find(\"태그명\") : 태그명으로 시작하는 첫번째 구문만 찾음\n",
    "- soup.find_all(\"태그명\") : 태그명으로 시작하는 모든 구문 찾음(리스트 형태로 출력 -> 인덱스 사용해서 하나의 요소씩 출력가능)\n",
    "- soup.find('태그명', {'태그명 예하': '값'}) : 태그명 아래의 여러 구문 중 일부만 가져올 때\n",
    "- soup.태그명 : 이렇게도 찾을 수 있음\n",
    "- soup.get_text() : 텍스트값만 가져올때\n",
    "- soup.find_all() = soup.select()\n",
    "- soup.select(태그명 자손태그명) : 태그아래의 자손들만\n",
    "- soup.select(태그명>자식태그명) : 태그바로아래의 자식들만\n",
    "- soup.select('p#author') = soup.find_all('p', {'id':'author'})//(id = #, class=.)\n",
    "- soup.a.attrs :  해당태그(a) 의 속성 전체를 확인 할 수 있음"
   ]
  },
  {
   "cell_type": "code",
   "execution_count": null,
   "id": "49cb52d5",
   "metadata": {},
   "outputs": [],
   "source": []
  },
  {
   "cell_type": "markdown",
   "id": "a1d75cc0",
   "metadata": {},
   "source": [
    "# request 라이브러리\n",
    "- url의 html을 불러옴"
   ]
  },
  {
   "cell_type": "markdown",
   "id": "58f33e87",
   "metadata": {},
   "source": [
    "- import requests\n",
    "- -\n",
    "- requests.get(\"url\")"
   ]
  },
  {
   "cell_type": "markdown",
   "id": "b3043532",
   "metadata": {},
   "source": [
    "- res.status_code : 응답코드가 뭔지 알아보는 코드\n",
    "- res.raise_for_status() : request가 잘 이루어졌는지 확인"
   ]
  },
  {
   "cell_type": "code",
   "execution_count": null,
   "id": "d1dbf28e",
   "metadata": {},
   "outputs": [],
   "source": []
  },
  {
   "cell_type": "markdown",
   "id": "f04aefa7",
   "metadata": {},
   "source": [
    "# selenium 정리\n",
    "- 설치 : conda install selenium(anaconda promot사용)\n"
   ]
  },
  {
   "cell_type": "markdown",
   "id": "33a6a95f",
   "metadata": {},
   "source": [
    "- import selenium \n",
    "- from selenium import webdriver"
   ]
  },
  {
   "cell_type": "markdown",
   "id": "3fd96e19",
   "metadata": {},
   "source": [
    "- Key의 여러 메서드 사용\n",
    "- from selenium.webdriver.common.keys import Keys"
   ]
  },
  {
   "cell_type": "markdown",
   "id": "3df6a0ca",
   "metadata": {},
   "source": [
    "-Element를 찾는데 필요한 함수들\n",
    "- driver.find_element_by_id\n",
    "- driver.find_element_by_name\n",
    "- driver.find_element_by_tag_name\n",
    "- driver.find_element_by_xpath\n",
    "- driver.find_element_by_css_selector"
   ]
  },
  {
   "cell_type": "code",
   "execution_count": null,
   "id": "2227349a",
   "metadata": {},
   "outputs": [],
   "source": []
  }
 ],
 "metadata": {
  "kernelspec": {
   "display_name": "Python 3 (ipykernel)",
   "language": "python",
   "name": "python3"
  },
  "language_info": {
   "codemirror_mode": {
    "name": "ipython",
    "version": 3
   },
   "file_extension": ".py",
   "mimetype": "text/x-python",
   "name": "python",
   "nbconvert_exporter": "python",
   "pygments_lexer": "ipython3",
   "version": "3.9.12"
  }
 },
 "nbformat": 4,
 "nbformat_minor": 5
}
